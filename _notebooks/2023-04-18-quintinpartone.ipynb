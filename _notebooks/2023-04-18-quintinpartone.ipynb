{
 "cells": [
  {
   "attachments": {},
   "cell_type": "markdown",
   "metadata": {},
   "source": [
    "# Setting up Machines with Conda Scripts\n",
    "> To get started with development, you need tools. You'll learn how to get the necessary tools here using Conda scripts.\n",
    "\n",
    "- toc: true\n",
    "- badges: false\n",
    "- comments: true\n",
    "- author: Paaras Purohit, Chinmay Ramamurthy, Raunak Mondal, Tanay Patel, Qais Jamili\n",
    "- categories: [student]\n",
    "- type: ap\n",
    "- week: 30\n",
    "- permalink: /quintinpartone"
   ]
  },
  {
   "attachments": {},
   "cell_type": "markdown",
   "metadata": {},
   "source": [
    "# GitHub\n",
    "\n",
    "- What is GitHub?\n",
    "- Why do we use GitHub? Why not Google Drive or messages?\n",
    "- What's the difference between Git and GitHub?\n",
    "- Name as many Git commands as you can:"
   ]
  },
  {
   "attachments": {},
   "cell_type": "markdown",
   "metadata": {},
   "source": [
    "# Two Main Machines\n",
    "- Which is better, MacOS or Windows?\n",
    "- Give some differences between MacOS and Windows in terms of the development we use in APCSP:\n",
    "- If you are on Windows, you want to skip the MacOS Setup instructions."
   ]
  },
  {
   "attachments": {},
   "cell_type": "markdown",
   "metadata": {},
   "source": [
    "# MacOS Setup:\n",
    "\n",
    "To start developing, we actually need a programming language. To do that, we need to install [Python2](https://www.python.org/ftp/python/2.7.18/python-2.7.18-macosx10.9.pkg). \n",
    "\n",
    "To use our programming language, we need a tool to code in. This is why we need to install [VSCode](https://code.visualstudio.com/docs/setup/mac)\n",
    "\n",
    "Python is good and all, but we need to use a Python distrubtion to really enhance things. To do that, we need to install [Anaconda](https://www.anaconda.com/products/distribution) Note: Answer YES to all installation questions.\n",
    "\n",
    "When developing, we need files that help us perform tasks, such as running certain kernels, localhost development, and more. These files in one place are known as packages, and we need to get some. To do that, we will [Homebrew](https://brew.sh/), a package manager for Mac developers. Then, in your terminal, paste the command found on the Homebrew website. Follow all necessary instructions.\n",
    "\n",
    "Now that Homebrew is installed, we need to get a list of all the packages. To do that, we can, in our terminal, run ```brew list``` to display the list of packages.\n",
    "\n",
    "This list may or may not be updated... to solve this problem, we need to update the list regardless (if it is already up to date, our updating the list will not do anything). To do that, let's run ```brew update``` to update our package list.\n",
    "\n",
    "Now that we have an updated list of the packages, we want to make sure that each package itself is up to date. The same logic as before with the updating everything applies here. To do that, we run ```brew upgrade``` to upgrade each package.\n",
    "\n",
    "As mentioned, while we do have a GitHub account and all, it is very important that our Git tools are working properly. It is our job to do so. To do that, let's run ```brew install git``` to install the latest version of Git. \n",
    "\n",
    "Although we have already installed Python2, we need Python3, as it is a later and better version. To do that, let's run ```brew install python```. We then need to check if Python3 is installed. To do that, simply run ```python --version```. \n",
    "\n",
    "We also need to run ```brew install java``` to install OpenJDK.\n",
    "\n",
    "**And that's it! You're ready to start developing on Mac! Code, Code, Code!**"
   ]
  },
  {
   "attachments": {},
   "cell_type": "markdown",
   "metadata": {},
   "source": [
    "# Windows Setup\n",
    "\n",
    "Setting up your Windows machine is a little harder. That's because while Mac doesn't need a subsystem for Linux, Windows does. However, using the Windows Subsystem for Linux (WSL), we can set up our machine for great development!\n",
    "\n",
    "To get started, we actually need to install WSL. To do that, let's open Powershell and run the command ```wsl --install```. After this is done installing, restart your computer.\n",
    "\n",
    "Now that we have WSL installed, we need to get a distribution of Linux. In this class, we use Ubuntu, a Linux distribution known for its security. To do that, we first run ```wsl --list```. If Ubuntu is not shown, run ```wsl --list --online```. After you see Ubuntu, we want to run the command ```wsl --install -d Ubuntu-20.04```. The reason we want to install Ubuntu 20.04 instead of Ubuntu is because Ubuntu 20.04 is more compatible with Jekyll's localhost tools that use Ruby 2.7, which we use in this class to preview GitHub Pages.\n",
    "\n",
    "After we now have Ubuntu, we need to install the IDE we used for class. To do that, let's install [VSCode](https://code.visualstudio.com/) for Windows. \n",
    "\n",
    "Now that we have WSL and VSCode, we need to create a folder where we will store our Git repositories. To do that, we will run ```cd ~``` to go to the root directory, ```mkdir vscode``` to make a folder for our Git repositories, ```ls``` to view our *vscode* directory, ```cd ~/vscode``` to go into our project folder.\n",
    "\n"
   ]
  },
  {
   "attachments": {},
   "cell_type": "markdown",
   "metadata": {},
   "source": [
    "# Hacks\n",
    "\n",
    "- Blog about why you need each of the tools installed with Conda scripts (0.3)\n",
    "- Make a video of all the installed tools working or show all installed tools working during live review. This can be done using notebook programs (0.3)\n",
    "- Pick one installation and demonstrate in as much detail as possible on how to use it (0.3)\n",
    "- Extra: Teach someone how to do the machine setup without this notebook. Blog about your teaching; who/what/where/when/how you taught, as well as more details. (0.1)"
   ]
  },
  {
   "attachments": {},
   "cell_type": "markdown",
   "metadata": {},
   "source": [
    "# Next Steps (Lesson Plans)\n",
    "\n",
    "Our plans for the rest of the lesson are to continue with the other bullet points of Conda Scripts, GitHub setup, frontend development, and backend development. We will separate major bullet points into different notebooks so that students can be better organized.\n",
    "\n",
    "Our roles consist of:\n",
    "- Chinmay: Scrum Master, Backend\n",
    "- Tanay: Main Backend\n",
    "- Qais: Lesson and Frontend\n",
    "- Raunak: Backend, Main DevOps\n",
    "- Ederick: Main Frontend\n",
    "- Paaras: Main Lesson"
   ]
  }
 ],
 "metadata": {
  "language_info": {
   "name": "python"
  },
  "orig_nbformat": 4
 },
 "nbformat": 4,
 "nbformat_minor": 2
}
