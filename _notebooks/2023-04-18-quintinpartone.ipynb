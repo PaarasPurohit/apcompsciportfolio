{
 "cells": [
  {
   "attachments": {},
   "cell_type": "markdown",
   "metadata": {},
   "source": [
    "# Developing with Frontend & Backend\n",
    "> To get started with development, you need tools. You'll learn how to get the necessary tools here using Conda scripts.\n",
    "\n",
    "- toc: true\n",
    "- badges: false\n",
    "- comments: true\n",
    "- author: Paaras Purohit, Chinmay Ramamurthy, Raunak Mondal, Tanay Patel, Qais Jamili\n",
    "- categories: [student]\n",
    "- type: ap\n",
    "- week: 30\n",
    "- permalink: /quintinpartone"
   ]
  },
  {
   "attachments": {},
   "cell_type": "markdown",
   "metadata": {},
   "source": [
    "# Setting up Machines with Conda Scripts "
   ]
  },
  {
   "attachments": {},
   "cell_type": "markdown",
   "metadata": {},
   "source": [
    "## GitHub\n",
    "\n",
    "- What is GitHub?\n",
    "- Why do we use GitHub? Why not Google Drive or messages?\n",
    "- What's the difference between Git and GitHub?\n",
    "- Name as many Git commands as you can:"
   ]
  },
  {
   "attachments": {},
   "cell_type": "markdown",
   "metadata": {},
   "source": [
    "## Two Main Machines\n",
    "- Which is better, MacOS or Windows?\n",
    "- Give some differences between MacOS and Windows in terms of the development we use in APCSP:\n",
    "- If you are on Windows, you want to skip the MacOS Setup instructions."
   ]
  },
  {
   "attachments": {},
   "cell_type": "markdown",
   "metadata": {},
   "source": [
    "## Our Tools:\n",
    "\n",
    "- What is the first tool you remember installing?\n",
    "- Why was installations so hard the first time?\n",
    "- Without looking back at previous notes, name three tools you remember installing. This can be kernels, extensions, any installation for APCSP, and also write why it is needed."
   ]
  },
  {
   "attachments": {},
   "cell_type": "markdown",
   "metadata": {},
   "source": [
    "## Actual Installations:\n",
    "\n",
    "Tool setup is a week 0 thing. You should already have the knowledge to set up your machine. There is also a high chance you had to remove your environments and set up your machine again due to errors. If, for some reason, these don't apply to you, go [here](https://nighthawkcoders.github.io/APCSP//techtalk/tools) to set up your machine, [here](https://nighthawkcoders.github.io/APCSP//techtalk/bash) to check everything working with Bash, and [here](https://nighthawkcoders.github.io/APCSP//c7.1/2022/09/12/PBL-fastpages-docker.html) for Docker setup, which are the main tools on our machine needed to develop in APCSP."
   ]
  },
  {
   "attachments": {},
   "cell_type": "markdown",
   "metadata": {},
   "source": [
    "## Setting Up GitHub Pages\n",
    "\n",
    "Some of you may have come to know that GitHub Pages is starting to become outdated. So why do we still use it? The answer is that we are in a class, and following a curriculum with something like GitHub Pages is much easier than creating portfolio content from scratch, which becomes quite unecessary. Therefore, we can use GitHub Pages to create this content instead. On the topic of unecessary vs necessary coding, we don't need to make GitHub Pages from scratch as opposed to using a template that our very own Mr. Mortensen created for us. To do that, we can go to the [Leuck Reunion](https://github.com/jm1021/leuck_reunion) repository and use the template to make our own GitHub Pages. Then, in Ubuntu, we can ```git clone``` our repository and open it in VSCode. After we have it open, the last thing we want to do is set up local hosting for this website, so that we can preview it and make changes in real time. To do that, head [here](https://jekyllrb.com/docs/installation/ubuntu/) to install Jekyll for Ubuntu, [here](https://www.ruby-lang.org/en/documentation/installation/) to install Ruby next, and [here](https://bundler.io/) to finalize the process by installing Bundler."
   ]
  },
  {
   "attachments": {},
   "cell_type": "markdown",
   "metadata": {},
   "source": [
    "## Setting Up FastPages\n",
    "\n",
    "In Setting Up Github Pages, we talked about how it is easier to use a template to create portfolio content. It is also easier to use a template when creating the portfolio itself. To do that, we can use Fastpages, which is what we have been using to show our blogs, code, and projects. However, Fastpages has been deprecated for some time now, so the instructions in Week 0 won't be effective. So, we need to fork the APCSP Fastpages. To do that, follow [this]() video to get started developing with Fastpages."
   ]
  },
  {
   "attachments": {},
   "cell_type": "markdown",
   "metadata": {},
   "source": [
    "# Hacks\n",
    "\n",
    "- Show how you incorporate three tools that we have installed into your project. 0.1 points for each feature. (0.3). This can include code, but definitely blog about it.\n",
    "- frontend hack goes here\n",
    "- backend hack goes here"
   ]
  }
 ],
 "metadata": {
  "kernelspec": {
   "display_name": "base",
   "language": "python",
   "name": "python3"
  },
  "language_info": {
   "name": "python",
   "version": "3.9.12"
  },
  "orig_nbformat": 4
 },
 "nbformat": 4,
 "nbformat_minor": 2
}
