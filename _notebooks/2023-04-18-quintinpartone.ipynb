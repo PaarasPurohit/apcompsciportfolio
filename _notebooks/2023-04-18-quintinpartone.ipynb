{
 "cells": [
  {
   "attachments": {},
   "cell_type": "markdown",
   "metadata": {},
   "source": [
    "# Setting up Machines with Conda Scripts\n",
    "> To get started with development, you need tools. You'll learn how to get the necessary tools here using Conda scripts.\n",
    "\n",
    "- toc: true\n",
    "- badges: false\n",
    "- comments: true\n",
    "- author: Paaras Purohit, Chinmay Ramamurthy, Raunak Mondal, Tanay Patel, Qais Jamili\n",
    "- categories: [student]\n",
    "- type: ap\n",
    "- week: 30\n",
    "- permalink: /quintinpartone"
   ]
  },
  {
   "attachments": {},
   "cell_type": "markdown",
   "metadata": {},
   "source": [
    "# GitHub\n",
    "\n",
    "- What is GitHub?\n",
    "- Why do we use GitHub? Why not Google Drive or messages?\n",
    "- What's the difference between Git and GitHub?\n",
    "- Name as many Git commands as you can:"
   ]
  },
  {
   "attachments": {},
   "cell_type": "markdown",
   "metadata": {},
   "source": [
    "# Two Main Machines\n",
    "- Which is better, MacOS or Windows?\n",
    "- Give some differences between MacOS and Windows in terms of the development we use in APCSP:"
   ]
  },
  {
   "attachments": {},
   "cell_type": "markdown",
   "metadata": {},
   "source": [
    "# MacOS Setup:\n",
    "\n",
    "To start developing, we actually need a programming language. To do that, we need to install [Python2](https://www.python.org/ftp/python/2.7.18/python-2.7.18-macosx10.9.pkg). \n",
    "\n",
    "To use our programming language, we need a tool to code in. This is why we need to install [VSCode](https://code.visualstudio.com/docs/setup/mac)\n",
    "\n",
    "Python is good and all, but we need to use a Python distrubtion to really enhance things. To do that, we need to install [Anaconda](https://www.anaconda.com/products/distribution) Note: Answer YES to all installation questions.\n",
    "\n",
    "When developing, we need files that help us perform tasks, such as running certain kernels, localhost development, and more. These files in one place are known as packages, and we need to get some. To do that, we will [Homebrew](https://brew.sh/), a package manager for Mac developers. Then, in your terminal, paste the command found on the Homebrew website. Follow all necessary instructions.\n",
    "\n",
    "Now that Homebrew is installed, we need to get a list of all the packages. To do that, we can, in our terminal, run ```brew list``` to display the list of packages.\n",
    "\n",
    "This list may or may not be updated... to solve this problem, we need to update the list regardless (if it is already up to date, our updating the list will not do anything). To do that, let's run ```brew update``` to update our package list.\n",
    "\n",
    "Now that we have an updated list of the packages, we want to make sure that each package itself is up to date. The same logic as before with the updating everything applies here. To do that, we run ```brew upgrade``` to upgrade each package.\n",
    "\n",
    "As mentioned, while we do have a GitHub account and all, it is very important that our Git tools are working properly. It is our job to do so. To do that, let's run ```brew install git``` to install the latest version of Git. \n",
    "\n",
    "Although we have already installed Python2, we need Python3, as it is a later and better version. To do that, let's run ```brew install python```. We then need to check if Python3 is installed. To do that, simply run ```python --version```. \n",
    "\n",
    "We also need to run ```brew install java``` to install OpenJDK.\n",
    "\n",
    "**And that's it! You're ready to start developing on Mac! Code, Code, Code!**"
   ]
  },
  {
   "attachments": {},
   "cell_type": "markdown",
   "metadata": {},
   "source": [
    "# Hacks\n",
    "\n",
    "- Blog about why you need each of the tools installed with Conda scripts (0.3)\n",
    "- Make a video of all the installed tools working or show all installed tools working during live review. This can be done using notebook programs (0.3)\n",
    "- Pick one installation and demonstrate in as much detail as possible on how to use it (0.3)\n",
    "- Extra: Teach someone how to do the machine setup without this notebook. Blog about your teaching; who/what/where/when/how you taught, as well as more details. (0.1)"
   ]
  }
 ],
 "metadata": {
  "language_info": {
   "name": "python"
  },
  "orig_nbformat": 4
 },
 "nbformat": 4,
 "nbformat_minor": 2
}
