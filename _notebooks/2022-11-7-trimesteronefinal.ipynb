{
 "cells": [
  {
   "cell_type": "markdown",
   "metadata": {},
   "source": [
    "# Trimester I Finals\n",
    "##### I took the Trimester I finals. Here's how it went.\n",
    "\n",
    "- title: Trimester I Finals\n",
    "- toc: true\n",
    "- categories: [finalproject]\n",
    "- permalink: /trifinals\n",
    "- tags: [finalproject]"
   ]
  },
  {
   "cell_type": "markdown",
   "metadata": {},
   "source": [
    "### My Score\n",
    "\n",
    "After taking the test, I answered 50 questions on programming problem-solving as well as computer science connection knowledge (API's, protocols, how data is shared, etc.). I got 48 of them correct.\n",
    "\n",
    "The first question I got wrong was about how information is transferred over the Internet. I chose the answer, \"The message is broken into two packets. One packet contains the data to be transmitted and the other packet contains metadata for routing the data to the recipient’s device.\" The correct answer was, \"The message is broken into packets. The packets can be received in any order and still be reassembled by the recipient’s device.\" The reason I did not get this correct is because of my lack of knowledge on the subject. This was under a unit that I apparently did not study very well, and caused me to get the answer wrong. My plan to improve in the future is to study and quiz myself and have my friends quiz me on questions that are not cheating on tests.\n",
    "\n",
    "The second question that I got wrong was the question, \"Consider the following code segment. What are the values of first and second as a result of executing the code segment?\" The code looked like this:"
   ]
  },
  {
   "cell_type": "code",
   "execution_count": null,
   "metadata": {},
   "outputs": [],
   "source": [
    "first = True\n",
    "second = False\n",
    "second = first\n",
    "first = second"
   ]
  },
  {
   "cell_type": "markdown",
   "metadata": {},
   "source": [
    "I picked the answer, \"The value of first is false, and the value of second is true.\" As shown below by printing both values, that answer was wrong."
   ]
  },
  {
   "cell_type": "code",
   "execution_count": 19,
   "metadata": {},
   "outputs": [
    {
     "name": "stdout",
     "output_type": "stream",
     "text": [
      "True\n",
      "True\n"
     ]
    }
   ],
   "source": [
    "first = True\n",
    "second = False\n",
    "second = first\n",
    "first = second\n",
    "\n",
    "print(first)\n",
    "print(second)"
   ]
  },
  {
   "cell_type": "markdown",
   "metadata": {},
   "source": [
    "This is a logic proven by a concept called variable swapping. The following code incorrectly swaps variables."
   ]
  },
  {
   "cell_type": "code",
   "execution_count": 23,
   "metadata": {},
   "outputs": [
    {
     "name": "stdout",
     "output_type": "stream",
     "text": [
      "2, 2\n"
     ]
    }
   ],
   "source": [
    "def swap(x, y):\n",
    "    x = y\n",
    "    y = x\n",
    "    print(str(x) + \", \" +str(y))\n",
    "\n",
    "a = 4\n",
    "b = 2\n",
    "swap(a, b)"
   ]
  },
  {
   "cell_type": "markdown",
   "metadata": {},
   "source": [
    "This is because when x is set to y, x loses its original value, setting both values equal to the original value of y. The following code swaps variables correctly."
   ]
  },
  {
   "cell_type": "code",
   "execution_count": 24,
   "metadata": {},
   "outputs": [
    {
     "name": "stdout",
     "output_type": "stream",
     "text": [
      "2, 4\n"
     ]
    }
   ],
   "source": [
    "def swap(x, y):\n",
    "    temp = x\n",
    "    x = y\n",
    "    y = temp\n",
    "    print(str(x) + \", \" + str(y))\n",
    "\n",
    "a = 4\n",
    "b = 2\n",
    "swap(a, b)"
   ]
  },
  {
   "cell_type": "markdown",
   "metadata": {},
   "source": [
    "The improvement that I can do to avoid these mistakes is to look over the code twice."
   ]
  }
 ],
 "metadata": {
  "kernelspec": {
   "display_name": "Python 3.8.10 64-bit",
   "language": "python",
   "name": "python3"
  },
  "language_info": {
   "codemirror_mode": {
    "name": "ipython",
    "version": 3
   },
   "file_extension": ".py",
   "mimetype": "text/x-python",
   "name": "python",
   "nbconvert_exporter": "python",
   "pygments_lexer": "ipython3",
   "version": "3.8.10"
  },
  "orig_nbformat": 4,
  "vscode": {
   "interpreter": {
    "hash": "916dbcbb3f70747c44a77c7bcd40155683ae19c65e1c03b4aa3499c5328201f1"
   }
  }
 },
 "nbformat": 4,
 "nbformat_minor": 2
}
