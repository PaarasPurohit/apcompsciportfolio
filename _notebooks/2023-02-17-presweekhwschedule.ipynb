{
 "cells": [
  {
   "attachments": {},
   "cell_type": "markdown",
   "metadata": {},
   "source": [
    "# President's Week - Studying Resources\n",
    "\n",
    "- title: President's Week - Studying Resources\n",
    "- toc: true\n",
    "- categories: [units]\n",
    "- permalink: /presweekhwsched\n",
    "- tags: [hacks]"
   ]
  },
  {
   "attachments": {},
   "cell_type": "markdown",
   "metadata": {},
   "source": [
    "## Int Math 3B\n",
    "[Study Guide](https://docs.google.com/document/d/1mdeZtDeoN22RHMvtfaTdqeo4__jecvubxUidnoh74n8/edit)\n",
    "\n",
    "[Trig #1-#12](https://docs.google.com/document/d/1mdeZtDeoN22RHMvtfaTdqeo4__jecvubxUidnoh74n8/edit)\n",
    "\n",
    "[Extreme Solving ](https://docs.google.com/document/d/1mdeZtDeoN22RHMvtfaTdqeo4__jecvubxUidnoh74n8/edit)"
   ]
  },
  {
   "attachments": {},
   "cell_type": "markdown",
   "metadata": {},
   "source": [
    "## AP World Hist\n",
    "[Final Review](https://docs.google.com/document/d/11d2cgmM7IW44aboIB6oWrnnLLU-4hp7x7SxcTx_-FBs/edit)\n",
    "\n",
    "Textbook has practice LEQ prompts"
   ]
  },
  {
   "attachments": {},
   "cell_type": "markdown",
   "metadata": {},
   "source": [
    "## Honors Humanities II"
   ]
  },
  {
   "cell_type": "markdown",
   "metadata": {},
   "source": []
  },
  {
   "attachments": {},
   "cell_type": "markdown",
   "metadata": {},
   "source": [
    "## CSP\n",
    "- Prepare for re-review\n",
    "- Study code and notes from mini-lecture on HTTP, DNS, TCP, etc."
   ]
  },
  {
   "attachments": {},
   "cell_type": "markdown",
   "metadata": {},
   "source": [
    "## Physics\n",
    "[Study Guide](https://poway.instructure.com/courses/128469/files/29825945?module_item_id=4236140)"
   ]
  }
 ],
 "metadata": {
  "kernelspec": {
   "display_name": "Python 3",
   "language": "python",
   "name": "python3"
  },
  "language_info": {
   "name": "python",
   "version": "3.8.10"
  },
  "orig_nbformat": 4,
  "vscode": {
   "interpreter": {
    "hash": "916dbcbb3f70747c44a77c7bcd40155683ae19c65e1c03b4aa3499c5328201f1"
   }
  }
 },
 "nbformat": 4,
 "nbformat_minor": 2
}
