{
 "cells": [
  {
   "attachments": {},
   "cell_type": "markdown",
   "metadata": {},
   "source": [
    "# Pre-Tree Hacks\n",
    "> The hacks for each lesson\n",
    "\n",
    "- title: Pre-Tree Hacks\n",
    "- toc: true\n",
    "- categories: [hacks]\n",
    "- permalink: /pretreehacks\n",
    "- tags: [tri2]"
   ]
  },
  {
   "cell_type": "markdown",
   "metadata": {},
   "source": [
    "## 3.1 and 3.2 Hacks\n",
    "Below is the code completing the hacks for Ederick's section"
   ]
  },
  {
   "cell_type": "code",
   "execution_count": 2,
   "metadata": {},
   "outputs": [
    {
     "name": "stdout",
     "output_type": "stream",
     "text": [
      "Hello, my name is Paaras. I am 15 and it is True, I am in computer science.\n"
     ]
    }
   ],
   "source": [
    "name = \"Paaras\"\n",
    "age = 15\n",
    "is_apcsp_student = True\n",
    "\n",
    "print(\"Hello, my name is \" + name + \". I am \" + str(age) + \" and it is \" + str(is_apcsp_student) + \", I am in computer science.\")"
   ]
  },
  {
   "cell_type": "markdown",
   "metadata": {},
   "source": [
    "Below is the code completing the hacks for Noor's section:"
   ]
  },
  {
   "cell_type": "code",
   "execution_count": 2,
   "metadata": {},
   "outputs": [
    {
     "name": "stdout",
     "output_type": "stream",
     "text": [
      "Paaras\n",
      "22\n"
     ]
    }
   ],
   "source": [
    "# An assignment operator, in Python at least, is the \"=\" sign. This is put between the \n",
    "# variable name and value, and is used to set a variable to something. \n",
    "\n",
    "name = \"Paaras\"\n",
    "print(name)\n",
    "\n",
    "# In the pseudocode used by CollegeBoard, the assignment operator is \"<-\" between the \n",
    "# variable name and value.\n",
    "\n",
    "# It depends where the print function is called. For this case, we will assume that the \n",
    "# print function is called finally. In this case, the command will display the number 22\n",
    "\n",
    "x = 15\n",
    "x = 22\n",
    "print(x)"
   ]
  },
  {
   "cell_type": "markdown",
   "metadata": {},
   "source": [
    "Below is the fixed code for the calendar. Put this code in a runnable HTML document and press CTRL+O in a new tab, it should run the code the correct way, showing my understanding of variables (the binary converter never showed up for me)."
   ]
  },
  {
   "cell_type": "code",
   "execution_count": null,
   "metadata": {
    "vscode": {
     "languageId": "html"
    }
   },
   "outputs": [],
   "source": [
    "<div class=\"container\">\n",
    "<div class=\"calendar\">\n",
    "<div class=\"month\">\n",
    "<button id=\"prev\" onclick=\"prev()\">Prev</button>\n",
    "<button id=\"next\" onclick=\"next()\">Next</button>\n",
    "\n",
    "<p id=\"month\">Month Here</p>\n",
    "</div>\n",
    "</div>\n",
    "</div>\n",
    "\n",
    "<script>\n",
    "\n",
    "let months = [\"January\", \"February\", \"March\", \"April\", \"May\", \"June\", \"July\", \"August\", \"September\", \"October\", \"November\", \"December\"];\n",
    "let index = 0;\n",
    "\n",
    "function next() {\n",
    "if (index > 11) {\n",
    "index = 0;\n",
    "}\n",
    "else {\n",
    "index += 1;\n",
    "}\n",
    "document.getElementById(\"month\").innerHTML = months[index]\n",
    "}\n",
    "\n",
    "function prev() {\n",
    "if (index < 0) {\n",
    "index = 11;\n",
    "}\n",
    "else {\n",
    "index -= 1;\n",
    "}\n",
    "document.getElementById(\"month\").innerHTML = months[index]\n",
    "}\n",
    "\n",
    "document.getElementById(\"month\").innerHTML = months[index]\n",
    "\n",
    "</script>"
   ]
  },
  {
   "cell_type": "code",
   "execution_count": 6,
   "metadata": {},
   "outputs": [
    {
     "name": "stdout",
     "output_type": "stream",
     "text": [
      "True\n",
      "Hello World\n",
      "o\n",
      "One of my favorite foods is taco. Another favorite food of mine is fruits\n"
     ]
    }
   ],
   "source": [
    "# A list is a type of abstraction that is a collection of many variables, not necessarily\n",
    "# of the same data type (in Python, at least). \n",
    "\n",
    "# An element of a list is a single item. Below is an example of a list, with three\n",
    "# elements:\n",
    "\n",
    "list = [64, \"Hello World\", True]\n",
    "\n",
    "# A programmer can access a list element from either side of a list. If the programmer is\n",
    "# accessing the element from the end, the programmer uses negative numbers, and positive\n",
    "# numbers for the beginning.\n",
    "\n",
    "# Prints \"True\"\n",
    "print(list[-1])\n",
    "# Prints \"Hello World\"\n",
    "print(list[1])\n",
    "\n",
    "# Strings are just arrays of characters, meaning that list functions can be used on\n",
    "# strings as well.\n",
    "\n",
    "string = \"Hello World\"\n",
    "# Prints \"o\"\n",
    "print(string[4])\n",
    "\n",
    "# The Actual Hacks:\n",
    "\n",
    "foods = [\"chicken\", \"burrito\", \"taco\", \"ramen\", \"fruits\", \"vegetables\"]\n",
    "\n",
    "print(\"One of my favorite foods is \" + foods[2] + \". Another favorite food of mine is \" + foods[-2])\n"
   ]
  },
  {
   "cell_type": "markdown",
   "metadata": {},
   "source": [
    "Below is the code completing the hacks for Steven's section:"
   ]
  },
  {
   "cell_type": "code",
   "execution_count": 20,
   "metadata": {},
   "outputs": [
    {
     "name": "stdout",
     "output_type": "stream",
     "text": [
      "Original list: [7895043, 278904325, 237890543278905432780912]\n",
      "Modified list: [7895044, 278904326, 237890543278905432780913]\n"
     ]
    }
   ],
   "source": [
    "num1 = input(\"Input a number >> \")\n",
    "num2 = input(\"Input another number >> \")\n",
    "num3 = input(\"Input one last number >> \")\n",
    "\n",
    "nums = []\n",
    "\n",
    "nums.append(int(num1))\n",
    "nums.append(int(num2))\n",
    "nums.append(int(num3))\n",
    "\n",
    "print(\"Original list: \" + str(nums))\n",
    "\n",
    "for i in range(0, len(nums)):\n",
    "    nums[i-1] += 1\n",
    "    \n",
    "print(\"Modified list: \" + str(nums))"
   ]
  },
  {
   "cell_type": "markdown",
   "metadata": {},
   "source": [
    "Below is the code completing the hacks for Liav's section:"
   ]
  },
  {
   "cell_type": "code",
   "execution_count": 21,
   "metadata": {},
   "outputs": [
    {
     "name": "stdout",
     "output_type": "stream",
     "text": [
      "Hello, paaraspurohit running /bin/python3\n",
      "You will be asked 4 questions.\n",
      "Question: Are you ready to take a test?\n",
      "Question: The purpose of lists and dictionaries are to manage the ____ of a program\n",
      "complexity is correct!\n",
      "Question: Lists are a form of data ______\n",
      "abstraction is correct!\n",
      "Question: Which brackets are used to assign values to a variable to make a list?\n",
      "[] is correct!\n",
      "paaraspurohit you scored 3/4\n"
     ]
    }
   ],
   "source": [
    "import getpass, sys\n",
    "\n",
    "def question_with_response(prompt):\n",
    "    print(\"Question: \" + prompt)\n",
    "    msg = input()\n",
    "    return msg\n",
    "\n",
    "questions = 4\n",
    "correct = 0\n",
    "\n",
    "print('Hello, ' + getpass.getuser() + \" running \" + sys.executable)\n",
    "print(\"You will be asked \" + str(questions) + \" questions.\")\n",
    "question_with_response(\"Are you ready to take a test?\")\n",
    "\n",
    "rsp = question_with_response(\"The purpose of lists and dictionaries are to manage the ____ of a program\")\n",
    "if rsp == \"complexity\":\n",
    "    print(rsp + \" is correct!\")\n",
    "    correct += 1\n",
    "else:\n",
    "    print(rsp + \" is incorrect!\")\n",
    "\n",
    "rsp = question_with_response(\"Lists are a form of data ______\")\n",
    "if rsp == \"abstraction\":\n",
    "    print(rsp + \" is correct!\")\n",
    "    correct += 1\n",
    "else:\n",
    "    print(rsp + \" is incorrect!\")\n",
    "\n",
    "rsp = question_with_response(\"Which brackets are used to assign values to a variable to make a list?\")\n",
    "if rsp == \"[]\":\n",
    "    print(rsp + \" is correct!\")\n",
    "    correct += 1\n",
    "else:\n",
    "    print(rsp + \" is incorrect!\") \n",
    "\n",
    "print(getpass.getuser() + \" you scored \" + str(correct) +\"/\" + str(questions))"
   ]
  },
  {
   "cell_type": "code",
   "execution_count": 22,
   "metadata": {},
   "outputs": [
    {
     "name": "stdout",
     "output_type": "stream",
     "text": [
      "['pizza', 'hot dog', 'sushi', 'strawberry', 'sandwich']\n"
     ]
    }
   ],
   "source": [
    "foods = [\"pizza\", \"hot dog\", \"sushi\", \"strawberry\", \"sandwich\"]\n",
    "print(foods)"
   ]
  },
  {
   "cell_type": "markdown",
   "metadata": {},
   "source": [
    "- *Why are using lists better for a program, rather than writing out each line of code?* I'm glad you asked. This gives me an opportunity to bring up a point that is important about data abstraction. When programmers say that lists make code easier, others think that lists are the key to have a relaxing time programming. This is a completely wrong thing to think, because programs, regardless of lists, can still be hard to code. Abstraction, despite the misconceptions, don't make code easier, but rather, they make code less prone to errors, which is commonly referred to as making it \"simpler.\" Something I've found while doing the hacks for this lesson.\n",
    "- *Make your own list the “long and slow way” then manage the complexity of the list*"
   ]
  },
  {
   "cell_type": "code",
   "execution_count": 23,
   "metadata": {},
   "outputs": [
    {
     "name": "stdout",
     "output_type": "stream",
     "text": [
      "['pizza', 'hot dog', 'sushi', 'strawberry', 'sandwich']\n"
     ]
    }
   ],
   "source": [
    "food1 = \"pizza\"\n",
    "food2 = \"hot dog\"\n",
    "food3 = \"sushi\"\n",
    "food4 = \"strawberry\"\n",
    "food5 = \"sandwich\"\n",
    "\n",
    "foods = [food1, food2, food3, food4, food5]\n",
    "\n",
    "print(foods)"
   ]
  },
  {
   "cell_type": "markdown",
   "metadata": {},
   "source": [
    "## 3.3 and 3.4 Hacks"
   ]
  },
  {
   "cell_type": "markdown",
   "metadata": {},
   "source": [
    "Below is the code completing the hacks for Luka's section"
   ]
  },
  {
   "attachments": {},
   "cell_type": "markdown",
   "metadata": {},
   "source": [
    "Luka's Hacks:\n",
    "1. Set item to number to search for.\n",
    "2. Get next number in the list. \n",
    "3. If number = item, display \"item found.\"\n",
    "4. If there are more numbers in the list, go back to Step 2.\n",
    "5. Display \"item not found.\"\n",
    "\n",
    "*Steps 2 and 4 are iteration. Steps 3 and 4 are selection. Steps 1-5 are a sequence*"
   ]
  },
  {
   "cell_type": "code",
   "execution_count": 12,
   "metadata": {},
   "outputs": [
    {
     "name": "stdout",
     "output_type": "stream",
     "text": [
      "item found at index 1\n"
     ]
    }
   ],
   "source": [
    "nums = [1, 2, 3, 4, 5, 6, 7]\n",
    "num_to_find = 5\n",
    "\n",
    "for i in nums:\n",
    "    if nums[i] == num_to_find:\n",
    "        print(\"item found at index \" + str(i))\n",
    "        break"
   ]
  },
  {
   "cell_type": "markdown",
   "metadata": {},
   "source": [
    "Below is the code completing the hacks for Antony's section:"
   ]
  },
  {
   "cell_type": "code",
   "execution_count": 14,
   "metadata": {},
   "outputs": [
    {
     "name": "stdout",
     "output_type": "stream",
     "text": [
      "3.0\n"
     ]
    }
   ],
   "source": [
    "num1 = 5\n",
    "num2 = num1 * 3 # 5 / 3 = 15\n",
    "num3 = num2 / num1 * (9 % 2) * 4 # 9 % 2 = 1, 1 * 5 = 5, 15 / 5 = 3\n",
    "result = (num3 % num1 + num2) % num3 * 3 / 5 # Essentially, equals 3\n",
    "print(result)\n",
    "\n",
    "# For the crossword:\n",
    "\n",
    "# 1. Iteration\n",
    "# 2. Sequence\n",
    "# 3. Algorithm"
   ]
  },
  {
   "cell_type": "markdown",
   "metadata": {},
   "source": [
    "Hello!\n",
    "You will be asked 3 questions.\n",
    "ready,\n",
    "set,\n",
    "go!\n",
    " \n",
    " \n",
    "--- Options for question #1 ---\n",
    "A. The amount of bytes that the string takes up.\n",
    "B. The length of the string.\n",
    "C. The String but in binary.\n",
    "D. The Unicode of each letter in the string. \n",
    " \n",
    "--- !!! CAPITAL LETTERS ONLY !!! ---\n",
    " \n",
    "--- Question #1 ---\n",
    " What does the command 'len' ouput about the string?\n",
    "B\n",
    "B is correct!\n",
    " \n",
    " \n",
    "--- Options for question #2 ---\n",
    "T. True!\n",
    "F. False :(\n",
    " \n",
    "--- Question #2 ---\n",
    " The command 'substring' is used to conjoin two strings \n",
    "F\n",
    "F is correct!\n",
    " \n",
    " \n",
    "--- Options for question #3 ---\n",
    "A. Syntax Error \n",
    "B. 'Hel WorldHe' \n",
    "C. 'Helikopter Helikopter' \n",
    "D. 'lo Wo' \n",
    " \n",
    "--- Question #3 ---\n",
    " What will print('Hello World'[3:8]) print? (pretend that the single quotation marks are regular quotation marks.)\n",
    "D\n",
    "D is correct!\n",
    " \n",
    "--- score ---\n",
    "runner you scored 3/3\n",
    "--- !!! SCREENSHOT THIS AND INSERT IT ON YOUR BLOG !!! ---"
   ]
  },
  {
   "cell_type": "markdown",
   "metadata": {},
   "source": [
    "## 3.8 & 3.10 Hacks"
   ]
  },
  {
   "cell_type": "markdown",
   "metadata": {},
   "source": [
    "Below is the code completing the hacks for Taiyo's section:"
   ]
  },
  {
   "cell_type": "code",
   "execution_count": 4,
   "metadata": {},
   "outputs": [
    {
     "name": "stdout",
     "output_type": "stream",
     "text": [
      "2\n"
     ]
    }
   ],
   "source": [
    "# Hack I: An iteration is simply a loop. In Python, this is simply either a for loop or a \n",
    "# while loop. \n",
    "\n",
    "# Hacks II and III: Below is an algorithm that solves one of the hacks from my (3.6) lesson, \n",
    "# that uses iteration (finds the element in the list that appears an odd number of times):\n",
    "\n",
    "def find_it(seq):\n",
    "    result = 0\n",
    "    for i in seq:\n",
    "        if seq.count(i) % 2 != 0:\n",
    "            result = i\n",
    "    return result\n",
    "\n",
    "nums = [0, 1, 0, 1, 2, 3, 4, 3, 5, 4, 5]\n",
    "print(find_it(nums)) # Should output 2\n",
    "\n"
   ]
  },
  {
   "cell_type": "markdown",
   "metadata": {},
   "source": [
    "Below is the code completing the hacks for Parav's section:"
   ]
  },
  {
   "cell_type": "code",
   "execution_count": 20,
   "metadata": {},
   "outputs": [
    {
     "name": "stdout",
     "output_type": "stream",
     "text": [
      "0\n",
      "1\n",
      "2\n",
      "3\n",
      "4\n",
      "5\n",
      "6\n",
      "7\n",
      "8\n",
      "9\n",
      "10\n",
      "\n",
      "3\n",
      "16\n",
      "29\n",
      "42\n",
      "55\n",
      "68\n",
      "81\n"
     ]
    }
   ],
   "source": [
    "# Hack I: Same as Hack I above.\n",
    "\n",
    "# Hack II: \n",
    "\n",
    "i = 11\n",
    "for i in range(0, i):\n",
    "    if i < 0:\n",
    "        break\n",
    "    else:\n",
    "        print(i)\n",
    "        i -= 1\n",
    "\n",
    "##########################################################################################\n",
    "print()\n",
    "##########################################################################################\n",
    "\n",
    "# Hack III:\n",
    "\n",
    "other_nums = [3,16,29,42,55,68,81]\n",
    "\n",
    "index = 0\n",
    "while index <= len(other_nums) - 1:\n",
    "    print(other_nums[index])\n",
    "    index += 1"
   ]
  },
  {
   "cell_type": "markdown",
   "metadata": {},
   "source": [
    "Below is the code completing the hacks for Luna's section:"
   ]
  },
  {
   "cell_type": "code",
   "execution_count": 18,
   "metadata": {},
   "outputs": [
    {
     "name": "stdout",
     "output_type": "stream",
     "text": [
      "10\n"
     ]
    }
   ],
   "source": [
    "nums = [10, 15, 20, 25, 30, 35]\n",
    "min = 10\n",
    "result = 0\n",
    "\n",
    "for i in range(0, len(nums)):\n",
    "    if int(nums[i]) <= min:\n",
    "        result = nums[i]\n",
    "    else:\n",
    "        continue\n",
    "    \n",
    "print(result)"
   ]
  },
  {
   "cell_type": "markdown",
   "metadata": {},
   "source": [
    "Below is the code completing the hacks for Ethan's section:"
   ]
  },
  {
   "cell_type": "code",
   "execution_count": 19,
   "metadata": {},
   "outputs": [
    {
     "name": "stdout",
     "output_type": "stream",
     "text": [
      "What allows a value to be added at the end of a list?\n",
      "append()\n",
      "Correct!\n",
      "What allows a value to be inserted into a list at index i?\n",
      "index()\n",
      "Correct!\n",
      "What allows an element at index i to be deleted from a list?\n",
      "remove()\n",
      "Correct!\n",
      "What returns the number of elements currently in a specific list?\n",
      "length()\n",
      "Correct!\n",
      "100.00%\n",
      "Your total score is:  4 out of 4. Not too bad, keep on studying! \n"
     ]
    }
   ],
   "source": [
    "import getpass, sys\n",
    "import random\n",
    "\n",
    "def ask_question (question, answer):\n",
    "\n",
    "    print(question)\n",
    "    ans = input(question)\n",
    "    print(ans)\n",
    "   \n",
    "    if ans == answer:\n",
    "        print(\"Correct!\")\n",
    "        return 1\n",
    "\n",
    "    else:\n",
    "        print(\"Wrong\")\n",
    "        return 0\n",
    "\n",
    "question_list = [\"What allows a value to be inserted into a list at index i?\" , \"What allows an element at index i to be deleted from a list?\" , \"What returns the number of elements currently in a specific list?\" , \"What allows a value to be added at the end of a list?\"]\n",
    "answer_list = [\"index()\", \"remove()\", \"length()\" , \"append()\"]\n",
    "\n",
    "# Set points to 0 at the start of the quiz\n",
    "points = 0\n",
    "\n",
    "# If the length of the quiz is greater than 0, then random questions will be chosen from the \"question_list\" set\n",
    "while len(question_list) > 0:\n",
    "    index = random.randint(0, len(question_list) - 1)\n",
    "    \n",
    "# The points system where a point is rewarded for each correct answer    \n",
    "    points = points + ask_question(question_list[index], answer_list[index])\n",
    "    \n",
    "# If a question or answer has already been used, then it shall be deleted    \n",
    "    del question_list[index]\n",
    "    del answer_list[index]\n",
    "\n",
    "# Calculating score using the points system and dividing it by the total number of questions (6)\n",
    "score = (points / 4)\n",
    "\n",
    "# Calculating the percentage of correct answers by multiplying the score by 100\n",
    "percent = (score * 100)\n",
    "\n",
    "# Printing the percentage, and formatting the percentage in a way where two decimals can be shown (through \"{:.2f}\")\n",
    "print(\"{:.2f}\".format(percent) + \"%\")\n",
    "\n",
    "# Adding final remarks based upon the users given scores\n",
    "if points >= 5:\n",
    "         print(\"Your total score is: \", points, \"out of 4. Amazing job!\")\n",
    "\n",
    "elif points == 4:\n",
    "         print(\"Your total score is: \", points, \"out of 4. Not too bad, keep on studying! \" )\n",
    "\n",
    "else:\n",
    "         print(\"Your total score is: \", points, \"out of 4. Its alright, better luck next time!\")"
   ]
  },
  {
   "cell_type": "markdown",
   "metadata": {},
   "source": [
    "## 3.9 - 3.11 Hacks"
   ]
  },
  {
   "cell_type": "markdown",
   "metadata": {},
   "source": [
    "Below is the code completing the hacks for Claire's section"
   ]
  },
  {
   "cell_type": "code",
   "execution_count": 4,
   "metadata": {},
   "outputs": [
    {
     "name": "stdout",
     "output_type": "stream",
     "text": [
      "Your score is 50\n"
     ]
    }
   ],
   "source": [
    "# Algorithms that look the same may not return the same results, as shown in the examples\n",
    "# in the lesson. Some comparisons in algorithms that may look the same are not, and \n",
    "# depending on the output, can return different results. Similarly, algorithms that look \n",
    "# different can return the same results. In the context of this lesson, boolean and \n",
    "# conditionals can be used to return the same results. \n",
    "# \n",
    "# Below is a code snippet converting \n",
    "# booleans to conditionals:\n",
    "\n",
    "score = input(\"What's your score?\")\n",
    "\n",
    "isGreaterThanFifty = int(score) > 50\n",
    "isLessThanFifty = int(score) < 50\n",
    "\n",
    "if isGreaterThanFifty:\n",
    "    print(\"Your score is greater than 50\")\n",
    "elif isLessThanFifty:\n",
    "    print(\"Your score is less than 50\")\n",
    "else:\n",
    "    print(\"Your score is 50\")"
   ]
  },
  {
   "cell_type": "markdown",
   "metadata": {},
   "source": [
    "Below is the code completing the hacks for Annika's section:"
   ]
  },
  {
   "cell_type": "code",
   "execution_count": 1,
   "metadata": {},
   "outputs": [
    {
     "data": {
      "text/plain": [
       "'Alex, Jacob and 2 others like this'"
      ]
     },
     "execution_count": 1,
     "metadata": {},
     "output_type": "execute_result"
    }
   ],
   "source": [
    "# Implement the function which takes an array containing the names of people that like an \n",
    "# item. It must return the display text as shown in the examples:\n",
    "\n",
    "# []                                -->  \"no one likes this\"\n",
    "# [\"Peter\"]                         -->  \"Peter likes this\"\n",
    "# [\"Jacob\", \"Alex\"]                 -->  \"Jacob and Alex like this\"\n",
    "# [\"Max\", \"John\", \"Mark\"]           -->  \"Max, John and Mark like this\"\n",
    "# [\"Alex\", \"Jacob\", \"Mark\", \"Max\"]  -->  \"Alex, Jacob and 2 others like this\"\n",
    "\n",
    "def likes(names):\n",
    "    if len(names) == 0:\n",
    "        return \"no one likes this\"\n",
    "    if len(names) == 1:\n",
    "        return str(names[0]) + \" likes this\"\n",
    "    if len(names) == 2:\n",
    "        return str(names[0]) + \" and \" + str(names[1]) + \" like this\"\n",
    "    if len(names) == 3:\n",
    "        return str(names[0]) + \", \" + str(names[1]) + \" and \" + str(names[2]) + \" like this\"\n",
    "    if len(names) >= 4:\n",
    "        return str(names[0]) + \", \" + str(names[1]) + \" and \" + str(len(names) - 2) + \" others like this\"\n",
    "\n",
    "names = [\"Peter\"]\n",
    "likes(names)\n",
    "newNames = [\"Alex\", \"Jacob\", \"Mark\", \"Max\"]\n",
    "likes(newNames)\n"
   ]
  },
  {
   "attachments": {},
   "cell_type": "markdown",
   "metadata": {},
   "source": [
    "![flowchart](../images/Screenshot%202022-12-06%20133632.png)"
   ]
  },
  {
   "attachments": {},
   "cell_type": "markdown",
   "metadata": {},
   "source": [
    "Below is the code completing the hacks for Grace's section:"
   ]
  },
  {
   "cell_type": "code",
   "execution_count": 12,
   "metadata": {},
   "outputs": [
    {
     "name": "stdout",
     "output_type": "stream",
     "text": [
      "I'm thinking of a number between 1 and 100.\n",
      "You guessed 50.\n",
      "Guess higher\n",
      "Guess a number between 50 and 100.\n",
      "You guessed 50.\n",
      "Guess higher\n",
      "Guess a number between 50 and 100.\n",
      "You guessed 75.\n",
      "Guess lower\n",
      "Guess a number between 50 and 75.\n",
      "You guessed 75.\n",
      "Guess lower\n",
      "Guess a number between 50 and 75.\n",
      "You guessed 74.\n",
      "Guess lower\n",
      "Guess a number between 50 and 74.\n",
      "You guessed 73.\n",
      "Guess a number between 50 and 74.\n",
      "You guessed the number in 6 guesses!\n"
     ]
    }
   ],
   "source": [
    "import random\n",
    "\n",
    "#sets variables for the game\n",
    "num_guesses = 0\n",
    "user_guess = 0\n",
    "upper_bound = 100\n",
    "lower_bound = 0\n",
    "\n",
    "#generates a random number\n",
    "number = random.randint(1,100)\n",
    "\n",
    "# print(number)     #for testing purposes\n",
    "\n",
    "print(f\"I'm thinking of a number between 1 and 100.\")\n",
    "\n",
    "#Write a function that gets a guess from the user using input()\n",
    "def guess():\n",
    "    guessInput = input(\"Guess the number >>\")\n",
    "    if input == None or input == \"\":\n",
    "        guess()\n",
    "    else:\n",
    "        return int(guessInput)\n",
    "\n",
    "#Change the print statements to give feedback on whether the player guessed too high or too low\n",
    "def search(number, guess):\n",
    "    global lower_bound, upper_bound\n",
    "    if guess < number:\n",
    "        print(\"Guess higher\") #change this\n",
    "        lower_bound = guess\n",
    "    elif guess > number:\n",
    "        print(\"Guess lower\") #change this\n",
    "        upper_bound = guess\n",
    "    return lower_bound, upper_bound\n",
    "\n",
    "while user_guess != number:\n",
    "    user_guess = guess()\n",
    "    num_guesses += 1\n",
    "    print(f\"You guessed {user_guess}.\")\n",
    "    lower_bound, upper_bound = search(number, user_guess)\n",
    "    print(f\"Guess a number between {lower_bound} and {upper_bound}.\")\n",
    "\n",
    "print(f\"You guessed the number in {num_guesses} guesses!\")"
   ]
  },
  {
   "attachments": {},
   "cell_type": "markdown",
   "metadata": {},
   "source": [
    "Below is the code completing the hacks for Claire's section:"
   ]
  },
  {
   "attachments": {},
   "cell_type": "markdown",
   "metadata": {},
   "source": [
    "![flowchart](../images/Screenshot%202022-12-12%20162423.png)"
   ]
  },
  {
   "cell_type": "code",
   "execution_count": null,
   "metadata": {},
   "outputs": [],
   "source": [
    "# 2. Since the second number is greater than the middle index, it would appear \"adjacent\" to\n",
    "# the middle index, making it the one that would be looked at.\n",
    "\n",
    "# 3. C"
   ]
  },
  {
   "attachments": {},
   "cell_type": "markdown",
   "metadata": {},
   "source": [
    "## 3.12 & 3.13 Hacks"
   ]
  },
  {
   "attachments": {},
   "cell_type": "markdown",
   "metadata": {},
   "source": [
    "Below is the code completing the hacks for Kaiden and Amay's section:"
   ]
  },
  {
   "cell_type": "code",
   "execution_count": null,
   "metadata": {},
   "outputs": [
    {
     "name": "stdout",
     "output_type": "stream",
     "text": [
      "Question: What is are correct names for a procedure? \n",
      " A) Method \n",
      " B) Function \n",
      " C) Both\n",
      "Answer: c\n",
      "Correct :) \n",
      "\n",
      "Question: What is a procedure? \n",
      " A) Sequencing \n",
      " B) Selection \n",
      " C) Iteration \n",
      " D) All\n",
      "Answer: d\n",
      "Correct :) \n",
      "\n",
      "Question: Use this for following question: \n",
      " def inchesToFeet(lengthInches): \n",
      "\t lengthFeet = lengthInches / 12 \n",
      "\t return lengthFeet \n",
      "\n",
      " What is the procedure name, the parameter, and what the procedure returns? \n",
      " A) feetToInches, lengthInches, lengthMeters \n",
      " B) inchesToFeet, lengthInches, lengthFeet \n",
      " C) inchesToFeet, lengthFeet, lengthInches \n",
      " D) lengthInches, inchesToFeet, lengthFeet\n",
      "Answer: b\n",
      "Correct :) \n",
      "\n",
      "Score: 3 / 3\n"
     ]
    }
   ],
   "source": [
    "questionNum = 3\n",
    "correct = 0\n",
    "questions = [\n",
    "    \"What is are correct names for a procedure? \\n A) Method \\n B) Function \\n C) Both\",\n",
    "    \"What is a procedure? \\n A) Sequencing \\n B) Selection \\n C) Iteration \\n D) All\",\n",
    "    \"Use this for following question: \\n def inchesToFeet(lengthInches): \\n\\t lengthFeet = lengthInches / 12 \\n\\t return lengthFeet \\n\\n What is the procedure name, the parameter, and what the procedure returns? \\n A) feetToInches, lengthInches, lengthMeters \\n B) inchesToFeet, lengthInches, lengthFeet \\n C) inchesToFeet, lengthFeet, lengthInches \\n D) lengthInches, inchesToFeet, lengthFeet\"]\n",
    "answers = [\"c\", \"d\", \"b\"]\n",
    "\n",
    "def qna(question, answer):\n",
    "    print(\"Question:\", question)\n",
    "    response = input()\n",
    "    print(\"Answer:\", response)\n",
    "    \n",
    "    if response.lower() == answer:\n",
    "        print(\"Correct :) \\n\")\n",
    "        global correct\n",
    "        correct += 1\n",
    "    else:\n",
    "        print(\"Incorrect :( \\n\")\n",
    "for x in range(questionNum):\n",
    "    qna(questions[x], answers[x])\n",
    "    \n",
    "print(\"Score:\", correct, \"/ 3\")"
   ]
  },
  {
   "cell_type": "code",
   "execution_count": 2,
   "metadata": {},
   "outputs": [
    {
     "name": "stdout",
     "output_type": "stream",
     "text": [
      "13.0\n"
     ]
    }
   ],
   "source": [
    "# 1. Essentially, a procedure is an algorithm with a name and, sometimes, parameters. \n",
    "# \n",
    "# 2. The quiz work and score are above.\n",
    "# \n",
    "# 3. Return values are basically the output of a procedure. When the parameters are \n",
    "# inputted into the function being called, the return value is what is given. An output\n",
    "# parameter is something that is required to be defined when calling a procedure. \n",
    "# \n",
    "# Below is a code snippet that finds the square root of any integer:\n",
    "\n",
    "def square_root(number):\n",
    "    return number ** 0.5\n",
    "\n",
    "num = input(\"Enter a number\")\n",
    "print(square_root(int(num)))"
   ]
  },
  {
   "attachments": {},
   "cell_type": "markdown",
   "metadata": {},
   "source": [
    "Below is the code completing the hacks for Safin's section:"
   ]
  },
  {
   "cell_type": "code",
   "execution_count": 12,
   "metadata": {},
   "outputs": [
    {
     "ename": "TypeError",
     "evalue": "not all arguments converted during string formatting",
     "output_type": "error",
     "traceback": [
      "\u001b[0;31m---------------------------------------------------------------------------\u001b[0m",
      "\u001b[0;31mTypeError\u001b[0m                                 Traceback (most recent call last)",
      "\u001b[1;32m/home/paaraspurohit/vscode/apcompsciportfolio/_notebooks/2022-11-28-teachinghacks.ipynb Cell 47\u001b[0m in \u001b[0;36m<cell line: 22>\u001b[0;34m()\u001b[0m\n\u001b[1;32m     <a href='vscode-notebook-cell://wsl%2Bubuntu/home/paaraspurohit/vscode/apcompsciportfolio/_notebooks/2022-11-28-teachinghacks.ipynb#Y102sdnNjb2RlLXJlbW90ZQ%3D%3D?line=18'>19</a>\u001b[0m num1 \u001b[39m=\u001b[39m \u001b[39minput\u001b[39m(\u001b[39m\"\u001b[39m\u001b[39mEnter one number\u001b[39m\u001b[39m\"\u001b[39m)\n\u001b[1;32m     <a href='vscode-notebook-cell://wsl%2Bubuntu/home/paaraspurohit/vscode/apcompsciportfolio/_notebooks/2022-11-28-teachinghacks.ipynb#Y102sdnNjb2RlLXJlbW90ZQ%3D%3D?line=19'>20</a>\u001b[0m num2 \u001b[39m=\u001b[39m \u001b[39minput\u001b[39m(\u001b[39m\"\u001b[39m\u001b[39mEnter another number\u001b[39m\u001b[39m\"\u001b[39m)\n\u001b[0;32m---> <a href='vscode-notebook-cell://wsl%2Bubuntu/home/paaraspurohit/vscode/apcompsciportfolio/_notebooks/2022-11-28-teachinghacks.ipynb#Y102sdnNjb2RlLXJlbW90ZQ%3D%3D?line=21'>22</a>\u001b[0m \u001b[39mprint\u001b[39m(sum_is_even(num1, num2))\n",
      "\u001b[1;32m/home/paaraspurohit/vscode/apcompsciportfolio/_notebooks/2022-11-28-teachinghacks.ipynb Cell 47\u001b[0m in \u001b[0;36msum_is_even\u001b[0;34m(a, b)\u001b[0m\n\u001b[1;32m     <a href='vscode-notebook-cell://wsl%2Bubuntu/home/paaraspurohit/vscode/apcompsciportfolio/_notebooks/2022-11-28-teachinghacks.ipynb#Y102sdnNjb2RlLXJlbW90ZQ%3D%3D?line=11'>12</a>\u001b[0m \u001b[39mdef\u001b[39;00m \u001b[39msum_is_even\u001b[39m(a, b):\n\u001b[1;32m     <a href='vscode-notebook-cell://wsl%2Bubuntu/home/paaraspurohit/vscode/apcompsciportfolio/_notebooks/2022-11-28-teachinghacks.ipynb#Y102sdnNjb2RlLXJlbW90ZQ%3D%3D?line=12'>13</a>\u001b[0m     x \u001b[39m=\u001b[39m add_numbers(a, b)\n\u001b[0;32m---> <a href='vscode-notebook-cell://wsl%2Bubuntu/home/paaraspurohit/vscode/apcompsciportfolio/_notebooks/2022-11-28-teachinghacks.ipynb#Y102sdnNjb2RlLXJlbW90ZQ%3D%3D?line=13'>14</a>\u001b[0m     \u001b[39mif\u001b[39;00m x \u001b[39m%\u001b[39;49m \u001b[39m2\u001b[39;49m \u001b[39m==\u001b[39m \u001b[39m0\u001b[39m:\n\u001b[1;32m     <a href='vscode-notebook-cell://wsl%2Bubuntu/home/paaraspurohit/vscode/apcompsciportfolio/_notebooks/2022-11-28-teachinghacks.ipynb#Y102sdnNjb2RlLXJlbW90ZQ%3D%3D?line=14'>15</a>\u001b[0m         \u001b[39mreturn\u001b[39;00m \u001b[39m\"\u001b[39m\u001b[39mNumber is even\u001b[39m\u001b[39m\"\u001b[39m\n\u001b[1;32m     <a href='vscode-notebook-cell://wsl%2Bubuntu/home/paaraspurohit/vscode/apcompsciportfolio/_notebooks/2022-11-28-teachinghacks.ipynb#Y102sdnNjb2RlLXJlbW90ZQ%3D%3D?line=15'>16</a>\u001b[0m     \u001b[39melse\u001b[39;00m:\n",
      "\u001b[0;31mTypeError\u001b[0m: not all arguments converted during string formatting"
     ]
    }
   ],
   "source": [
    "# 1. Similar to how I explained in another lesson, abstraction does not necessarily make \n",
    "# programming much easier, but it reduces the amount of errors that can occur due to \n",
    "# repetition of code due to absence of abstraction. Procedural abstraction through exactly \n",
    "# that, procedures, is a great way to use abstraction on algorithms to manage code \n",
    "# complexity.\n",
    "\n",
    "# 2. Below is a procedure that ultimately uses multiple abstraction:\n",
    "\n",
    "def add_numbers(a, b):\n",
    "    return a + b\n",
    "\n",
    "def sum_is_even(a, b):\n",
    "    x = add_numbers(a, b)\n",
    "    \n",
    "    \n",
    "    \n",
    "    if x % 2 == 0:\n",
    "        return \"Number is even\"\n",
    "    else:\n",
    "        return \"Number is odd\"\n",
    "    \n",
    "num1 = input(\"Enter one number\")\n",
    "num2 = input(\"Enter another number\")\n",
    "\n",
    "print(sum_is_even(num1, num2))\n"
   ]
  },
  {
   "cell_type": "code",
   "execution_count": 4,
   "metadata": {},
   "outputs": [
    {
     "name": "stdout",
     "output_type": "stream",
     "text": [
      "Words starting with a: 1\n",
      "Words starting with d: 1\n",
      "Words starting with t: 4\n"
     ]
    }
   ],
   "source": [
    "def split_string(s):\n",
    "    # use the split() method to split the string into a list of words\n",
    "    words = s.split(\" \")\n",
    "\n",
    "\t# initialize a new list to hold all non-empty strings\n",
    "    new_words = []\n",
    "    for word in words:\n",
    "        if word != \"\":\n",
    "            # add all non-empty substrings of `words` to `new_words`\n",
    "            new_words.append(word)\n",
    "    \n",
    "    return words\n",
    "\n",
    "# this function takes a list of words as input and returns the number of words\n",
    "# that start with the given letter (case-insensitive)\n",
    "def count_words_starting_with_letter(words, letter):\n",
    "    count = 0\n",
    "    \n",
    "    # loop through the list of words and check if each word starts with the given letter\n",
    "    for word in words:\n",
    "        # use the lower() method to make the comparison case-insensitive\n",
    "        if word.lower().startswith(letter):\n",
    "            count += 1\n",
    "    \n",
    "    return count\n",
    "\n",
    "# this function takes a string as input and returns the number of words that start with 'a'\n",
    "def count_words_starting_with_a_in_string(s):\n",
    "    # use the split_string() function to split the input string into a list of words\n",
    "    words = split_string(s)\n",
    "    \n",
    "    # use the count_words_starting_with_letter() function to count the number of words\n",
    "    # that start with 'a' in the list of words\n",
    "    count = count_words_starting_with_letter(words, \"a\")\n",
    "    \n",
    "    return count\n",
    "\n",
    "# see above\n",
    "def count_words_starting_with_d_in_string(s):\n",
    "    words = split_string(s)\n",
    "    count = count_words_starting_with_letter(words, \"d\")\n",
    "    return count\n",
    "\n",
    "def count_anything(sentence, letter):\n",
    "    \n",
    "    words = split_string(sentence)\n",
    "    \n",
    "    count = count_words_starting_with_letter(words, letter)\n",
    "    \n",
    "    return count\n",
    "\n",
    "# example usage:\n",
    "s = \"   This is  a  test  string! Don't you think this is cool? \"\n",
    "a_count = count_words_starting_with_a_in_string(s)\n",
    "d_count = count_words_starting_with_d_in_string(s)\n",
    "print(\"Words starting with a:\", a_count)\n",
    "print(\"Words starting with d:\", d_count)\n",
    "\n",
    "letter = input(\"Enter a letter\")\n",
    "output = count_anything(s, str(letter))\n",
    "print(\"Words starting with \" + str(letter) + \": \" + str(output))"
   ]
  },
  {
   "attachments": {},
   "cell_type": "markdown",
   "metadata": {},
   "source": [
    "Below is the code completing the hacks for David and Alex's section:"
   ]
  },
  {
   "cell_type": "code",
   "execution_count": 3,
   "metadata": {},
   "outputs": [
    {
     "name": "stdout",
     "output_type": "stream",
     "text": [
      "Enter a number\n",
      "52\n",
      "Enter another number\n",
      "2\n",
      "Do you want to add, subtract, multiply, or divide?\n",
      "subtract\n",
      "50\n"
     ]
    }
   ],
   "source": [
    "# 1.\n",
    "# \n",
    "# Procedure names: The name used to identify a unique procedure in a program\n",
    "# Arguments: Parameters in a procedure that are used as \"input\" to return an output based on\n",
    "# said input.\n",
    "\n",
    "# 2. It is not in JavaScript/HTML, it is in Python, but it is interactive.\n",
    "\n",
    "def add(a, b):\n",
    "    return a + b\n",
    "def subtract(a, b):\n",
    "    return a - b\n",
    "def multiply(a, b):\n",
    "    return a * b\n",
    "def divide(a, b):\n",
    "    return a / b\n",
    "\n",
    "print(\"Enter a number\")\n",
    "num1 = int(input(\"Enter a number\"))\n",
    "print(num1)\n",
    "\n",
    "print(\"Enter another number\")\n",
    "num2 = int(input(\"Enter another number\"))\n",
    "print(num2)\n",
    "\n",
    "print(\"Do you want to add, subtract, multiply, or divide?\")\n",
    "action = str(input(\"Do you want to add, subtract, multiply, or divide?\"))\n",
    "print(action)\n",
    "\n",
    "if action == \"add\":\n",
    "    print(add(num1, num2))\n",
    "elif action == \"subtract\":\n",
    "    print(subtract(num1, num2))\n",
    "elif action == \"multiply\":\n",
    "    print(multiply(num1, num2))\n",
    "elif action == \"divide\":\n",
    "    print(divide(num1, num2))"
   ]
  },
  {
   "attachments": {},
   "cell_type": "markdown",
   "metadata": {},
   "source": [
    "## 3.14 - 3.15"
   ]
  },
  {
   "cell_type": "code",
   "execution_count": null,
   "metadata": {},
   "outputs": [],
   "source": [
    "# Notes:\n",
    "\n",
    "# A library, or module, is any collection of functions, variables, and other code that can\n",
    "# be\n",
    "# used to help perform tasks and solve problems. There are many modules installed with \n",
    "# Python\n",
    "# today, such as turtle, random, math, pandas, and so much more. One can use the \"import\"\n",
    "# keyword to bring in a module to start using, and once one does that, can use all the\n",
    "# functions and code from the module possible. This is a really efficient way of taking code\n",
    "# from other sources to save time and not re-coding already coded features."
   ]
  },
  {
   "attachments": {},
   "cell_type": "markdown",
   "metadata": {},
   "source": [
    "Below is the code completing the hacks for Ethan's section:"
   ]
  },
  {
   "cell_type": "code",
   "execution_count": 1,
   "metadata": {},
   "outputs": [
    {
     "name": "stdout",
     "output_type": "stream",
     "text": [
      "You're wondering if you should or shouldn't do something. Ask.\n",
      "should i do csp hw\n",
      "You should do it.\n"
     ]
    }
   ],
   "source": [
    "# Below is a decision game that uses \"dice\" to help the user make decisions:\n",
    "\n",
    "import random\n",
    "\n",
    "dice = 0\n",
    "\n",
    "print(\"You're wondering if you should or shouldn't do something. Ask.\")\n",
    "question = input(\"You're wondering if you should or shouldn't do something. Ask.\")\n",
    "print(question)\n",
    "\n",
    "dice = random.randint(1, 15)\n",
    "\n",
    "if dice < 6:\n",
    "    print(\"Don't do it.\")\n",
    "elif dice > 5 and dice < 11:\n",
    "    print(\"Eh... I don't know, try again\")\n",
    "else:\n",
    "    print(\"You should do it.\")\n",
    "    \n",
    "\n",
    "\n",
    "# The import keyword, in this case, *import random*, is used to bring in all the functions, \n",
    "# variables, and the overall module of random into the program. One can choose to import \n",
    "# only certain functions and certain variables from the random module. \n",
    "# \n",
    "# But random is not the only library we can import. We can import turtle for animation, \n",
    "# pandas for AI, math for  mathematics, matplotlib.py for graphing, and many more."
   ]
  },
  {
   "cell_type": "code",
   "execution_count": 14,
   "metadata": {},
   "outputs": [
    {
     "name": "stdout",
     "output_type": "stream",
     "text": [
      "Blue\n"
     ]
    }
   ],
   "source": [
    "import random\n",
    "\n",
    "spinner = random.randint(1, 8)\n",
    "# Values 1 - 3 are green\n",
    "# Valeus 4 and 5 are blue\n",
    "# 6 is purple, 7 is red, and 8 is orange\n",
    "\n",
    "if (spinner > 4):\n",
    "    print(\"Green\")\n",
    "if (spinner == 4 or spinner == 5):\n",
    "    print(\"Blue\")\n",
    "if (spinner == 6):\n",
    "    print(\"Purple\")\n",
    "if (spinner == 7):\n",
    "    print(\"Red\")\n",
    "if (spinner == 8):\n",
    "    print(\"Orange\")\n",
    "    \n",
    "extra_credit_var = random.randint(12, 20) # numbers 12-20 can be chosen, including 12 and 20"
   ]
  },
  {
   "attachments": {},
   "cell_type": "markdown",
   "metadata": {},
   "source": [
    "Below is the code completing the hacks for Alexa, Lydia, and Ava's section:"
   ]
  },
  {
   "cell_type": "code",
   "execution_count": 30,
   "metadata": {},
   "outputs": [
    {
     "name": "stdout",
     "output_type": "stream",
     "text": [
      "Guess the number I'm thinking of, between 1 and 10\n",
      "You guessed 7\n",
      "Correct\n"
     ]
    }
   ],
   "source": [
    "# Below is an simulation of Guess the Number. \n",
    "# Notes:\n",
    "\n",
    "# This automates the roles of actual players, where random_num is the person who thinks of\n",
    "# a number, and the user is the player who guesses it. \n",
    "\n",
    "# Its advantages is that, unless modifications to cheat are made to this program, it is\n",
    "# completely fair. However, it does not have the same level of fun that games would have\n",
    "# with a two players who can emotionally respond to one another. Overall, this is a good\n",
    "# simulation for a test environment.\n",
    "\n",
    "# Depending on the goals of this simulation, an experiment may or may not be better. If the\n",
    "# goal of this project is to study the psychological factors of this game, then a live\n",
    "# experiment might be better. If the goal is to observe the working concepts of the game, \n",
    "# a simple simulation like this one will do fine:\n",
    "\n",
    "random_num = random.randint(1, 10)\n",
    "\n",
    "print(\"Guess the number I'm thinking of, between 1 and 10\")\n",
    "guess = int(input(\"Guess the number I'm thinking of, between 1 and 10\"))\n",
    "print(\"You guessed \" + str(guess))\n",
    "\n",
    "if guess == random_num:\n",
    "    print(\"Correct\")\n",
    "else:\n",
    "    print(\"Wrong, the number was \" + str(random_num))"
   ]
  },
  {
   "attachments": {},
   "cell_type": "markdown",
   "metadata": {},
   "source": [
    "Below is the code completing the hacks for Sri, Lydia, and Ava's section."
   ]
  },
  {
   "cell_type": "code",
   "execution_count": 12,
   "metadata": {},
   "outputs": [
    {
     "name": "stdout",
     "output_type": "stream",
     "text": [
      "Welcome to the Simulations Quiz!\n",
      "\n",
      " True or False: Simulations will always have the same result. \n",
      " A: True, \n",
      " B: False\n",
      "You said:  B\n",
      "Correct!\n",
      "\n",
      " True or False: A simulation has results that are more accurate than an experiment \n",
      " A: True, \n",
      " B: False\n",
      "You said:  B\n",
      "Correct!\n",
      "\n",
      " True or False: A simulation can model real world events that are not practical for experiments \n",
      " A: True, \n",
      " B: False\n",
      "You said:  A\n",
      "Correct!\n",
      "\n",
      " Which one of these is FALSE regarding simulations \n",
      " A: Reduces Costs, \n",
      " B: Is safer than real life experiments, \n",
      " C: More Efficient, \n",
      " D: More accurate than real life experiments\n",
      "You said:  D\n",
      "Correct!\n",
      "\n",
      " Which of the following scenarios would be the LEAST beneficial to have as a simulation \n",
      " A: A retail company wants to identify the item which sold the most on their website, \n",
      " B: A restaurant wants to determine if the use of robots will increase efficiency, \n",
      " C: An insurance company wants to study the impact of rain on car accidents, \n",
      " D: A sports car company wants to study design changes to their new bike design \n",
      "You said:  A\n",
      "Correct!\n",
      "\n",
      " Which of the following is better to do as a simulation than as a calculation \n",
      " A: Keeping score at a basketball game, \n",
      " B: Keeping track of how many games a person has won, \n",
      " C: Determining the average grade for a group of tests, \n",
      " D: Studying the impact of carbon emissions on the environment\n",
      "You said:  D\n",
      "Correct!\n",
      "You scored:  6 /6\n"
     ]
    }
   ],
   "source": [
    "questions_number = 6\n",
    "answers_correct = 0\n",
    "questions = [\n",
    "    \"True or False: Simulations will always have the same result. \\n A: True, \\n B: False\",\n",
    "    \"True or False: A simulation has results that are more accurate than an experiment \\n A: True, \\n B: False\",\n",
    "    \"True or False: A simulation can model real world events that are not practical for experiments \\n A: True, \\n B: False\",\n",
    "    \"Which one of these is FALSE regarding simulations \\n A: Reduces Costs, \\n B: Is safer than real life experiments, \\n C: More Efficient, \\n D: More accurate than real life experiments\",\n",
    "    \"Which of the following scenarios would be the LEAST beneficial to have as a simulation \\n A: A retail company wants to identify the item which sold the most on their website, \\n B: A restaurant wants to determine if the use of robots will increase efficiency, \\n C: An insurance company wants to study the impact of rain on car accidents, \\n D: A sports car company wants to study design changes to their new bike design \",\n",
    "    \"Which of the following is better to do as a simulation than as a calculation \\n A: Keeping score at a basketball game, \\n B: Keeping track of how many games a person has won, \\n C: Determining the average grade for a group of tests, \\n D: Studying the impact of carbon emissions on the environment\"\n",
    "]\n",
    "question_answers = [\n",
    "    \"B\",\n",
    "    \"B\",\n",
    "    \"A\",\n",
    "    \"D\",\n",
    "    \"A\",\n",
    "    \"D\"\n",
    "]\n",
    "\n",
    "print(\"Welcome to the Simulations Quiz!\")\n",
    "\n",
    "def ask_question (question, answer):\n",
    "    print(\"\\n\", question)\n",
    "    user_answer = input(question)\n",
    "    print(\"You said: \", user_answer)\n",
    "\n",
    "    if user_answer == answer:\n",
    "        print(\"Correct!\")\n",
    "        global answers_correct\n",
    "        answers_correct = answers_correct + 1\n",
    "    else:\n",
    "        print(\"You are incorrect\")\n",
    "    \n",
    "for num in range(questions_number):\n",
    "    ask_question(questions[num], question_answers[num])\n",
    "\n",
    "print(\"You scored: \", answers_correct, \"/6\")"
   ]
  },
  {
   "cell_type": "code",
   "execution_count": 19,
   "metadata": {},
   "outputs": [
    {
     "name": "stdout",
     "output_type": "stream",
     "text": [
      "You're wondering if you should or shouldn't do something. Ask.\n",
      "should I do my csp homework\n",
      "You should do it.\n"
     ]
    }
   ],
   "source": [
    "# The Rolling Dice Game:\n",
    "\n",
    "# Dice can be used for many things. One can guess the number that the dice is rolled on. One\n",
    "# can make a boolean statement depending on if the dice is greater than a certain number.\n",
    "# The possibilities are quite endless. Below is a decision game that uses \"dice\" to help\n",
    "# the user make decision (to put these notes into practice):\n",
    "\n",
    "import random\n",
    "\n",
    "dice = 0\n",
    "\n",
    "print(\"You're wondering if you should or shouldn't do something. Ask.\")\n",
    "question = input(\"You're wondering if you should or shouldn't do something. Ask.\")\n",
    "print(question)\n",
    "\n",
    "dice = random.randint(1, 15)\n",
    "\n",
    "if dice < 6:\n",
    "    print(\"Don't do it.\")\n",
    "elif dice > 5 and dice < 11:\n",
    "    print(\"Eh... I don't know, try again\")\n",
    "else:\n",
    "    print(\"You should do it.\")"
   ]
  },
  {
   "attachments": {},
   "cell_type": "markdown",
   "metadata": {},
   "source": [
    "For the extra credit, I did code Guess the Number at the very top of 3.16 hacks."
   ]
  },
  {
   "attachments": {},
   "cell_type": "markdown",
   "metadata": {},
   "source": [
    "## 3.17 - 3.18"
   ]
  },
  {
   "attachments": {},
   "cell_type": "markdown",
   "metadata": {},
   "source": [
    "Below is the code completing the hacks for Quinn's section:"
   ]
  },
  {
   "cell_type": "code",
   "execution_count": 8,
   "metadata": {},
   "outputs": [
    {
     "name": "stdout",
     "output_type": "stream",
     "text": [
      "22\n",
      "11.0\n",
      "34.0\n",
      "17.0\n",
      "52.0\n",
      "26.0\n",
      "13.0\n",
      "40.0\n",
      "20.0\n",
      "10.0\n",
      "5.0\n",
      "16.0\n",
      "8.0\n",
      "4.0\n",
      "2.0\n",
      "1.0\n"
     ]
    }
   ],
   "source": [
    "# Notes:\n",
    "# - Collatz conjecture: \"Whether or not repeating two simple arithmetic operations will \n",
    "#   eventually transform every positive integer into 1.\"\n",
    "# - Hailstone numbers: \"The sequence of integers generated by Collatz conjecture are called \n",
    "#   Hailstone Numbers. Examples:Input : N = 7 Output : Hailstone Numbers: 7, 22, 11, 34, 17, 52,\n",
    "#   26, 13, 40, 20, 10, 5, 16, 8, 4, 2, 1 No.> ### Iteration The action or a process of \n",
    "#   iterating or repeating:such as. : a procedure in which repetition of a sequence of \n",
    "#   operations yields results successively closer to a desired result.\"\n",
    "\n",
    "# What is Algorithm Efficiency?\n",
    "# Algorithmic efficiency is an aspect of algorithmic programming that measures the \n",
    "# number of steps needed to solve a problem. For instance, If I wanted to create a sorting \n",
    "# algorithm that sorts numbers the numbers [2,4,5,1,3]from least to greatest, rather than \n",
    "# having an algorithm that compares itself to the next number and swaps accordingly it would\n",
    "# be more efficient if you had a program that scans through all the numbers and checks whether\n",
    "# a number is smaller or bigger than the rest than and sorts accordingly. Both of the \n",
    "# algorithms had the same objective, but one runs more efficiently than the other.\n",
    "\n",
    "def collatz(num):\n",
    "    if num % 2 != 0:\n",
    "        num = num * 3\n",
    "        num = num + 1\n",
    "        return num\n",
    "    elif num % 2 == 0:\n",
    "        num = num / 2\n",
    "        return num\n",
    "      \n",
    "num = 7\n",
    "for i in range(16):\n",
    "    num = collatz(num)\n",
    "    print(num)"
   ]
  },
  {
   "attachments": {},
   "cell_type": "markdown",
   "metadata": {},
   "source": [
    "Below is the code completing the hacks for Kush and Yasha's section"
   ]
  },
  {
   "cell_type": "code",
   "execution_count": 11,
   "metadata": {},
   "outputs": [
    {
     "name": "stdout",
     "output_type": "stream",
     "text": [
      "Inefficient code:\n",
      "1\n",
      "2\n",
      "3\n",
      "4\n",
      "5\n",
      "Efficient code: \n",
      "1\n",
      "2\n",
      "3\n",
      "4\n",
      "5\n"
     ]
    }
   ],
   "source": [
    "# Inefficient code that takes up more space and is harder to code\n",
    "def inefficientPrinting():\n",
    "    print(1)\n",
    "    print(2)\n",
    "    print(3)\n",
    "    print(4)\n",
    "    print(5)\n",
    "\n",
    "# Efficient code that takes up less space and is easier to code\n",
    "def efficientPrinting():\n",
    "    for i in range(1, 6):\n",
    "        print(i)\n",
    "        \n",
    "print(\"Inefficient code:\")\n",
    "inefficientPrinting()\n",
    "print(\"Efficient code: \")\n",
    "efficientPrinting()"
   ]
  }
 ],
 "metadata": {
  "kernelspec": {
   "display_name": "Python 3.8.10 64-bit",
   "language": "python",
   "name": "python3"
  },
  "language_info": {
   "codemirror_mode": {
    "name": "ipython",
    "version": 3
   },
   "file_extension": ".py",
   "mimetype": "text/x-python",
   "name": "python",
   "nbconvert_exporter": "python",
   "pygments_lexer": "ipython3",
   "version": "3.8.10 (default, Jun 22 2022, 20:18:18) \n[GCC 9.4.0]"
  },
  "orig_nbformat": 4,
  "vscode": {
   "interpreter": {
    "hash": "916dbcbb3f70747c44a77c7bcd40155683ae19c65e1c03b4aa3499c5328201f1"
   }
  }
 },
 "nbformat": 4,
 "nbformat_minor": 2
}
