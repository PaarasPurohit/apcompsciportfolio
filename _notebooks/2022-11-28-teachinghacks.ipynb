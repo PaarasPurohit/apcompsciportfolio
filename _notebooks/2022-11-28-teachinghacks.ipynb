{
 "cells": [
  {
   "cell_type": "markdown",
   "metadata": {},
   "source": [
    "# Pre-Tree Hack Completion\n",
    "> Completing all the hacks for each lesson taught by students\n",
    "- toc: true\n",
    "- badges: true\n",
    "- comments: true\n",
    "- categories: [jupyter, python]"
   ]
  },
  {
   "cell_type": "markdown",
   "metadata": {},
   "source": [
    "## 3.1 and 3.2 Hacks\n",
    "Below is the code completing the hacks for Ederick's section"
   ]
  },
  {
   "cell_type": "code",
   "execution_count": 2,
   "metadata": {},
   "outputs": [
    {
     "name": "stdout",
     "output_type": "stream",
     "text": [
      "Hello, my name is Paaras. I am 15 and it is True, I am in computer science.\n"
     ]
    }
   ],
   "source": [
    "name = \"Paaras\"\n",
    "age = 15\n",
    "is_apcsp_student = True\n",
    "\n",
    "print(\"Hello, my name is \" + name + \". I am \" + str(age) + \" and it is \" + str(is_apcsp_student) + \", I am in computer science.\")"
   ]
  },
  {
   "cell_type": "markdown",
   "metadata": {},
   "source": [
    "Below is the code completing the hacks for Noor's section:"
   ]
  },
  {
   "cell_type": "code",
   "execution_count": 2,
   "metadata": {},
   "outputs": [
    {
     "name": "stdout",
     "output_type": "stream",
     "text": [
      "Paaras\n",
      "22\n"
     ]
    }
   ],
   "source": [
    "# An assignment operator, in Python at least, is the \"=\" sign. This is put between the \n",
    "# variable name and value, and is used to set a variable to something. \n",
    "\n",
    "name = \"Paaras\"\n",
    "print(name)\n",
    "\n",
    "# In the pseudocode used by CollegeBoard, the assignment operator is \"<-\" between the \n",
    "# variable name and value.\n",
    "\n",
    "# It depends where the print function is called. For this case, we will assume that the \n",
    "# print function is called finally. In this case, the command will display the number 22\n",
    "\n",
    "x = 15\n",
    "x = 22\n",
    "print(x)"
   ]
  },
  {
   "cell_type": "markdown",
   "metadata": {},
   "source": [
    "Below is the fixed code for the calendar. Put this code in a runnable HTML document and press CTRL+O in a new tab, it should run the code the correct way, showing my understanding of variables (the binary converter never showed up for me)."
   ]
  },
  {
   "cell_type": "code",
   "execution_count": null,
   "metadata": {
    "vscode": {
     "languageId": "html"
    }
   },
   "outputs": [],
   "source": [
    "<div class=\"container\">\n",
    "<div class=\"calendar\">\n",
    "<div class=\"month\">\n",
    "<button id=\"prev\" onclick=\"prev()\">Prev</button>\n",
    "<button id=\"next\" onclick=\"next()\">Next</button>\n",
    "\n",
    "<p id=\"month\">Month Here</p>\n",
    "</div>\n",
    "</div>\n",
    "</div>\n",
    "\n",
    "<script>\n",
    "\n",
    "let months = [\"January\", \"February\", \"March\", \"April\", \"May\", \"June\", \"July\", \"August\", \"September\", \"October\", \"November\", \"December\"];\n",
    "let index = 0;\n",
    "\n",
    "function next() {\n",
    "if (index > 11) {\n",
    "index = 0;\n",
    "}\n",
    "else {\n",
    "index += 1;\n",
    "}\n",
    "document.getElementById(\"month\").innerHTML = months[index]\n",
    "}\n",
    "\n",
    "function prev() {\n",
    "if (index < 0) {\n",
    "index = 11;\n",
    "}\n",
    "else {\n",
    "index -= 1;\n",
    "}\n",
    "document.getElementById(\"month\").innerHTML = months[index]\n",
    "}\n",
    "\n",
    "document.getElementById(\"month\").innerHTML = months[index]\n",
    "\n",
    "</script>"
   ]
  },
  {
   "cell_type": "code",
   "execution_count": 6,
   "metadata": {},
   "outputs": [
    {
     "name": "stdout",
     "output_type": "stream",
     "text": [
      "True\n",
      "Hello World\n",
      "o\n",
      "One of my favorite foods is taco. Another favorite food of mine is fruits\n"
     ]
    }
   ],
   "source": [
    "# A list is a type of abstraction that is a collection of many variables, not necessarily\n",
    "# of the same data type (in Python, at least). \n",
    "\n",
    "# An element of a list is a single item. Below is an example of a list, with three\n",
    "# elements:\n",
    "\n",
    "list = [64, \"Hello World\", True]\n",
    "\n",
    "# A programmer can access a list element from either side of a list. If the programmer is\n",
    "# accessing the element from the end, the programmer uses negative numbers, and positive\n",
    "# numbers for the beginning.\n",
    "\n",
    "# Prints \"True\"\n",
    "print(list[-1])\n",
    "# Prints \"Hello World\"\n",
    "print(list[1])\n",
    "\n",
    "# Strings are just arrays of characters, meaning that list functions can be used on\n",
    "# strings as well.\n",
    "\n",
    "string = \"Hello World\"\n",
    "# Prints \"o\"\n",
    "print(string[4])\n",
    "\n",
    "# The Actual Hacks:\n",
    "\n",
    "foods = [\"chicken\", \"burrito\", \"taco\", \"ramen\", \"fruits\", \"vegetables\"]\n",
    "\n",
    "print(\"One of my favorite foods is \" + foods[2] + \". Another favorite food of mine is \" + foods[-2])\n"
   ]
  },
  {
   "cell_type": "markdown",
   "metadata": {},
   "source": [
    "Below is the code completing the hacks for Steven's section:"
   ]
  },
  {
   "cell_type": "code",
   "execution_count": 20,
   "metadata": {},
   "outputs": [
    {
     "name": "stdout",
     "output_type": "stream",
     "text": [
      "Original list: [7895043, 278904325, 237890543278905432780912]\n",
      "Modified list: [7895044, 278904326, 237890543278905432780913]\n"
     ]
    }
   ],
   "source": [
    "num1 = input(\"Input a number >> \")\n",
    "num2 = input(\"Input another number >> \")\n",
    "num3 = input(\"Input one last number >> \")\n",
    "\n",
    "nums = []\n",
    "\n",
    "nums.append(int(num1))\n",
    "nums.append(int(num2))\n",
    "nums.append(int(num3))\n",
    "\n",
    "print(\"Original list: \" + str(nums))\n",
    "\n",
    "for i in range(0, len(nums)):\n",
    "    nums[i-1] += 1\n",
    "    \n",
    "print(\"Modified list: \" + str(nums))"
   ]
  },
  {
   "cell_type": "markdown",
   "metadata": {},
   "source": [
    "Below is the code completing the hacks for Liav's section:"
   ]
  },
  {
   "cell_type": "code",
   "execution_count": 21,
   "metadata": {},
   "outputs": [
    {
     "name": "stdout",
     "output_type": "stream",
     "text": [
      "Hello, paaraspurohit running /bin/python3\n",
      "You will be asked 4 questions.\n",
      "Question: Are you ready to take a test?\n",
      "Question: The purpose of lists and dictionaries are to manage the ____ of a program\n",
      "complexity is correct!\n",
      "Question: Lists are a form of data ______\n",
      "abstraction is correct!\n",
      "Question: Which brackets are used to assign values to a variable to make a list?\n",
      "[] is correct!\n",
      "paaraspurohit you scored 3/4\n"
     ]
    }
   ],
   "source": [
    "import getpass, sys\n",
    "\n",
    "def question_with_response(prompt):\n",
    "    print(\"Question: \" + prompt)\n",
    "    msg = input()\n",
    "    return msg\n",
    "\n",
    "questions = 4\n",
    "correct = 0\n",
    "\n",
    "print('Hello, ' + getpass.getuser() + \" running \" + sys.executable)\n",
    "print(\"You will be asked \" + str(questions) + \" questions.\")\n",
    "question_with_response(\"Are you ready to take a test?\")\n",
    "\n",
    "rsp = question_with_response(\"The purpose of lists and dictionaries are to manage the ____ of a program\")\n",
    "if rsp == \"complexity\":\n",
    "    print(rsp + \" is correct!\")\n",
    "    correct += 1\n",
    "else:\n",
    "    print(rsp + \" is incorrect!\")\n",
    "\n",
    "rsp = question_with_response(\"Lists are a form of data ______\")\n",
    "if rsp == \"abstraction\":\n",
    "    print(rsp + \" is correct!\")\n",
    "    correct += 1\n",
    "else:\n",
    "    print(rsp + \" is incorrect!\")\n",
    "\n",
    "rsp = question_with_response(\"Which brackets are used to assign values to a variable to make a list?\")\n",
    "if rsp == \"[]\":\n",
    "    print(rsp + \" is correct!\")\n",
    "    correct += 1\n",
    "else:\n",
    "    print(rsp + \" is incorrect!\") \n",
    "\n",
    "print(getpass.getuser() + \" you scored \" + str(correct) +\"/\" + str(questions))"
   ]
  },
  {
   "cell_type": "code",
   "execution_count": 22,
   "metadata": {},
   "outputs": [
    {
     "name": "stdout",
     "output_type": "stream",
     "text": [
      "['pizza', 'hot dog', 'sushi', 'strawberry', 'sandwich']\n"
     ]
    }
   ],
   "source": [
    "foods = [\"pizza\", \"hot dog\", \"sushi\", \"strawberry\", \"sandwich\"]\n",
    "print(foods)"
   ]
  },
  {
   "cell_type": "markdown",
   "metadata": {},
   "source": [
    "- *Why are using lists better for a program, rather than writing out each line of code?* I'm glad you asked. This gives me an opportunity to bring up a point that is important about data abstraction. When programmers say that lists make code easier, others think that lists are the key to have a relaxing time programming. This is a completely wrong thing to think, because programs, regardless of lists, can still be hard to code. Abstraction, despite the misconceptions, don't make code easier, but rather, they make code less prone to errors, which is commonly referred to as making it \"simpler.\" Something I've found while doing the hacks for this lesson.\n",
    "- *Make your own list the “long and slow way” then manage the complexity of the list*"
   ]
  },
  {
   "cell_type": "code",
   "execution_count": 23,
   "metadata": {},
   "outputs": [
    {
     "name": "stdout",
     "output_type": "stream",
     "text": [
      "['pizza', 'hot dog', 'sushi', 'strawberry', 'sandwich']\n"
     ]
    }
   ],
   "source": [
    "food1 = \"pizza\"\n",
    "food2 = \"hot dog\"\n",
    "food3 = \"sushi\"\n",
    "food4 = \"strawberry\"\n",
    "food5 = \"sandwich\"\n",
    "\n",
    "foods = [food1, food2, food3, food4, food5]\n",
    "\n",
    "print(foods)"
   ]
  },
  {
   "cell_type": "markdown",
   "metadata": {},
   "source": [
    "## 3.3 and 3.4 Hacks"
   ]
  },
  {
   "cell_type": "markdown",
   "metadata": {},
   "source": [
    "##### Luka's Hacks:\n",
    "1. Set item to number to search for.\n",
    "2. Get next number in the list. \n",
    "3. If number = item, display \"item found.\"\n",
    "4. If there are more numbers in the list, go back to Step 2.\n",
    "5. Display \"item not found.\"\n",
    "\n",
    "*Steps 2 and 4 are iteration. Steps 3 and 4 are selection. Steps 1-5 are a sequence*"
   ]
  },
  {
   "cell_type": "markdown",
   "metadata": {},
   "source": [
    "Below is the code completing the hacks for Luka's section"
   ]
  },
  {
   "cell_type": "code",
   "execution_count": 12,
   "metadata": {},
   "outputs": [
    {
     "name": "stdout",
     "output_type": "stream",
     "text": [
      "item found at index 1\n"
     ]
    }
   ],
   "source": [
    "nums = [1, 2, 3, 4, 5, 6, 7]\n",
    "num_to_find = 5\n",
    "\n",
    "for i in nums:\n",
    "    if nums[i] == num_to_find:\n",
    "        print(\"item found at index \" + str(i))\n",
    "        break"
   ]
  },
  {
   "cell_type": "markdown",
   "metadata": {},
   "source": [
    "Below is the code completing the hacks for Antony's section:"
   ]
  },
  {
   "cell_type": "code",
   "execution_count": 14,
   "metadata": {},
   "outputs": [
    {
     "name": "stdout",
     "output_type": "stream",
     "text": [
      "3.0\n"
     ]
    }
   ],
   "source": [
    "num1 = 5\n",
    "num2 = num1 * 3 # 5 / 3 = 15\n",
    "num3 = num2 / num1 * (9 % 2) * 4 # 9 % 2 = 1, 1 * 5 = 5, 15 / 5 = 3\n",
    "result = (num3 % num1 + num2) % num3 * 3 / 5 # Essentially, equals 3\n",
    "print(result)\n",
    "\n",
    "# For the crossword:\n",
    "\n",
    "# 1. Iteration\n",
    "# 2. Sequence\n",
    "# 3. Algorithm"
   ]
  },
  {
   "cell_type": "markdown",
   "metadata": {},
   "source": [
    "Hello!\n",
    "You will be asked 3 questions.\n",
    "ready,\n",
    "set,\n",
    "go!\n",
    " \n",
    " \n",
    "--- Options for question #1 ---\n",
    "A. The amount of bytes that the string takes up.\n",
    "B. The length of the string.\n",
    "C. The String but in binary.\n",
    "D. The Unicode of each letter in the string. \n",
    " \n",
    "--- !!! CAPITAL LETTERS ONLY !!! ---\n",
    " \n",
    "--- Question #1 ---\n",
    " What does the command 'len' ouput about the string?\n",
    "B\n",
    "B is correct!\n",
    " \n",
    " \n",
    "--- Options for question #2 ---\n",
    "T. True!\n",
    "F. False :(\n",
    " \n",
    "--- Question #2 ---\n",
    " The command 'substring' is used to conjoin two strings \n",
    "F\n",
    "F is correct!\n",
    " \n",
    " \n",
    "--- Options for question #3 ---\n",
    "A. Syntax Error \n",
    "B. 'Hel WorldHe' \n",
    "C. 'Helikopter Helikopter' \n",
    "D. 'lo Wo' \n",
    " \n",
    "--- Question #3 ---\n",
    " What will print('Hello World'[3:8]) print? (pretend that the single quotation marks are regular quotation marks.)\n",
    "D\n",
    "D is correct!\n",
    " \n",
    "--- score ---\n",
    "runner you scored 3/3\n",
    "--- !!! SCREENSHOT THIS AND INSERT IT ON YOUR BLOG !!! ---"
   ]
  }
 ],
 "metadata": {
  "kernelspec": {
   "display_name": "Python 3.8.10 64-bit",
   "language": "python",
   "name": "python3"
  },
  "language_info": {
   "codemirror_mode": {
    "name": "ipython",
    "version": 3
   },
   "file_extension": ".py",
   "mimetype": "text/x-python",
   "name": "python",
   "nbconvert_exporter": "python",
   "pygments_lexer": "ipython3",
   "version": "3.8.10"
  },
  "orig_nbformat": 4,
  "vscode": {
   "interpreter": {
    "hash": "916dbcbb3f70747c44a77c7bcd40155683ae19c65e1c03b4aa3499c5328201f1"
   }
  }
 },
 "nbformat": 4,
 "nbformat_minor": 2
}
