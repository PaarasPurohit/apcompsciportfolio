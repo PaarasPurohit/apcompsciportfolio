{
 "cells": [
  {
   "cell_type": "code",
   "execution_count": 4,
   "metadata": {},
   "outputs": [
    {
     "name": "stdout",
     "output_type": "stream",
     "text": [
      "3\n"
     ]
    }
   ],
   "source": [
    "x = 2\n",
    "y = 3\n",
    "z = 1\n",
    "max = 0\n",
    "\n",
    "if x > y and x > z:\n",
    "    max = x\n",
    "if y > x and y > z:\n",
    "    max = y\n",
    "else:\n",
    "    max = z\n",
    "    \n",
    "print(max)"
   ]
  },
  {
   "attachments": {},
   "cell_type": "markdown",
   "metadata": {},
   "source": [
    "a\n",
    "b\n",
    "a\n",
    "a\n",
    "d\n",
    "ca\n",
    "a\n",
    "bc\n",
    "a\n",
    "c\n",
    "c\n",
    "a\n",
    "b\n",
    "a\n",
    "b\n",
    "c\n",
    "c\n",
    "b\n",
    "ad\n",
    "d\n",
    "c\n",
    "d\n",
    "c\n",
    "b\n",
    "c\n",
    "d\n",
    "d\n",
    "c"
   ]
  }
 ],
 "metadata": {
  "kernelspec": {
   "display_name": "Python 3",
   "language": "python",
   "name": "python3"
  },
  "language_info": {
   "codemirror_mode": {
    "name": "ipython",
    "version": 3
   },
   "file_extension": ".py",
   "mimetype": "text/x-python",
   "name": "python",
   "nbconvert_exporter": "python",
   "pygments_lexer": "ipython3",
   "version": "3.8.10 (default, Nov 14 2022, 12:59:47) \n[GCC 9.4.0]"
  },
  "orig_nbformat": 4,
  "vscode": {
   "interpreter": {
    "hash": "916dbcbb3f70747c44a77c7bcd40155683ae19c65e1c03b4aa3499c5328201f1"
   }
  }
 },
 "nbformat": 4,
 "nbformat_minor": 2
}
