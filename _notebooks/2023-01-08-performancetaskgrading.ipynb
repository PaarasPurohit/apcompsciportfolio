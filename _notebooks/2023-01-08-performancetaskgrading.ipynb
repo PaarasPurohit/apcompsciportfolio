{
 "cells": [
  {
   "attachments": {},
   "cell_type": "markdown",
   "metadata": {},
   "source": [
    "# Performance Task Grading I\n",
    "> Grading the two projects using CollegeBoard rubric\n",
    "\n",
    "- title: Performance Task Grading I\n",
    "- toc: true\n",
    "- categories: [units]\n",
    "- permalink: /ptgfirst\n",
    "- tags: [hacks]"
   ]
  },
  {
   "attachments": {},
   "cell_type": "markdown",
   "metadata": {},
   "source": [
    "## Submissions\n",
    "#### What can be improved?\n",
    "\n",
    "The Purpose section of the project did not get credit, as the purpose was stated as, \n",
    "\n",
    "\"The overall purpose of the program is to provide information about a triangle based on inputted side lengths.\"\n",
    "\n",
    "and CollegeBoard indicated, \n",
    "\n",
    "\"The response does not specify the program’s purpose. Instead, it describes the function of the\n",
    "program, “to provide information about a triangle based on inputted side lengths.” The\n",
    "response does not meet this criteria.\" \n",
    "\n",
    "The purpose should either be a passion that is being pursued through the project, or a problem being solved through the project. A better purpose would probably be an app that helps students with complex trigonometry calculations, or the developer's passion for trigonometry being expressed through the project.\n",
    "\n",
    "Managing Complexity was not achieved due to unecessary and inaccurate answers in the written response. This could be improved on by making the code more efficient at the ending stages of the project. In the last couple weeks, students should analyze code and how it should be simplified to manage complexity. This means more organized lists, dictionaries, even simply organized code, and more.\n",
    "\n",
    "Submission II, as well as from CollegeBoard, gets full marks from me as well. It completes each row's instructions and is accurate in its detail."
   ]
  }
 ],
 "metadata": {
  "kernelspec": {
   "display_name": "Python 3",
   "language": "python",
   "name": "python3"
  },
  "language_info": {
   "name": "python",
   "version": "3.10.6 (main, Nov 14 2022, 16:10:14) [GCC 11.3.0]"
  },
  "orig_nbformat": 4,
  "vscode": {
   "interpreter": {
    "hash": "916dbcbb3f70747c44a77c7bcd40155683ae19c65e1c03b4aa3499c5328201f1"
   }
  }
 },
 "nbformat": 4,
 "nbformat_minor": 2
}
