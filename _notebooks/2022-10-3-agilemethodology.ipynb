{
 "cells": [
  {
   "cell_type": "markdown",
   "metadata": {},
   "source": [
    "# Agile Methodology\n",
    "##### by Paaras Purohit\n",
    "\n",
    "- title: Agile Methodology\n",
    "- toc: true\n",
    "- categories: [agile]\n",
    "- permalink: /agile\n",
    "- tags: [agile]"
   ]
  },
  {
   "cell_type": "markdown",
   "metadata": {},
   "source": [
    "- Scrum Master Samarth - He was responsible for making sure everyone was on task and communication was always active. He was basically the leader of our team.\n",
    "\n",
    "- Frontend Developer AJ - He was responsible for designing the user interface of the application, meaning everything the user could interact with\n",
    "\n",
    "- Backend Developer Haoxuan - He was responsible for the backend work, meaning everything that was important but the user could not interact with\n",
    "\n",
    "- DevOps Paaras - He was responsible for putting everything all together and in charge of the final deployment."
   ]
  }
 ],
 "metadata": {
  "kernelspec": {
   "display_name": "Python 3.8.10 64-bit",
   "language": "python",
   "name": "python3"
  },
  "language_info": {
   "name": "python",
   "version": "3.8.10"
  },
  "orig_nbformat": 4,
  "vscode": {
   "interpreter": {
    "hash": "916dbcbb3f70747c44a77c7bcd40155683ae19c65e1c03b4aa3499c5328201f1"
   }
  }
 },
 "nbformat": 4,
 "nbformat_minor": 2
}
