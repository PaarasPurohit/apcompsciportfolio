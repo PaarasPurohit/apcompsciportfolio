{
 "cells": [
  {
   "attachments": {},
   "cell_type": "markdown",
   "metadata": {},
   "source": [
    "# Newfound Motivation\n",
    "> What I did to be more motivated to be productive on our PBL\n",
    "\n",
    "- title: Newfound Motivation\n",
    "- toc: true\n",
    "- categories: [units]\n",
    "- permalink: /newfoundmotivation\n",
    "- tags: [hacks]"
   ]
  },
  {
   "attachments": {},
   "cell_type": "markdown",
   "metadata": {},
   "source": [
    "So this Sunday, I did the installations. The installations from Week 0. I should have done this the minute I found one of my tools not working and the solution was to do exactly that. Mr. Mortensen told me two things over the course of that time: He told me that experimentation is necessary to succeed, and that I should be able to experiment without him supervising all the time. The second thing he told me was that I felt the need to restrict myself, which I analyzed and found one thing to be the cause: procrastination. I put off re-installing and experimenting with environments for months, and that was a wrong thing to do. But yesterday, I just woke up and went straight to doing it. Mr. Mortensen also once let me know that he bought a fresh windows machine and did the installations working first try. After I did the installations, I felt so good. Not only did I just get over fear built on procrastination, but I actually understood what I was doing this time. On Week 0, I was just following instructions, however poorly. This time, I knew all the vocabulary - I knew that we were installing VsCode through the Ubuntu environment, cloning our repositories, and installing the proper kernels needed to complete work in the class. \n",
    "\n",
    "My advice to people? Stop procrastinating. The only way to do that is to just do it. Everyone is different, and there is a switch that clicks in the brain that allows for us to just do it, and once I clicked and was done with it, I felt so good and satisfied"
   ]
  }
 ],
 "metadata": {
  "kernelspec": {
   "display_name": "Python 3",
   "language": "python",
   "name": "python3"
  },
  "language_info": {
   "name": "python",
   "version": "3.10.6 (main, Nov 14 2022, 16:10:14) [GCC 11.3.0]"
  },
  "orig_nbformat": 4,
  "vscode": {
   "interpreter": {
    "hash": "916dbcbb3f70747c44a77c7bcd40155683ae19c65e1c03b4aa3499c5328201f1"
   }
  }
 },
 "nbformat": 4,
 "nbformat_minor": 2
}
