{
 "cells": [
  {
   "attachments": {},
   "cell_type": "markdown",
   "metadata": {},
   "source": [
    "# Legal and Ethical Concerns, Safe Computing\n",
    "> The Internet can be used to create wonderful things, but can also be used for nefarious purposes.\n",
    "\n",
    "- title: Legal and Ethical Concerns, Safe Computing\n",
    "- toc: true\n",
    "- categories: [units]\n",
    "- permalink: /legal-and-ethical-concerns-safe-computing\n",
    "- tags: [hacks]"
   ]
  },
  {
   "attachments": {},
   "cell_type": "markdown",
   "metadata": {},
   "source": [
    "## Legal and Ethical Concerns\n",
    "1. For our project, the GNU GPLv3 license will be the most efficient. Since our project is very small, we are not in need of a license making it closed-sources, or a license that a company such as Qualcomm might need. The license allows for distribution, modification, commercial use, private and patent use, but also has the conditions that the user has to disclose the source (us), license and copyright notice, have the same license, and state the changes the user has made. The only limitations on the license are the liability and warranty clauses of the project, which is fine for us.\n",
    "2. Answered in #1\n",
    "3. [Here](https://github.com/JakeWarren2414/dolphins2/blob/gh-pages/LICENSE) is our GNU GPLv3 license embedded in our project."
   ]
  },
  {
   "attachments": {},
   "cell_type": "markdown",
   "metadata": {},
   "source": [
    "## Safe Computing\n",
    "1. For our project, our app is not social, meaning that friends of a user cannot view online the user's statistics. If, however, one were to get access to the database, they would find your name, but they would also find things such as the users age, gender, weight, height, maximum calories, whether or not their calorie limit has been reached for the day, their body-mass-index, their workout routine, and what workouts/sports they do. The only dangerous thing they may find is the user's password.\n",
    "2. I am fine with people knowing my name, face, and general location (city or state, keeping it at that level of vague), but nothing else. \n",
    "3. A good password should either be either really long (but the user remembers it) or mixed with lowercase letters, uppercase letters, numbers, and special characters. One of my passwords is over 20 characters, for example.\n",
    "4. Symmetric encryption is where one key is used for locking and unlocking, and asymmetric is where a public and private key are used.\n",
    "5. AWS services use AES-256 encryption, an encrpytion method where a 256-bit key is used to encrypt and decrypt information.\n",
    "6. I have never fell for phising, because my goals right now do not pertain to making money the easy ways, but I do get a large amount of spam calls. Occasionally, I will answer them, and the scam is that they pick a service, and tell you that you have either won some prize or that your computer/phone/account is endangered of getting hacked in whatever service they pick. For example, an Amazon scam might choose the problematic route, and send an email \"informing\" you that you have purchased a very expensive iPhone, and leaving a small enough note somewhere that if you wish to cancel this, call a number. The victim calls the number, says they want to cancel the order of the iPhone, but instead of cancelling the order from the account itself, the scammer will say that the only way to do it is taking control of the phone's screen and doing it from the app. They won't say it that directly, or else they would have been out of business by now, but they do convince a lot of elderly and non-technological people. There are two ways to combat this: Either recognize when they want you to download any screen-controlling app (AnyDesk, TeamViewer, etc.) and don't fall for it but rather waste their time (they deserve it, and they have a very short temper) or just don't answer calls and ignore emails that are suspicous or that you don't recognize. Safe computing is very important in this day and age, and this is just one example that proves how necessary it is."
   ]
  }
 ],
 "metadata": {
  "kernelspec": {
   "display_name": "Python 3",
   "language": "python",
   "name": "python3"
  },
  "language_info": {
   "name": "python",
   "version": "3.8.10"
  },
  "orig_nbformat": 4,
  "vscode": {
   "interpreter": {
    "hash": "916dbcbb3f70747c44a77c7bcd40155683ae19c65e1c03b4aa3499c5328201f1"
   }
  }
 },
 "nbformat": 4,
 "nbformat_minor": 2
}
