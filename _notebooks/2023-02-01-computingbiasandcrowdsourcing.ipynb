{
 "cells": [
  {
   "attachments": {},
   "cell_type": "markdown",
   "metadata": {},
   "source": [
    "# Computing Bias and Crowdsourcing\n",
    "> Data is important. So is what one does with it. Collecting data, now that's interesting.\n",
    "\n",
    "- title: Computing Bias and Crowdsourcing\n",
    "- toc: true\n",
    "- categories: [units]\n",
    "- permalink: /computing-bias-and-crowdsourcing\n",
    "- tags: [hacks]"
   ]
  },
  {
   "attachments": {},
   "cell_type": "markdown",
   "metadata": {},
   "source": [
    "# Computing Bias"
   ]
  },
  {
   "attachments": {},
   "cell_type": "markdown",
   "metadata": {},
   "source": [
    "**Google “What age groups use Facebook” vs “… TikTok”? What does the data say? Is there purposeful exclusion in these platforms? Is it harmful? Should it be corrected? Is it good business?**\n",
    "The data says that Facebook's age range is around 25-30 years of age, and those much older. TikTok's range is mostly ranging from 7-25 years. Exclusion by convention and stereotyping are present in these platforms. A divide between two generations using different platforms could be a harmful effect of the platforms' age ranges. Correcting it would have diversity in age in the platform.\n",
    "\n",
    "**Why do virtual assistants have female voices? Amazon, Alexa Google, Apple Siri. Was this purposeful? Is it harmful? Should it be corrected? Is it good business?**\n",
    "A lot of reasons for virtual assistants being female include the preferance of a woman assistant over a man, the better and easier to understand sound of a woman's voice over a man, and customers simply prefer a female voice over a male. It does promote implicit sexism, meaning that the association to a woman's role in society to a secretarial job or assistant grows because of this. Correcting this, by changing a lot of the voices to male, may not be good business in this day and age, but \n",
    "\n",
    "**Talk about an algorithm that influences your decisions, think about these companies (ie FAANG - Facebook, Amazon, Apple,Netflix, Google)**\n",
    "What I click or view is taken by FAANG and used to produce more content for me to consume, which, in turn, influences decisions of mine."
   ]
  },
  {
   "cell_type": "markdown",
   "metadata": {},
   "source": [
    "What I click or view is taken by FAANG and used to produce more content for me to consume, which, in turn, influences decisions of mine."
   ]
  },
  {
   "attachments": {},
   "cell_type": "markdown",
   "metadata": {},
   "source": [
    "**Does the owner of the computer think this was intentional?**\n",
    "The owner of the computer did indeed think this was intentional. His exact words were, \"I'm sayin' it. Hewlett-Packard computers are racist. I said it!\"\n",
    "\n",
    "**How do you think this happened?**\n",
    "Usually, companies will send out surveys online asking users if they want to help test beta technology. The sample they picked from the overall population of users was not diverse enough in race, meaning that the facial recognition software was flawed.\n",
    "\n",
    "**Is this harmful? Was it intended to be harmful or exclude?**\n",
    "This is very harmful. A diverse group of people will be purchasing HP laptops with this technology, and because of the flaw, a lot of darker-skinned people will be excluded from this software.\n",
    "\n",
    "**Should it be corrected?**\n",
    "Yes\n",
    "\n",
    "**What would you or should you do to produce a better outcome?**\n",
    "I would, from the sample size gathered from the survey, choose a more diverse group of people myself, not just at random."
   ]
  },
  {
   "attachments": {},
   "cell_type": "markdown",
   "metadata": {},
   "source": [
    "# Crowdsourcing"
   ]
  },
  {
   "attachments": {},
   "cell_type": "markdown",
   "metadata": {},
   "source": [
    "**We have all experienced Crowdsourcing by using external data through API’s, namely RapidAPI. This data has influenced how we code and shown possibilities in obtaining and analyzing data. Discuss APIs you have used.**\n",
    "The only API I have used so far is an API on motivational quotes. It does not use a lot of crowdsourcing, but some API's that could be created from crowdsourcing are those that give data that requires sampling from a population.\n",
    "\n",
    "**We have all participated in code Crowdsourcing by using GitHub. Many of you have forked from the Teacher repository, or exchanged code with fellow students. Not only can we analyze GitHub code, but we can obtain profiles and history about the persons coding history. What is the biggest discovery you have found in GitHub?**\n",
    "One of the biggest discoveries about GitHub I have found is GitHub in its entirety. A freemium software that allows for commit changes through another IDE, has commands compatible with Shell code, allows for version control itself, which is a really useful concept, and the power of its ability for anyone to code what they want is fascinating to me.\n",
    "\n",
    "**Kaggle datasets for code and science exploration. The avenue of data points us youtube or netflix channels. Analyzing crowd data helps us make decisions. Exam top 10 to 20. Did you see anything interesting?**\n",
    "The top three trending ones were, in order, the top movies and directors of the US film industry, the arrests made in Chicago from 2014 till now, and a dataset relating video games, crime, and dropping out of school."
   ]
  },
  {
   "attachments": {},
   "cell_type": "markdown",
   "metadata": {},
   "source": [
    "# Hacks\n",
    "\n",
    "**CompSci has 150 ish principles students. Describe a crowdsource idea and how you might initiate it in our environment?**\n",
    "My feature is a nutrition feature. Some data I could collect is through crowdsourcing is asking the source or sample to look on the nutrition label on their lunches, and input some of the important values, such as calories. \n",
    "\n",
    "**What about Del Norte crowdsourcing? Could your project be better with crowdsourcing?**\n",
    "Yes. Getting data from everyone in Del Norte will make the application more fit for Del Norte. Actually, that is a good point about sampling: the more data collected from a population, the better fit the result is for the population (in the case of an application or PBL).\n",
    "\n",
    "**What kind of data could you capture at N@tM to make evening interesting? Perhaps use this data to impress Teachers during finals week.**\n",
    "I believe that the school food is not exactly the best food, and a lot of the choices the average high schooler makes regarding nutrition are not always the best. Therefore, data showing the nutritional data of Del Norte's food will most likely grab attention."
   ]
  }
 ],
 "metadata": {
  "kernelspec": {
   "display_name": "Python 3",
   "language": "python",
   "name": "python3"
  },
  "language_info": {
   "name": "python",
   "version": "3.8.10 (default, Nov 14 2022, 12:59:47) \n[GCC 9.4.0]"
  },
  "orig_nbformat": 4,
  "vscode": {
   "interpreter": {
    "hash": "916dbcbb3f70747c44a77c7bcd40155683ae19c65e1c03b4aa3499c5328201f1"
   }
  }
 },
 "nbformat": 4,
 "nbformat_minor": 2
}
