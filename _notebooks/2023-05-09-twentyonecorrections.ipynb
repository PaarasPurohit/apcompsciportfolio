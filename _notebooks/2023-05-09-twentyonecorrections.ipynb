{
 "cells": [
  {
   "attachments": {},
   "cell_type": "markdown",
   "metadata": {},
   "source": [
    "# 2021 MCQ Test Corrections + Extra Credit\n",
    "- toc: true\n",
    "- categories: [units]\n",
    "- permalink: /corrections-extra\n",
    "- tags: [hacks]"
   ]
  },
  {
   "attachments": {},
   "cell_type": "markdown",
   "metadata": {},
   "source": [
    "## Corrections:\n",
    "\n",
    "- #8 (Which of the following best describes a direct benefit in using redundant routing on the Internet?): D is incorrect. Redundancy on the Internet does not protect against communications being intercepted. Having multiple paths can increase the number of places that an unauthorized individual can intercept communications. The correct answer was C. If a particular device or connection on the Internet fails, subsequent data will be sent via a different route, if possible. This is supported by redundancy in the network.\n",
    "\n",
    "- #13 (Which of the following is NOT a benefit of collaborating to develop a computing innovation?): D is incorrect. Effective collaborative teams draw on the diverse perspectives, skills, and backgrounds of team members. The correct answer was C. While effective collaboration often benefits from a diversity of talents and perspectives, collaborators still need to develop strategies to resolve differences of opinion.\n",
    "\n",
    "- #54 (Using only the information in the database, which of the following questions CANNOT be answered?): C is incorrect. This information can be determined by comparing the weight of a truck when it last entered the depot to its weight when it last left the depot. The correct answer was B. The data captured each time a truck enters or leaves the depot do not include any information about the number of customers or deliveries associated with the truck.\n",
    "\n",
    "- #55 (A code segment is intended to transform the list utensils so that the last element of the list is moved to the beginning of the list. For example, if utensils initially contains  [\"fork\", \"spoon\", \"tongs\", \"spatula\", \"whisk\"], it should contain [\"whisk\", \"fork\", \"spoon\", \"tongs\", \"spatula\"] after executing the code segment. Which of the following code segments transforms the list as intended?): A is incorrect. This code segment assigns the value of the last element of the list to the variable temp, then removes the last element of the list, then appends temp to the end of the list. The resulting list is the same as the original list. The correct answer was C. This code segment assigns the value of the last element of the list to the variable temp, then removes the last element of the list, then inserts temp as the first element of the list."
   ]
  },
  {
   "attachments": {},
   "cell_type": "markdown",
   "metadata": {},
   "source": [
    "## Extra Credit\n",
    "> My take on how the lessons + what we practiced for/in the AP exam relates to our project succession, and how it can help us achieve a full-stack successful final project.\n",
    "\n",
    "Developing a full-stack project requires a wide range of skills and expertise in different fields. To build a project within two to three weeks, it's important to have a clear plan, identify the tools and resources needed, and break down the project into manageable tasks. One of the key skills required to build a full-stack project is binary math, which involves the use of binary numbers, logical operators, and bitwise operations.\n",
    "\n",
    "In addition to binary math, data analysis is another crucial skill required for developing a full-stack project. Data analysis involves the use of statistical techniques and tools to extract insights from data. It's essential to understand the data structures and algorithms used for data manipulation and processing. With the help of data analysis, we can extract valuable insights from the data and use them to improve the project.\n",
    "\n",
    "Front-end development is another essential skill required to develop a full-stack project. It involves designing and developing the user interface of the application, ensuring that it's user-friendly, responsive, and easy to navigate. To build a front-end, developers need to have knowledge of various programming languages, frameworks, and libraries such as HTML, CSS, JavaScript, React, and Angular.\n",
    "\n",
    "When building a full-stack project, it's important to select the right set of tools and technologies to achieve the desired outcome within the given timeframe. Some of the popular technologies used for building full-stack projects include Node.js, MongoDB, Express, React, and Angular. These tools and technologies are constantly evolving, and it's essential to keep up with the latest trends and best practices in the field.\n",
    "\n",
    "In conclusion, developing a full-stack project requires a diverse range of skills, including binary math, data analysis, and front-end development. To build a successful project within a tight timeframe, it's essential to have a clear plan, identify the required tools and resources, and break down the project into manageable tasks. By leveraging the right set of technologies and keeping up with the latest trends in the field, developers can create innovative and user-friendly applications that meet the needs of their target audience."
   ]
  }
 ],
 "metadata": {
  "language_info": {
   "name": "python"
  },
  "orig_nbformat": 4
 },
 "nbformat": 4,
 "nbformat_minor": 2
}
