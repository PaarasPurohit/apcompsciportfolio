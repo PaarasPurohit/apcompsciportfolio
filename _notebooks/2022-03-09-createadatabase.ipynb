{
 "cells": [
  {
   "attachments": {},
   "cell_type": "markdown",
   "metadata": {},
   "source": [
    "# Create A Database\n",
    "\n",
    "- title: Create A Database\n",
    "- toc: true\n",
    "- categories: [units]\n",
    "- permalink: /create-a-database\n",
    "- tags: [hacks]"
   ]
  },
  {
   "cell_type": "code",
   "execution_count": 18,
   "metadata": {},
   "outputs": [
    {
     "name": "stdout",
     "output_type": "stream",
     "text": [
      "All Data:\n",
      "  Student Name  Weight  Height  Calories\n",
      "0       Paaras     160      69      1819\n",
      "1      Chinmay     140      68      1800\n",
      "2        Tanay     140      66      1835\n",
      "3       Raunak     145      66      1825\n",
      "\n",
      "\n",
      "Just Weight and Calories:\n",
      " Weight  Calories\n",
      "    160      1819\n",
      "    140      1800\n",
      "    140      1835\n",
      "    145      1825\n",
      "\n",
      "\n",
      "Sorted by most to least calories per day:\n",
      "  Student Name  Weight  Height  Calories\n",
      "1      Chinmay     140      68      1800\n",
      "0       Paaras     160      69      1819\n",
      "3       Raunak     145      66      1825\n",
      "2        Tanay     140      66      1835\n",
      "\n",
      "\n"
     ]
    }
   ],
   "source": [
    "import pandas as pd\n",
    "\n",
    "df = pd.read_json('files/fitness.json')\n",
    "\n",
    "print(\"All Data:\")\n",
    "print(df)\n",
    "\n",
    "print(\"\\n\")\n",
    "\n",
    "print(\"Just Weight and Calories:\")\n",
    "print(df[['Weight','Calories']].to_string(index=False))\n",
    "\n",
    "print(\"\\n\")\n",
    "\n",
    "print(\"Sorted by most to least calories per day:\")\n",
    "print(df.sort_values(by=['Calories'], ascending=True))\n",
    "\n",
    "print(\"\\n\")\n"
   ]
  },
  {
   "cell_type": "code",
   "execution_count": 19,
   "metadata": {},
   "outputs": [
    {
     "name": "stdout",
     "output_type": "stream",
     "text": [
      "Who's weight is above 150 pounds?\n",
      "  Student Name  Weight  Height  Calories\n",
      "0       Paaras     160      69      1819\n",
      "\n",
      "\n",
      "Tallest:\n",
      "  Student Name  Weight  Height  Calories\n",
      "0       Paaras     160      69      1819\n",
      "Shortest:\n",
      "  Student Name  Weight  Height  Calories\n",
      "2        Tanay     140      66      1835\n",
      "3       Raunak     145      66      1825\n"
     ]
    }
   ],
   "source": [
    "\n",
    "print(\"Who's weight is above 150 pounds?\")\n",
    "print(df[df.Weight > 150])\n",
    "\n",
    "print(\"\\n\")\n",
    "\n",
    "print(\"Tallest:\")\n",
    "print(df[df.Height == df.Height.max()])\n",
    "print(\"Shortest:\")\n",
    "print(df[df.Height == df.Height.min()])"
   ]
  }
 ],
 "metadata": {
  "kernelspec": {
   "display_name": "base",
   "language": "python",
   "name": "python3"
  },
  "language_info": {
   "codemirror_mode": {
    "name": "ipython",
    "version": 3
   },
   "file_extension": ".py",
   "mimetype": "text/x-python",
   "name": "python",
   "nbconvert_exporter": "python",
   "pygments_lexer": "ipython3",
   "version": "3.9.12"
  },
  "orig_nbformat": 4
 },
 "nbformat": 4,
 "nbformat_minor": 2
}
