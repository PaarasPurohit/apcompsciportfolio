{
 "cells": [
  {
   "cell_type": "markdown",
   "metadata": {},
   "source": [
    "# Binary Through Conditionals\n",
    "##### How conditionals can be shown through binary numbers\n",
    "\n",
    "- title: Binary Through Conditionals\n",
    "- toc: true\n",
    "- categories: [tri2]\n",
    "- permalink: /binary-example-post\n",
    "- tags: [tri2]"
   ]
  },
  {
   "cell_type": "markdown",
   "metadata": {},
   "source": [
    "Conditionals can be shown through binary numbers as well. In many instances, programmers refer to the binary number 0 as false, and the binary number 1 as true. This is also used in the transistors of computers. Binary logic is not just used for number logic, but it is also used to tell true and false. A recap of conditionals: \n",
    "\n",
    "- AND:\n",
    "  1 and 1 = 1\n",
    "  1 and 0 = 0\n",
    "  0 and 0 = 0\n",
    "\n",
    "- OR:\n",
    "  1 or 1 = 1\n",
    "  1 or 0 = 1\n",
    "  0 or 0 = 0\n",
    "\n",
    "- EXCLUSIVE-OR\n",
    "  1 xor 1 = 0\n",
    "  0 xor 0 = 0\n",
    "  1 xor 0 = 1\n",
    "\n",
    "A note about XOR: In case the pattern was clear, XOR is a conditional in where it returns true if both parts are true and false, or false and true, but returns false when both parts are true or both parts are false."
   ]
  }
 ],
 "metadata": {
  "language_info": {
   "name": "python"
  },
  "orig_nbformat": 4
 },
 "nbformat": 4,
 "nbformat_minor": 2
}
