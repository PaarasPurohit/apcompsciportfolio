{
 "cells": [
  {
   "attachments": {},
   "cell_type": "markdown",
   "metadata": {},
   "source": [
    "# AP Prep 2.2 and 2.3\n",
    "> We can compress data and extract information from it\n",
    "\n",
    "- title: AP Prep 2.2 and 2.3\n",
    "- toc: true\n",
    "- categories: [units]\n",
    "- permalink: /ap-prep-first\n",
    "- tags: [hacks]"
   ]
  },
  {
   "attachments": {},
   "cell_type": "markdown",
   "metadata": {},
   "source": [
    "## 2.2 Data Compression"
   ]
  },
  {
   "cell_type": "markdown",
   "metadata": {},
   "source": [
    "\n",
    "### Essential Knowledge:\n",
    "\n",
    "- Data compression can reduce the number of bits, or size, of transmitted or stored data\n",
    "- Fewer bits does not necessarily mean less information\n",
    "- The amount of size reduction from compression depends on both the amount of redundancy in the original data representation and the compression algorithm applied\n",
    "- Lossless data compression algorithms can usually reduce the number of bits stored or transmitted while guaranteeing complete reconstruction of the original data\n",
    "- Lossy data compression algorithms can significantly reduce the number of bits stored or transmitted but only allow reconstruction of an approximation of the original data\n",
    "- Lossy data compression algorithms can usually reduce the number of bits stored or transmitted more than lossless compression algorithms\n",
    "- In situations where quality or ability to reconstruct the original is maximally important, lossless compression algorithms are typically chosen.\n",
    "- In situations where minimizing data size or transmission time is maximally important, lossy compression algorithms are typically chosen."
   ]
  },
  {
   "attachments": {},
   "cell_type": "markdown",
   "metadata": {},
   "source": [
    "### What is Data Compression?\n",
    "- Data compression is a reduction in the number of bits needed to represent data\n",
    "- Data compression is used to save transmission time and storage space"
   ]
  },
  {
   "attachments": {},
   "cell_type": "markdown",
   "metadata": {},
   "source": [
    "### How Does Compression Work?\n",
    "- When data is compressed, you are looking for repeated patterns and predictability\n",
    "- Example: XXXOOXX = X<sup>3</sup>O<sup>2</sup>X<sup>2</sup>\n",
    "- The larger the data file, the more patterns that can be pulled out"
   ]
  },
  {
   "attachments": {},
   "cell_type": "markdown",
   "metadata": {},
   "source": [
    "### Text Compression\n",
    "- Remove all repeated characters and insert a single character or symbol in its place\n",
    "- Example: Twinkle Twinkle Little Star = * * Little Star"
   ]
  },
  {
   "attachments": {},
   "cell_type": "markdown",
   "metadata": {},
   "source": [
    "### Data Compression Methods: Lossless Vs. Lossy\n",
    "- Lossless: Reduces the number of bits stored or transmitted while guaranteeing complete reconstruction of the original data. This is used where the removal of small data changes the overall file.\n",
    "- Lossy: Significantly reduces the number of bits stored or transmitted but only allow reconstruction of an approximation of the original data. This is used where the removal of small data removes redundancy.\n",
    "- Example: A detailed sky with multiple shades of blue will be averaged out to one shade of blue in the JPG algorithm."
   ]
  },
  {
   "attachments": {},
   "cell_type": "markdown",
   "metadata": {},
   "source": [
    "### Practice Problem\n",
    "\n",
    "The text given in the practice problem decodes to: Humpty Dumpty sat on a wall, Humpty Dumpty had a great fall, all the king's horses and all the king's men, Couldn't put Humpty together again."
   ]
  },
  {
   "attachments": {},
   "cell_type": "markdown",
   "metadata": {},
   "source": [
    "## 2.3.1 - Extracting Information from Data"
   ]
  },
  {
   "attachments": {},
   "cell_type": "markdown",
   "metadata": {},
   "source": [
    "### Essential Knowledge\n",
    "- The ability to process data depends on the capabilities of the user and their tools\n",
    "- Data sets pose challenges regardless of size, such as the need to clean data, incomplete data, invalid data, and the need to combine data sources\n",
    "- Depending on how data were collected, they may not be uniform\n",
    "- Cleaning data is a process that makes the data uniform without changing their meaning\n",
    "- Problems of bias are often created by the type or source of data being collected. Bias is not eliminated by simply collecting more data\n",
    "- The size of a data set affects the amount of information that can be extracted from it\n",
    "- Large data sets are difficult to process using a single computer and may require parallel systems\n",
    "- Scalability of systems is an important consideration when working with data sets, as the computational capacity of a system affects how data sets can be processed and stored."
   ]
  },
  {
   "attachments": {},
   "cell_type": "markdown",
   "metadata": {},
   "source": [
    "### Where do we start with data?\n",
    "- Collecting data\n",
    "    - Issues to consider:\n",
    "        - Source\n",
    "            - Do you need more sources?\n",
    "        - Tools to analyze data\n",
    "- Processing data is affected by size\n",
    "    - How much information can we get?\n",
    "    - Can one computer handle our task?\n",
    "        - May need to use parallel processing\n",
    "            - Use two or more processors to handle different parts of the task\n",
    "            - Check the scalability of the system.\n",
    "- Is there potential bias?\n",
    "    - Intentional:\n",
    "        - Who collected the data?\n",
    "        - Do they have an agenda?\n",
    "    - Unintentional?\n",
    "        - How is the data collected?\n",
    "        - Who collected the data?\n",
    "- Data Cleaning:\n",
    "    - Identifying incomplete, corrupt, duplicate, or inaccurate records\n",
    "    - Replacing, modifying, or deleting the \"dirty\" data\n",
    "- Be careful about modifying or deleting!\n",
    "    - Be sure there is a mistake!\n",
    "    - Keep records of what data is modified/deleted and WHY\n",
    "    - Invalid data may need to be modified - keep form consistent\n",
    "    "
   ]
  },
  {
   "attachments": {},
   "cell_type": "markdown",
   "metadata": {},
   "source": [
    "### Practice Problems:\n",
    "From the sample data shown in the video, here is the data that needs to be modified:\n",
    "- The 10th student ID is missing\n",
    "- The 5th and 9th years in school are not numbers like the rest of the column\n",
    "- The 2nd and 8th GPA's need to be two decimal places, having zeroes where need be.\n",
    "- The sixth year in school and the fifth GPA are inaccurate. There is no way a high school student is in Year 20, and we can assume that it is highly unlikely that a GPA higher than 4.0 is possible in this scenario"
   ]
  },
  {
   "attachments": {},
   "cell_type": "markdown",
   "metadata": {},
   "source": [
    "## 2.3.2 - Extracting Information from Data"
   ]
  },
  {
   "attachments": {},
   "cell_type": "markdown",
   "metadata": {},
   "source": [
    "### Essential Knowledge\n",
    "- Information is the collection of facts and patters extracted from data\n",
    "- Data provides opportunities for identifying trends, making connections, and addressing problems\n",
    "- Digitally processed data may show correlation between variables. A correlation found in data does not necessarily indicate that a causal relationship exists. Additional research is needed to understand the exact nature of the relationship.\n",
    "- Often a single source does not contain the data needed to draw conclusion.\n",
    "- Metadata are data about data\n",
    "- Changes and deletions made to metadata do not change the primary data\n",
    "- Metadata are used for finding, organizing, and managing information.\n",
    "- Metadata can increase the effective use of data or data sets by providing additional information\n",
    "- Metadata allow data to be structured and organized."
   ]
  },
  {
   "attachments": {},
   "cell_type": "markdown",
   "metadata": {},
   "source": [
    "### What is metadata?\n",
    "- Prefix meta\n",
    "    - behind, among, between\n",
    "    - metadata - data about data\n",
    "- Some data has information about itself\n",
    "    - Author\n",
    "    - Date\n",
    "    - Length/Size\n",
    "- Why?\n",
    "    - Identify\n",
    "    - Track/Organize\n",
    "    - Process\n",
    "- Example: A photo includes:\n",
    "    - Date\n",
    "    - Time\n",
    "    - Location\n",
    "    - Height\n",
    "    - Width\n",
    "    - Pixels\n",
    "    - Type of compression\n",
    "    "
   ]
  },
  {
   "attachments": {},
   "cell_type": "markdown",
   "metadata": {},
   "source": [
    "### Practice Problems\n",
    "Metadata in the book mentioned in the video:\n",
    "- Author\n",
    "- Title\n",
    "- Genre\n",
    "- Date of Publication\n",
    "- Length\n",
    "\n",
    "How can it be used?\n",
    "- Suggest other books\n",
    "- Organize inventory"
   ]
  },
  {
   "attachments": {},
   "cell_type": "markdown",
   "metadata": {},
   "source": [
    "### Finding Patterns\n",
    "- Data allows us to gain knowledge:\n",
    "    - Look for trends\n",
    "    - Look for patterns\n",
    "    - Answer questions\n",
    "- Be Careful!\n",
    "- Look out for misleading trends/patterns\n",
    "- Correlation does not equal causation"
   ]
  },
  {
   "attachments": {},
   "cell_type": "markdown",
   "metadata": {},
   "source": [
    "## What I Took Away\n",
    "\n",
    "- Data compression - lossless for keeping as much data as possible, lossy for removing all small details - is used to transmit or store data with less bits for storage and time complexity.\n",
    "- Extracting information from data requires programmers to go beyond the data set, using tools such as metadata and additional resources."
   ]
  }
 ],
 "metadata": {
  "language_info": {
   "name": "python"
  },
  "orig_nbformat": 4
 },
 "nbformat": 4,
 "nbformat_minor": 2
}
