{
 "cells": [
  {
   "attachments": {},
   "cell_type": "markdown",
   "metadata": {},
   "source": [
    "# Beneficial and Harmful Effects, Digital Divide\n",
    "> Questions about what we read regarding the big ideas\n",
    "\n",
    "- title: Beneficial and Harmful Effects, Digital Divide\n",
    "- toc: true\n",
    "- categories: [tri2]\n",
    "- permalink: /bhd\n",
    "- tags: [tri2]"
   ]
  },
  {
   "attachments": {},
   "cell_type": "markdown",
   "metadata": {},
   "source": [
    "## Questions\n",
    "\n",
    "- *Think of three beneficial effects of your projects based on 5.1 Unit*\n",
    "    We identify a big problem in the world, solve that problem, and inspire the users to do so. Our problem is an unhealthy lifestyle. We solve this by calculating data that is later used to create a new lifestyle for the user. We inspire the user through facts and motivational user experience.\n",
    "- *Think of a potential harmful effect of your project.*\n",
    "    Unfortunately, every project has some loophole to be used for harm. The data gathered, if not meeting the user's expectations, can result in a harmful user experience.\n",
    "- *Answer with an opinion and learnings so far this year:  What are pros/cons on internet blockers at router and lack of admin password on lab machines at school?*\n",
    "    The pro is that students are only able to put their attention on academics, nothing irrelevant. The con is that in some classes, meaning all CTE classes requiring computers, students are not able to access the same tools that they can in real life, strengthening the digital divide. \n",
    "- *What concerns do you have personally about the digital divide?  For yourself or for others.*\n",
    "    I think that, as engineers, we should take some time out of each week or each tech talk or each day to think about what we can do to solve the digital divide in a way that provides the most education as well as the most balance with everything.\n"
   ]
  }
 ],
 "metadata": {
  "kernelspec": {
   "display_name": "Python 3",
   "language": "python",
   "name": "python3"
  },
  "language_info": {
   "name": "python",
   "version": "3.8.10 (default, Nov 14 2022, 12:59:47) \n[GCC 9.4.0]"
  },
  "orig_nbformat": 4,
  "vscode": {
   "interpreter": {
    "hash": "916dbcbb3f70747c44a77c7bcd40155683ae19c65e1c03b4aa3499c5328201f1"
   }
  }
 },
 "nbformat": 4,
 "nbformat_minor": 2
}
