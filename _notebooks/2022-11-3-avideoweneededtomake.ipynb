{
 "cells": [
  {
   "cell_type": "markdown",
   "metadata": {},
   "source": [
    "# Night at the Museum (Project Week III)\n",
    "##### The final day that mattered in Tri 1. I took notes on other classes and what they were assigned to do. Here's how it went.\n",
    "\n",
    "- title: Night at the Museum - Project Week III\n",
    "- toc: true\n",
    "- categories: [finalproject]\n",
    "- permalink: /night-museum\n",
    "- tags: [finalproject]"
   ]
  },
  {
   "cell_type": "markdown",
   "metadata": {},
   "source": [
    "https://www.youtube.com"
   ]
  }
 ],
 "metadata": {
  "kernelspec": {
   "display_name": "Python 3.8.10 64-bit",
   "language": "python",
   "name": "python3"
  },
  "language_info": {
   "name": "python",
   "version": "3.8.10"
  },
  "orig_nbformat": 4,
  "vscode": {
   "interpreter": {
    "hash": "916dbcbb3f70747c44a77c7bcd40155683ae19c65e1c03b4aa3499c5328201f1"
   }
  }
 },
 "nbformat": 4,
 "nbformat_minor": 2
}
