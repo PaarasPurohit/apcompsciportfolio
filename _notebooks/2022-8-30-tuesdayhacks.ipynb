{
 "cells": [
  {
   "cell_type": "markdown",
   "metadata": {},
   "source": [
    "# Hacks for 8/30\n",
    "> The three hacks for August 30 on the lesson for lists, dictionaries, iterations, etc.\n",
    "\n",
    "- title: Hacks for 8/30\n",
    "- toc: true\n",
    "- categories: [units]\n",
    "- permalink: /hacksforaugustthreezero\n",
    "- tags: [hacks]"
   ]
  },
  {
   "cell_type": "markdown",
   "metadata": {},
   "source": [
    "> ## Hack I: Adding a record of mine to the InfoDb"
   ]
  },
  {
   "cell_type": "code",
   "execution_count": 1,
   "metadata": {},
   "outputs": [
    {
     "name": "stdout",
     "output_type": "stream",
     "text": [
      "[{'FirstName': 'John', 'LastName': 'Mortensen', 'DOB': 'October 21', 'Residence': 'San Diego', 'Email': 'jmortensen@powayusd.com', 'Owns_Cars': ['2015-Fusion', '2011-Ranger', '2003-Excursion', '1997-F350', '1969-Cadillac']}, {'FirstName': 'Sunny', 'LastName': 'Naidu', 'DOB': 'August 2', 'Residence': 'Temecula', 'Email': 'snaidu@powayusd.com', 'Owns_Cars': ['4Runner']}, {'FirstName': 'Paaras', 'LastName': 'Purohit', 'DOB': 'August 1', 'Residence': 'San Diego', 'Email': 'paarasp64844@stu.powayusd.com', 'Owns_Cars': ['MercedesBenz', 'NissanLeaf']}]\n"
     ]
    }
   ],
   "source": [
    "# Define an empty List called InfoDb\n",
    "InfoDb = []\n",
    "\n",
    "# InfoDB is a data structure with expected Keys and Values\n",
    "\n",
    "# Append to List a Dictionary of key/values related to a person and cars\n",
    "InfoDb.append({\n",
    "    \"FirstName\": \"John\",\n",
    "    \"LastName\": \"Mortensen\",\n",
    "    \"DOB\": \"October 21\",\n",
    "    \"Residence\": \"San Diego\",\n",
    "    \"Email\": \"jmortensen@powayusd.com\",\n",
    "    \"Owns_Cars\": [\"2015-Fusion\", \"2011-Ranger\", \"2003-Excursion\", \"1997-F350\", \"1969-Cadillac\"]\n",
    "})\n",
    "\n",
    "# Append to List a 2nd Dictionary of key/values\n",
    "InfoDb.append({\n",
    "    \"FirstName\": \"Sunny\",\n",
    "    \"LastName\": \"Naidu\",\n",
    "    \"DOB\": \"August 2\",\n",
    "    \"Residence\": \"Temecula\",\n",
    "    \"Email\": \"snaidu@powayusd.com\",\n",
    "    \"Owns_Cars\": [\"4Runner\"]\n",
    "})\n",
    "\n",
    "InfoDb.append({\n",
    "    \"FirstName\": \"Paaras\",\n",
    "    \"LastName\": \"Purohit\",\n",
    "    \"DOB\": \"August 1\",\n",
    "    \"Residence\": \"San Diego\",\n",
    "    \"Email\": \"paarasp64844@stu.powayusd.com\",\n",
    "    \"Owns_Cars\": [\"MercedesBenz\", \"NissanLeaf\"]\n",
    "})\n",
    "\n",
    "# Print the data structure\n",
    "print(InfoDb)"
   ]
  },
  {
   "cell_type": "markdown",
   "metadata": {},
   "source": [
    "> ## Hack II: For Loop With Index"
   ]
  },
  {
   "cell_type": "code",
   "execution_count": null,
   "metadata": {},
   "outputs": [],
   "source": [
    "# A very simple program, designed only for the purpose of displaying using loops with\n",
    "# arrays and indexes. I would have defintely done much more complex programs, but I\n",
    "# couldn't think of any on the spot that did not require me to import any heavy libraries.\n",
    "# However, this gets the job done, and is a base for much more complex programs.\n",
    "\n",
    "def find_even_numbers(array):\n",
    "    nums = []\n",
    "    for i in array:\n",
    "        if i % 2 == 0:\n",
    "            nums.append(i)\n",
    "        else:\n",
    "            continue\n",
    "    return nums\n",
    "\n",
    "numbers = [5, 19, 3, 24, 4, 15, 9, 10, 6, 11]\n",
    "print(find_even_numbers(numbers))"
   ]
  },
  {
   "cell_type": "markdown",
   "metadata": {},
   "source": [
    "> ## Hack III: Pair Share"
   ]
  },
  {
   "cell_type": "markdown",
   "metadata": {},
   "source": [
    "- Would it be possible to output data in reverse order?\n",
    "\n",
    "    Yes, there are two efficient ways to do it. The first is using the reverse() method, or sometimes the reversed() method. both the job done, but the syntax is different. reversed() is used the same way one would use len() or sum() methods. Below is an example of the reverse() method."
   ]
  },
  {
   "cell_type": "code",
   "execution_count": null,
   "metadata": {},
   "outputs": [],
   "source": [
    "nums = [1, 2, 3, 4, 5]\n",
    "print(nums.reverse())"
   ]
  },
  {
   "cell_type": "markdown",
   "metadata": {},
   "source": [
    "Another way of reversing an output is by using the insert() method. Below is an example of this being done."
   ]
  },
  {
   "cell_type": "code",
   "execution_count": null,
   "metadata": {},
   "outputs": [],
   "source": [
    "\n",
    "list = [10, 11, 12, 13, 14, 15]\n",
    "result = []\n",
    " \n",
    "for i in list:\n",
    "    result.insert(0, i)\n",
    "print(result)"
   ]
  },
  {
   "cell_type": "markdown",
   "metadata": {},
   "source": [
    "- Are there other methods that can be performed on lists?\n",
    "\n",
    "    There are so many methods that can be applied to lists. There are too many for just one page, but they usually help with gathering data from lists, and using that data to solve problems, return certain things, and more."
   ]
  },
  {
   "cell_type": "markdown",
   "metadata": {},
   "source": [
    "- Could you create new or add to dictionary data set?  Could you do it with input? Make a quiz that stores in a List of Dictionaries."
   ]
  },
  {
   "cell_type": "code",
   "execution_count": null,
   "metadata": {},
   "outputs": [],
   "source": [
    "# figure something cool out"
   ]
  }
 ],
 "metadata": {
  "kernelspec": {
   "display_name": "Python 3.8.10 64-bit",
   "language": "python",
   "name": "python3"
  },
  "language_info": {
   "codemirror_mode": {
    "name": "ipython",
    "version": 3
   },
   "file_extension": ".py",
   "mimetype": "text/x-python",
   "name": "python",
   "nbconvert_exporter": "python",
   "pygments_lexer": "ipython3",
   "version": "3.8.10"
  },
  "orig_nbformat": 4,
  "vscode": {
   "interpreter": {
    "hash": "916dbcbb3f70747c44a77c7bcd40155683ae19c65e1c03b4aa3499c5328201f1"
   }
  }
 },
 "nbformat": 4,
 "nbformat_minor": 2
}
