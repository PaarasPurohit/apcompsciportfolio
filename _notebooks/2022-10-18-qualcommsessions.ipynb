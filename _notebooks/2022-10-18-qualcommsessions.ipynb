{
 "cells": [
  {
   "cell_type": "markdown",
   "metadata": {},
   "source": [
    "# Extra Credit - Qualcomm Presentations\n",
    "##### I attended the virtual meetings on STEM by Qualcomm. Here's what I learned.\n",
    "\n",
    "- title: Qualcomm Presentation\n",
    "- toc: true\n",
    "- categories: [extracredit]\n",
    "- permalink: /qualcomm-presentations\n",
    "- tags: [extracredit]\n",
    "\n"
   ]
  },
  {
   "cell_type": "markdown",
   "metadata": {},
   "source": [
    "# Intro to Engineering:\n",
    "\n",
    "Engineering is the concept of using scientific and mathematic principles to solve problems. There are many types of engineering. There's mechanical, software, civil, aeronautical, biotech, and so much more. Each branch interests different people, and the speakers did mention the process of elimination. Every person has their own experiences in learning engineering, so we can all learn from each other. In this presentation, the speakers highlight women in science. There are still a lot of places where women are unfairly not taken seriously in engineering. But with engineers, it takes anyone, no matter who, to take an interest in any of the branches of engineering. Like many other concepts, engineering takes dedication, passion, and hard work, and those who feel happy doing it will excel in it. I asked the question, \"What universities specialize in software engineering? In those universities, what are the majors that would help me learn the necessary skills and concepts to get a software developer job in tech app companies (Google, Amazon, Apple, Qualcomm)? What should I do in high school to increase my chances to get admitted into them?\" The answer I got from one of the speakers was academic rigor. Besides the SAT and ACT, going above in beyond in school, meaning: taking AP classes relevant to software engineering, participating in clubs relevant to S.E, taking relevant courses at the school's associated community college, and more. I am currently doing all of these, but it was nice to hear that I am doing the right things, and motivating to listen to. Another question I had was, \"I am at a point where I am fluent in about 7 programming languages, and have a good understanding of problem solving - understanding the problem and also understanding what concepts are needed to solve them (I think that's correct). I actually moved to this city just in July, one of the reasons being the opportunities present in engineering. What are some competitions that I can participate in where I can apply what I've learned?\" The answers I got was taking part in the robotics club at my school, and also looking into the local companies to see if they hire high schoolers as interns, student employees, etc. Overall, I really liked this presentation, and I am excited for the next one."
   ]
  },
  {
   "cell_type": "markdown",
   "metadata": {},
   "source": [
    "# Intersections of Business and STEM at Qualcomm:\n",
    "\n",
    "There are three tenets to the business and stem: The first is to stay curious. A growth mindset, especially in STEM and business at a place like Qualcomm, will take a STEM student very far. One in this field must expose themselves to every field in STEM before choosing one career path. Doing this also helps to land dream jobs. The second, as I recall it, was to not give up. There will be many difficulties in the STEM career process, but one must keep perservering, because that perserverance will always pay off in the end. The third and final tenet is the difference between invention and innovation. Invention is creating something unique. Innovation is the tenet of looking at the end during the beginning. That means identifying a goal that can be achieved with the skills one has, and solving problems to achieve the goal. The presentation was really fun, and I made sure to participate during the presentation. I learned a lot about the fundamental skills of STEM and business in working with a company such as Qualcomm."
   ]
  }
 ],
 "metadata": {
  "kernelspec": {
   "display_name": "Python 3.8.10 64-bit",
   "language": "python",
   "name": "python3"
  },
  "language_info": {
   "name": "python",
   "version": "3.8.10"
  },
  "orig_nbformat": 4,
  "vscode": {
   "interpreter": {
    "hash": "916dbcbb3f70747c44a77c7bcd40155683ae19c65e1c03b4aa3499c5328201f1"
   }
  }
 },
 "nbformat": 4,
 "nbformat_minor": 2
}
