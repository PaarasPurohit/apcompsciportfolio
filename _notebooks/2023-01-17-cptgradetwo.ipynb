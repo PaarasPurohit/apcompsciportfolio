{
 "cells": [
  {
   "attachments": {},
   "cell_type": "markdown",
   "metadata": {},
   "source": [
    "# CPT 2\n",
    "\n",
    "- title: CPT 2\n",
    "- toc: true\n",
    "- categories: [tri2]\n",
    "- permalink: /cpttwo\n",
    "- tags: [tri2]"
   ]
  },
  {
   "attachments": {},
   "cell_type": "markdown",
   "metadata": {},
   "source": [
    "| Category | Grade | How To Fix |\n",
    "| -------- | ----- | --- |\n",
    "| Purpose | 0 | While it displays the input and output of the app to some extent, it does not show a problem being solved or an interest being pursued, making it void of purpose. The functionality of the app was also not shown, which could be solved by showing HOW the app solves a problem |\n",
    "| Data Abstraction | 0 | Make sure that your variable names for lists are not ambigious references, and name variables names that make sense. You may have to go back a couple times. |\n",
    "| Managing Complexity | 0 | Lists, Lists, Lists! Whether in the form of dictionaries or just regular lists,, they are a very useful tool for demonstrating complexity and managing it in a program. | \n",
    "| Procedural Abstraction | 0 | Every time you write an answer for this, make sure to ask \"how?\" This will make you as specific as possible. |\n",
    "| Algorithm Implementation | 0 | Two things: The first is to use spare time to constantly work on your algorithm to make it better. The second is to make your explanation of the algorithm as specific and explicit as possible. Commenting your code as you code makes the process easier. |\n",
    "| Testing | 0 | It seems that specificity is a recurring thing happening in a lot in errors. Constantly ask the questions \"why\" and \"how\" in your answers to make them more explicit. |\n",
    "\n"
   ]
  },
  {
   "attachments": {},
   "cell_type": "markdown",
   "metadata": {},
   "source": [
    "## Conclusion\n",
    "\n",
    "The main thing that went wrong in these four projects was vague answers. The written response can get you far"
   ]
  }
 ],
 "metadata": {
  "kernelspec": {
   "display_name": "Python 3",
   "language": "python",
   "name": "python3"
  },
  "language_info": {
   "name": "python",
   "version": "3.8.10 (default, Nov 14 2022, 12:59:47) \n[GCC 9.4.0]"
  },
  "orig_nbformat": 4,
  "vscode": {
   "interpreter": {
    "hash": "916dbcbb3f70747c44a77c7bcd40155683ae19c65e1c03b4aa3499c5328201f1"
   }
  }
 },
 "nbformat": 4,
 "nbformat_minor": 2
}
