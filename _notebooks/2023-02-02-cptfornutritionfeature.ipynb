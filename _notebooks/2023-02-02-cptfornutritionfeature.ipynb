{
 "cells": [
  {
   "attachments": {},
   "cell_type": "markdown",
   "metadata": {},
   "source": [
    "# My Feature Meeting CPT Requirements\n",
    "> My feature is a nutritional helper. How does it fit into the CPT requirements?\n",
    "\n",
    "- title: My Feature Meeting CPT Requirements\n",
    "- toc: true\n",
    "- categories: [units]\n",
    "- permalink: /my-feature-meeting-cpt-requirements\n",
    "- tags: [hacks]"
   ]
  },
  {
   "attachments": {},
   "cell_type": "markdown",
   "metadata": {},
   "source": [
    "# Overview\n",
    "My feature is essentially a calorie counter with two parts to it.\n",
    "\n",
    "The first is a calorie counter that needs user data to output the amount of calories burned in a day. \n",
    "\n",
    "The second is a feature that inputs a food and its calories to make a list of foods, and can calculate the total amount of calories consumed. It will also warn the user when they are close to going over their calorie limit.\n",
    "\n",
    "The value that will be stored in their user account is the max calorie count for that user."
   ]
  },
  {
   "attachments": {},
   "cell_type": "markdown",
   "metadata": {},
   "source": [
    "# Purpose:\n",
    "1. The purpose of the overall feature is to solve the problem of an unhealthy lifestyle by calculating daily calorie intake and managing it.\n",
    "2. For the first part, using a formula for metabolic rate, depending on the gender, the program will use the user's age, sex, weight, height, and activity level and produce the output of the user's maximum calories, letting the user have the option to save this value to their account. For the second part, the program will use the inputs of food name and calorie amount and output a table showing the summative foods put through the day.\n",
    "\n",
    "3. For the first part, the input is the integers sex, age, weight, height, and the multiple-choice activity level (later stored as an integer) of the user. The output is the maximum calories the user can consume daily. For the second part, the input is the name of a food being consumed, and the amount of calories in it. The output is a table showing every food entered in that day, as well as the calories of them all."
   ]
  },
  {
   "attachments": {},
   "cell_type": "markdown",
   "metadata": {},
   "source": [
    "# Data Abstraction\n",
    "\n",
    "1. The table created acts as a list for both frontend and backend. Food name and calorie amount variables are stored in said table. The sum of the calorie amounts is used to calculate whether or not the user should stop calorie consumption for the day, as shown in the code below.\n",
    "\n",
    "2. The list is the table creation and adding of rows itself, as shown in the code below.\n",
    "\n",
    "3. The data of the food's name is simply for the user to identify where each calorie amount comes from, but the calorie amounts are added together to check if the user is going over their daily maximum calorie consumption, as shown in the code below.\n",
    "\n",
    "![Code (1)](/images/Screenshot%202023-02-25%20164351.png)\n",
    "\n",
    "If this were not here, the user could not keep track of their daily calorie consumption, meaning that the feature establishes the maximum calorie consumption for the user, but does not help manage the user's consumption to fit said max calories. The only other way to achieve such a management section would be to create variables for every possible entry, which would be inefficient and a waste of data."
   ]
  },
  {
   "attachments": {},
   "cell_type": "markdown",
   "metadata": {},
   "source": [
    "# Managing Complexity\n",
    "\n",
    "1. There are functions to fetch a JSON list from a user database. The name of the database is the URL inputted into the fetch() method. The program will save the age, gender, weight, height, activity amount, and  maximum calorie amount of the user in said database, as shown in the code below:\n",
    "\n",
    "![Code (2)](/images/Screenshot%202023-02-25%20164852.png)\n",
    "\n",
    "2. If this list would not be used, then data would not be saved to the user's account, and the inputs will have to be repeatedly be inputted each time the user loads the website rather than just a login system, which is inefficient. "
   ]
  },
  {
   "attachments": {},
   "cell_type": "markdown",
   "metadata": {},
   "source": [
    "# Procedural Abstraction\n",
    "\n",
    "1. Below is the procedure that calculates the maximum calories that a user can consume in one day:\n",
    "\n",
    "![Code (3)](/images/Screenshot%202023-02-25%20165125.png)\n",
    "\n",
    "2. This procedure is called in the front end of the feature, as shown in the code below:\n",
    "\n",
    "![Code (4)](/images/Screenshot%202023-02-25%20165322.png)\n",
    "\n",
    "3. This function makes one half of the first part of the feature. This takes in the user's input and returns a value that is later stored in the user's account in the backend database, contributing to the establishment of the user's maximum calories - the overall functionality of the feature."
   ]
  },
  {
   "attachments": {},
   "cell_type": "markdown",
   "metadata": {},
   "source": [
    "# Algorithm Implementation\n",
    "\n",
    "The functions below respectfully calculate the maximum calorie amount a user can consume daily and save that value to the user's account in a backend database:\n",
    "\n",
    "![Code (3)](/images/Screenshot%202023-02-25%20165125.png)\n",
    "![Code (5)](/images/Screenshot%202023-02-25%20165516.png)\n",
    "\n",
    "In the function \"calculateMaximumCalories()\" I started by grabbing the values of sex, age, weight, height, and activity level from the inputs from the frontend, using the built-in \"getElementById()\" function. Since the formula for calculating maximum calories differs according to sex, I use conditional statements to check if the user's sex is female or male. The selected condition will then run the appropriate formula. I then grab the place in the frontend where I want to display the maximum daily calorie intake of the user. Before displaying the result using \".innerHTML\" I first \"console.log()\" each value for debugging purposes. Then I display the maximum daily calorie intake along with some helpful text for the user."
   ]
  },
  {
   "attachments": {},
   "cell_type": "markdown",
   "metadata": {},
   "source": [
    "# Testing\n",
    "1. For the testing, I will select the procedure of the food table. Below is the code for that:\n",
    "\n",
    "![Code (6)](/images/Screenshot%202023-02-25%20171040.png)\n",
    "\n",
    "The first call is of when the user has eaten an apple:\n",
    "\n",
    "![Code (7)](/images/Screenshot%202023-02-25%20171248.png)\n",
    "\n",
    "The second call is of when the user has eaten a banana:\n",
    "\n",
    "![Code (8)](/images/Screenshot%202023-02-25%20171332.png)\n",
    "\n",
    "2. I can use my own age, height, weight, gender, and activeness to find my max amount of calories and test if the app is making me healthier.\n",
    "\n",
    "3. The results of each call are shown in the images above."
   ]
  }
 ],
 "metadata": {
  "kernelspec": {
   "display_name": "Python 3",
   "language": "python",
   "name": "python3"
  },
  "language_info": {
   "name": "python",
   "version": "3.8.10"
  },
  "orig_nbformat": 4,
  "vscode": {
   "interpreter": {
    "hash": "916dbcbb3f70747c44a77c7bcd40155683ae19c65e1c03b4aa3499c5328201f1"
   }
  }
 },
 "nbformat": 4,
 "nbformat_minor": 2
}
