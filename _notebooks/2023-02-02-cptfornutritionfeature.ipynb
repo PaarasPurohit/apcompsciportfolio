{
 "cells": [
  {
   "attachments": {},
   "cell_type": "markdown",
   "metadata": {},
   "source": [
    "# My Feature Meeting CPT Requirements\n",
    "> My feature is a nutritional helper. How does it fit into the CPT requirements?\n",
    "\n",
    "- title: My Feature Meeting CPT Requirements\n",
    "- toc: true\n",
    "- categories: [units]\n",
    "- permalink: /my-feature-meeting-cpt-requirements\n",
    "- tags: [hacks]"
   ]
  },
  {
   "attachments": {},
   "cell_type": "markdown",
   "metadata": {},
   "source": [
    "# Overview\n",
    "My feature is essentially a calorie counter with two parts to it\n",
    "\n",
    "The first is a calorie counter that needs user data to output the amount of calories burned in a day. \n",
    "\n",
    "The second is a feature that inputs a food and its calories to make a list of foods, and can calculate the total amount of calories consumed. It will also warn the user when they are close to going over their calorie limit.\n",
    "\n",
    "The value that will be stored in their user account is the max calorie count for that user."
   ]
  },
  {
   "attachments": {},
   "cell_type": "markdown",
   "metadata": {},
   "source": [
    "858 614 6535"
   ]
  },
  {
   "attachments": {},
   "cell_type": "markdown",
   "metadata": {},
   "source": [
    "# Purpose:\n",
    "- The overall problem being solved is the problem of an unhealthy lifestyle, and the feature is solving this problem by handling the calorie intake of the user.\n",
    "- The functionality is handled with variables of age, gender, height, \n",
    "\n",
    "### Video\n",
    "\n",
    "- First, the video will show the input of the user's weight in kilograms, \n",
    "- The video might show how the procedure produces an output based on the inputs.\n",
    "- The video will show the output being a table showing the input number, the food, and the calorie amount, as well as text at the bottom showing the total calories consumed today compared to the max cal of the user."
   ]
  },
  {
   "attachments": {},
   "cell_type": "markdown",
   "metadata": {},
   "source": [
    "# Data Abstraction\n",
    "\n",
    "A list is present in both the list of foods the user eats as well as the max calories of the user being put in the database."
   ]
  },
  {
   "attachments": {},
   "cell_type": "markdown",
   "metadata": {},
   "source": [
    "# Managing Complexity\n",
    "Every procedure and algorithm is part of a more primary function."
   ]
  },
  {
   "attachments": {},
   "cell_type": "markdown",
   "metadata": {},
   "source": [
    "# Procedural Abstraction\n",
    "There are not one, but two procedures. One for calculating the max calories and one for handling consumption with the max calories."
   ]
  },
  {
   "attachments": {},
   "cell_type": "markdown",
   "metadata": {},
   "source": [
    "# Algorithm Implementation\n",
    "Using the parameters, the program will use iteration, selection, and sequencing to calculate the max calories as well as find the foods that are taking up a lot of calorie consumption"
   ]
  },
  {
   "attachments": {},
   "cell_type": "markdown",
   "metadata": {},
   "source": [
    "# Testing\n",
    "I can use my own age, height, weight, gender, and activeness to find my max amount of calories and test if the app is making me healthier."
   ]
  }
 ],
 "metadata": {
  "kernelspec": {
   "display_name": "Python 3",
   "language": "python",
   "name": "python3"
  },
  "language_info": {
   "name": "python",
   "version": "3.8.10"
  },
  "orig_nbformat": 4,
  "vscode": {
   "interpreter": {
    "hash": "916dbcbb3f70747c44a77c7bcd40155683ae19c65e1c03b4aa3499c5328201f1"
   }
  }
 },
 "nbformat": 4,
 "nbformat_minor": 2
}
