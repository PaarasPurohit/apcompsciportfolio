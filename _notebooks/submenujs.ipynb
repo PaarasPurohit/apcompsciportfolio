{
 "cells": [
  {
   "cell_type": "markdown",
   "metadata": {},
   "source": [
    "# JavaScript Proof\n",
    "> This is a demonstration of how I used JavaScript's to create the table for the group behind Udderly Delectable\n",
    "\n",
    "- title: JavaScript Proof\n",
    "- toc: true\n",
    "- categories: [proof]\n",
    "- permalink: /js-proof\n",
    "- tags: [proof]"
   ]
  },
  {
   "cell_type": "markdown",
   "metadata": {},
   "source": [
    "# My Understanding of JavaScript (based on the program)\n",
    "\n",
    "- JavaScript does support OOP (Object-Oriented Programming), but classes are in the form of functions\n",
    "- Python has \"print(\"Hello, World!\"),\" while JavaScript has \"console.log(\"Hello, World!\").\"\n",
    "- The OOP features in JavaScript that were demonstrated in the program were initialization, constructor methods, and instantiation. These are all under the OOP concept of Encapsulation.\n",
    "- HTML integration using the \"._toHTML()\" method was used."
   ]
  },
  {
   "cell_type": "code",
   "execution_count": 2,
   "metadata": {},
   "outputs": [
    {
     "data": {
      "text/html": [
       "<div style='display:inline-block;background:black;border: 2px solid grey;box-shadow: 0.8em 0.4em 0.4em grey;'><table><tr><th><mark>Name</mark></th><th><mark>GitHub ID</mark></th><th><mark>Class Of</mark></th><th><mark>Role</mark></th></tr><tr><td>Samarth</td><td>Samarth Kalanke</td><td>2025</td><td>Teacher</td><tr><tr><td>Paaras</td><td>PaarasPurohit</td><td>2025</td><td>Student</td><tr><tr><td>Haoxuan</td><td>JasoXDDD</td><td>2024</td><td>Student</td><tr><tr><td>AJ</td><td>KKcbal</td><td>2024</td><td>Student</td><tr></table></div>"
      ]
     },
     "execution_count": 2,
     "metadata": {},
     "output_type": "execute_result"
    }
   ],
   "source": [
    "function logItType(output) {\n",
    "    console.log(typeof output, \";\", output);\n",
    "}\n",
    "\n",
    "function TeamMember(name, ghID, classOf) {\n",
    "    this.name = name;\n",
    "    this.ghID = ghID;\n",
    "    this.classOf = classOf;\n",
    "    this.role = \"\";\n",
    "}\n",
    "\n",
    "TeamMember.prototype.setRole = function(role) {\n",
    "    this.role = role;\n",
    "}\n",
    "\n",
    "TeamMember.prototype.toJSON = function() {\n",
    "    const obj = {name: this.name, ghID: this.ghID, classOf: this.classOf, role: this.role};\n",
    "    const json = JSON.stringify(obj);\n",
    "    return json;\n",
    "}\n",
    "\n",
    "var scrumZaddae = new TeamMember(\"Samarth\", \"Samarth Kalanke\", 2025);\n",
    "scrumZaddae.setRole(\"Teacher\");\n",
    "\n",
    "var teamMembers = [ \n",
    "    new TeamMember(\"Paaras\", \"PaarasPurohit\", 2025),\n",
    "    new TeamMember(\"Haoxuan\", \"JasoXDDD\", 2024),\n",
    "    new TeamMember(\"AJ\", \"KKcbal\", 2024)\n",
    "];\n",
    "\n",
    "function Classroom(teacher, students){\n",
    "    \n",
    "    teacher.setRole(\"Teacher\");\n",
    "    this.teacher = teacher;\n",
    "    this.classroom = [teacher];\n",
    "    \n",
    "    this.students = students;\n",
    "    this.students.forEach(student => { student.setRole(\"Student\"); this.classroom.push(student); });\n",
    "    \n",
    "    this.json = [];\n",
    "    this.classroom.forEach(person => this.json.push(person.toJSON()));\n",
    "}\n",
    "\n",
    "agileTeam = new Classroom(scrumZaddae, teamMembers);\n",
    "\n",
    "Classroom.prototype._toHtml = function() {\n",
    "    var style = (\n",
    "      \"display:inline-block;\" +\n",
    "      \"background:black;\" +\n",
    "      \"border: 2px solid grey;\" +\n",
    "      \"box-shadow: 0.8em 0.4em 0.4em grey;\"\n",
    "    );\n",
    "  \n",
    "    var body = \"\";\n",
    "    \n",
    "    body += \"<tr>\";\n",
    "    body += \"<th><mark>\" + \"Name\" + \"</mark></th>\";\n",
    "    body += \"<th><mark>\" + \"GitHub ID\" + \"</mark></th>\";\n",
    "    body += \"<th><mark>\" + \"Class Of\" + \"</mark></th>\";\n",
    "    body += \"<th><mark>\" + \"Role\" + \"</mark></th>\";\n",
    "    body += \"</tr>\";\n",
    "    \n",
    "    for (var row of agileTeam.classroom) {\n",
    "      \n",
    "      body += \"<tr>\";\n",
    "      \n",
    "      body += \"<td>\" + row.name + \"</td>\";\n",
    "      body += \"<td>\" + row.ghID + \"</td>\";\n",
    "      body += \"<td>\" + row.classOf + \"</td>\";\n",
    "      body += \"<td>\" + row.role + \"</td>\";\n",
    "      \n",
    "      body += \"<tr>\";\n",
    "    }\n",
    "  \n",
    "    \n",
    "    return (\n",
    "      \"<div style='\" + style + \"'>\" +\n",
    "        \"<table>\" +\n",
    "          body +\n",
    "        \"</table>\" +\n",
    "      \"</div>\"\n",
    "    );\n",
    "  \n",
    "  };\n",
    "  \n",
    "  // IJavaScript HTML processor receive parameter of defined HTML fragment\n",
    "  $$.html(agileTeam._toHtml());"
   ]
  },
  {
   "cell_type": "markdown",
   "metadata": {},
   "source": [
    "# What's the use?\n",
    "\n",
    "- Tables can be used for problem solving tracking\n",
    "- OOP is an extremely useful concept for solving many problems in programming\n",
    "- Front matter concepts are quite useful"
   ]
  },
  {
   "cell_type": "markdown",
   "metadata": {},
   "source": [
    "### Errors I Ran Into\n",
    "\n",
    "- Time complexity was an issue\n",
    "- Communication was close to none\n",
    "- Github errors with VsCode stopped a lot of things from happening, and could not be solved because of time complexity\n",
    "\n",
    "### Solutions for the Future\n",
    "\n",
    "- Create a plan\n",
    "- Make sure everyone was communicating. It could have been a team problem, or it could have been me. Either way, we as a team need to fix it or find a better team structure.\n",
    "- Go during office hours or before school to get errors fixed."
   ]
  }
 ],
 "metadata": {
  "kernelspec": {
   "display_name": "JavaScript (Node.js)",
   "language": "javascript",
   "name": "javascript"
  },
  "language_info": {
   "file_extension": ".js",
   "mimetype": "application/javascript",
   "name": "javascript",
   "version": "6.11.2"
  },
  "orig_nbformat": 4
 },
 "nbformat": 4,
 "nbformat_minor": 2
}
