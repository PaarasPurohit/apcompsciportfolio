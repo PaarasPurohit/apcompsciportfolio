{
 "cells": [
  {
   "cell_type": "markdown",
   "metadata": {},
   "source": [
    "# API's\n",
    "##### Using RapidAPI's API's for our final application.\n",
    "\n",
    "- title: API's\n",
    "- toc: true\n",
    "- categories: [api]\n",
    "- permalink: /apis\n",
    "- tags: [api]\n",
    "\n"
   ]
  },
  {
   "cell_type": "markdown",
   "metadata": {},
   "source": [
    "### Our Use of API's\n",
    "\n",
    "Right now, our purpose is promoting KFC. We found this API that lists each KFC location in the United States of America. This can be used for advertising KFC on a geographical mindset. "
   ]
  },
  {
   "cell_type": "code",
   "execution_count": 1,
   "metadata": {},
   "outputs": [
    {
     "name": "stdout",
     "output_type": "stream",
     "text": [
      "[{'id': 1, 'storeName': 'Kentucky Fried Chicken', 'address': '2350 Miracle Mile', 'zipCode': '86442', 'phone': '(928) 763-2111', 'stateName': 'AZ', 'cityName': 'Bullhead City', 'latitude': '35.099735982044', 'longitude': '-114.59584849976', 'monday': {'openTime': '10:10 AM', 'closeTime': '22:10 PM'}, 'tuesday': {'openTime': '10:10 AM', 'closeTime': '22:10 PM'}, 'wednesday': {'openTime': '10:10 AM', 'closeTime': '22:10 PM'}, 'thursday': {'openTime': '10:10 AM', 'closeTime': '22:10 PM'}, 'friday': {'openTime': '10:10 AM', 'closeTime': '22:10 PM'}, 'saturday': {'openTime': '10:10 AM', 'closeTime': '22:10 PM'}, 'sunday': {'openTime': '10:10 AM', 'closeTime': '22:10 PM'}}, {'id': 2, 'storeName': 'Kentucky Fried Chicken', 'address': '14200 Ramona Blvd', 'zipCode': '91706', 'phone': '(626) 412-0246', 'stateName': 'CA', 'cityName': 'Baldwin Park', 'latitude': '34.085007092947', 'longitude': '-117.96434596872', 'monday': {'openTime': '10:10 AM', 'closeTime': '22:10 PM'}, 'tuesday': {'openTime': '10:10 AM', 'closeTime': '22:10 PM'}, 'wednesday': {'openTime': '10:10 AM', 'closeTime': '22:10 PM'}, 'thursday': {'openTime': '10:10 AM', 'closeTime': '22:10 PM'}, 'friday': {'openTime': '10:10 AM', 'closeTime': '22:10 PM'}, 'saturday': {'openTime': '10:10 AM', 'closeTime': '22:10 PM'}, 'sunday': {'openTime': '10:10 AM', 'closeTime': '22:10 PM'}}, {'id': 3, 'storeName': 'Kentucky Fried Chicken', 'address': '126 Vermont Avenue', 'zipCode': '90004', 'phone': '(213) 487-4503', 'stateName': 'CA', 'cityName': 'Los Angeles', 'latitude': '34.072344596213', 'longitude': '-118.29140177489', 'monday': {'openTime': '09:09 AM', 'closeTime': '22:10 PM'}, 'tuesday': {'openTime': '09:09 AM', 'closeTime': '22:10 PM'}, 'wednesday': {'openTime': '09:09 AM', 'closeTime': '22:10 PM'}, 'thursday': {'openTime': '09:09 AM', 'closeTime': '22:10 PM'}, 'friday': {'openTime': '09:09 AM', 'closeTime': '22:10 PM'}, 'saturday': {'openTime': '09:09 AM', 'closeTime': '22:10 PM'}, 'sunday': {'openTime': '09:09 AM', 'closeTime': '22:10 PM'}}, {'id': 4, 'storeName': 'Kentucky Fried Chicken', 'address': '3250 Dale Road', 'zipCode': '95356', 'phone': '(209) 523-3868', 'stateName': 'CA', 'cityName': 'Modesto', 'latitude': '37.686596884382', 'longitude': '-121.04934331039', 'monday': {'openTime': '10:10 AM', 'closeTime': '22:10 PM'}, 'tuesday': {'openTime': '10:10 AM', 'closeTime': '22:10 PM'}, 'wednesday': {'openTime': '10:10 AM', 'closeTime': '22:10 PM'}, 'thursday': {'openTime': '10:10 AM', 'closeTime': '22:10 PM'}, 'friday': {'openTime': '10:10 AM', 'closeTime': '22:10 PM'}, 'saturday': {'openTime': '10:10 AM', 'closeTime': '22:10 PM'}, 'sunday': {'openTime': '10:10 AM', 'closeTime': '22:10 PM'}}, {'id': 5, 'storeName': 'Kentucky Fried Chicken', 'address': '12319 San Pablo Avenue', 'zipCode': '94805', 'phone': '(510) 232-1527', 'stateName': 'CA', 'cityName': 'Richmond', 'latitude': '37.935616540158', 'longitude': '-122.32562680736', 'monday': {'openTime': '10:10 AM', 'closeTime': '22:10 PM'}, 'tuesday': {'openTime': '10:10 AM', 'closeTime': '22:10 PM'}, 'wednesday': {'openTime': '10:10 AM', 'closeTime': '22:10 PM'}, 'thursday': {'openTime': '10:10 AM', 'closeTime': '22:10 PM'}, 'friday': {'openTime': '10:10 AM', 'closeTime': '22:10 PM'}, 'saturday': {'openTime': '10:10 AM', 'closeTime': '22:10 PM'}, 'sunday': {'openTime': '10:10 AM', 'closeTime': '22:10 PM'}}, {'id': 6, 'storeName': 'Kentucky Fried Chicken', 'address': '5225 Canyon Crest Dr', 'zipCode': '92507', 'phone': '(951) 787-0761', 'stateName': 'CA', 'cityName': 'Riverside', 'latitude': '33.955670429343', 'longitude': '-117.32950953312', 'monday': {'openTime': '09:09 AM', 'closeTime': '23:11 PM'}, 'tuesday': {'openTime': '09:09 AM', 'closeTime': '23:11 PM'}, 'wednesday': {'openTime': '09:09 AM', 'closeTime': '23:11 PM'}, 'thursday': {'openTime': '09:09 AM', 'closeTime': '23:11 PM'}, 'friday': {'openTime': '09:09 AM', 'closeTime': '23:11 PM'}, 'saturday': {'openTime': '09:09 AM', 'closeTime': '23:11 PM'}, 'sunday': {'openTime': '09:09 AM', 'closeTime': '23:11 PM'}}, {'id': 7, 'storeName': 'Kentucky Fried Chicken', 'address': '2260 Callagan Hwy', 'zipCode': '92136', 'phone': '(760) 580-7977', 'stateName': 'CA', 'cityName': 'San Diego', 'latitude': '32.68984', 'longitude': '-117.128494', 'monday': {'openTime': None, 'closeTime': None}, 'tuesday': {'openTime': None, 'closeTime': None}, 'wednesday': {'openTime': None, 'closeTime': None}, 'thursday': {'openTime': None, 'closeTime': None}, 'friday': {'openTime': None, 'closeTime': None}, 'saturday': {'openTime': None, 'closeTime': None}, 'sunday': {'openTime': None, 'closeTime': None}}, {'id': 8, 'storeName': 'Kentucky Fried Chicken', 'address': '1065 East El Camino Real', 'zipCode': '94087', 'phone': '(408) 246-8924', 'stateName': 'CA', 'cityName': 'Sunnyvale', 'latitude': '37.352596825301', 'longitude': '-122.0037313434', 'monday': {'openTime': '10:10 AM', 'closeTime': '22:10 PM'}, 'tuesday': {'openTime': '10:10 AM', 'closeTime': '22:10 PM'}, 'wednesday': {'openTime': '10:10 AM', 'closeTime': '22:10 PM'}, 'thursday': {'openTime': '10:10 AM', 'closeTime': '22:10 PM'}, 'friday': {'openTime': '10:10 AM', 'closeTime': '22:10 PM'}, 'saturday': {'openTime': '10:10 AM', 'closeTime': '22:10 PM'}, 'sunday': {'openTime': '10:10 AM', 'closeTime': '22:10 PM'}}, {'id': 9, 'storeName': 'Kentucky Fried Chicken', 'address': '230 Route', 'zipCode': '06340', 'phone': '(860) 449-1888', 'stateName': 'CT', 'cityName': 'Groton', 'latitude': '41.368902247397', 'longitude': '-72.069774193484', 'monday': {'openTime': '10:10 AM', 'closeTime': '22:10 PM'}, 'tuesday': {'openTime': '10:10 AM', 'closeTime': '22:10 PM'}, 'wednesday': {'openTime': '10:10 AM', 'closeTime': '22:10 PM'}, 'thursday': {'openTime': '10:10 AM', 'closeTime': '23:11 PM'}, 'friday': {'openTime': '10:10 AM', 'closeTime': '23:11 PM'}, 'saturday': {'openTime': '10:10 AM', 'closeTime': '23:11 PM'}, 'sunday': {'openTime': '10:10 AM', 'closeTime': '22:10 PM'}}, {'id': 10, 'storeName': 'Kentucky Fried Chicken', 'address': '8363 W Flagler Street', 'zipCode': '33144', 'phone': '(305) 267-1356', 'stateName': 'FL', 'cityName': 'Miami', 'latitude': '25.770171050322', 'longitude': '-80.331015579154', 'monday': {'openTime': '05:05 AM', 'closeTime': '04:04 AM'}, 'tuesday': {'openTime': '05:05 AM', 'closeTime': '04:04 AM'}, 'wednesday': {'openTime': '05:05 AM', 'closeTime': '04:04 AM'}, 'thursday': {'openTime': '05:05 AM', 'closeTime': '04:04 AM'}, 'friday': {'openTime': '06:06 AM', 'closeTime': '05:05 AM'}, 'saturday': {'openTime': '06:06 AM', 'closeTime': '05:05 AM'}, 'sunday': {'openTime': '05:05 AM', 'closeTime': '04:04 AM'}}]\n"
     ]
    }
   ],
   "source": [
    "import requests\n",
    "\n",
    "url = \"https://kfc-locations.p.rapidapi.com/kfc/location/0\"\n",
    "\n",
    "headers = {\n",
    "\t\"X-RapidAPI-Key\": \"f9e05fed4fmshda97f8933d9e076p192198jsn5018f8cb51c3\",\n",
    "\t\"X-RapidAPI-Host\": \"kfc-locations.p.rapidapi.com\"\n",
    "}\n",
    "\n",
    "response = requests.request(\"GET\", url, headers=headers)\n",
    "\n",
    "print(response.json())"
   ]
  },
  {
   "cell_type": "markdown",
   "metadata": {},
   "source": [
    "### A Recap of our CollegeBoard Requirements Being Met\n",
    "\n",
    "- The Purpose - Right now, our purpose is to promote KFC. I personally think we should change it, but I also want to challenge myself to market something that I don't fully believe in, to better test my promotion and marketing skills. We may change our purpose in the future, but for now, this is our purpose\n",
    "\n",
    "- Data Abstraction, Managing Complexity, and Procedural Abstraction - With the use of JSON API's, we store data relevant to our purpose to use later for both frontend and backend development\n",
    "\n",
    "- Algorithm Implimentation - We are planning on using algorithms to make interactive features on our application that will help the user get hooked to purchasing from KFC\n",
    "\n",
    "- Testing - As the DevOps, I will make sure that the application is ready for deployment once Scrum Master Samarth and I come to a stage where we feel that it is indeed ready."
   ]
  }
 ],
 "metadata": {
  "kernelspec": {
   "display_name": "Python 3.8.10 64-bit",
   "language": "python",
   "name": "python3"
  },
  "language_info": {
   "codemirror_mode": {
    "name": "ipython",
    "version": 3
   },
   "file_extension": ".py",
   "mimetype": "text/x-python",
   "name": "python",
   "nbconvert_exporter": "python",
   "pygments_lexer": "ipython3",
   "version": "3.8.10"
  },
  "orig_nbformat": 4,
  "vscode": {
   "interpreter": {
    "hash": "916dbcbb3f70747c44a77c7bcd40155683ae19c65e1c03b4aa3499c5328201f1"
   }
  }
 },
 "nbformat": 4,
 "nbformat_minor": 2
}
