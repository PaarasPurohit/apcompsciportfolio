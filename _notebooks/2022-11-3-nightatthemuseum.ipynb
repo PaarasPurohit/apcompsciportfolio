{
 "cells": [
  {
   "cell_type": "markdown",
   "metadata": {},
   "source": [
    "# Night at the Museum (Project Week III)\n",
    "##### The final day that mattered in Tri 1. I took notes on other classes and what they were assigned to do. Here's how it went.\n",
    "\n",
    "- title: Night at the Museum - Project Week III\n",
    "- toc: true\n",
    "- categories: [finalproject]\n",
    "- permalink: /night-museum\n",
    "- tags: [finalproject]"
   ]
  },
  {
   "cell_type": "markdown",
   "metadata": {},
   "source": [
    "### Our Own Idea - Inspirivational by Udderly Delectable\n",
    "\n",
    "Our idea was a motivational quotes app. We got this by browsing around RapidAPI and seeing the different API's we could base our app off of. We found many API's on motivational quotes, so we did that. Our app had many bugs, however. First of all, we did not have a clear understanding of the API system and how it worked, which set us back. Secondly, some of the features did not work. Our front end was also made with too much haste, causing our app to fail in a lot of places. Our presentation, however (done by me), went pretty well. Overall, I liked the experience and because of the mistakes we made, I know exactly all what I need to do to succeed in the liater "
   ]
  },
  {
   "cell_type": "markdown",
   "metadata": {},
   "source": [
    "### APCSA\n",
    "\n",
    "The people in that class did something similar to APCSP, but the difference was that since CSA was a level higher than CSP, their applications were required to be more complex. One I saw was a compilation of games remade by the students themselves.\n",
    "\n",
    "### Ceramics\n",
    "\n",
    "The ceramics class was required to model and design a skeleton by modeling clay, putting it in a kiln (a type of oven used to harden clay into a finalized shape), then used paint to design it and customize it.\n",
    "\n",
    "### Some from APCSP\n",
    "\n",
    "- Team Fitness Forever created an app that calculates BMI, calories, weight, tracks workout, and gives motivational quotes.\n",
    "\n",
    "- TeamBerries created a dictionary using an API to get words and definitions.\n",
    "\n",
    "- Team Lyntax created a Hangman game using an API to handle words, definitions, and letters.\n",
    "\n",
    "- From APCSA, there was one app called the DN Marketplace, where Del Norte students could buy and sell things on the app."
   ]
  }
 ],
 "metadata": {
  "kernelspec": {
   "display_name": "Python 3.8.10 64-bit",
   "language": "python",
   "name": "python3"
  },
  "language_info": {
   "name": "python",
   "version": "3.8.10"
  },
  "orig_nbformat": 4,
  "vscode": {
   "interpreter": {
    "hash": "916dbcbb3f70747c44a77c7bcd40155683ae19c65e1c03b4aa3499c5328201f1"
   }
  }
 },
 "nbformat": 4,
 "nbformat_minor": 2
}
