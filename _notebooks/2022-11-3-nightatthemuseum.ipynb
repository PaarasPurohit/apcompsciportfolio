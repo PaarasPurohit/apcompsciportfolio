{
 "cells": [
  {
   "cell_type": "markdown",
   "metadata": {},
   "source": [
    "# Night at the Museum (Project Week III)\n",
    "##### The final day that mattered in Tri 1. I took notes on other classes and what they were assigned to do. Here's how it went.\n",
    "\n",
    "- title: Night at the Museum - Project Week III\n",
    "- toc: true\n",
    "- categories: [finalproject]\n",
    "- permalink: /project-week-one\n",
    "- tags: [finalproject]"
   ]
  },
  {
   "cell_type": "markdown",
   "metadata": {},
   "source": [
    "### APCSA\n",
    "\n",
    "The people in that class did something similar to APCSP, but the difference was that since CSA was a level higher than CSP, their applications were required to be more complex. One I saw was a compilation of games remade by the students themselves.\n",
    "\n",
    "### Ceramics\n",
    "\n"
   ]
  }
 ],
 "metadata": {
  "kernelspec": {
   "display_name": "Python 3.8.10 64-bit",
   "language": "python",
   "name": "python3"
  },
  "language_info": {
   "name": "python",
   "version": "3.8.10"
  },
  "orig_nbformat": 4,
  "vscode": {
   "interpreter": {
    "hash": "916dbcbb3f70747c44a77c7bcd40155683ae19c65e1c03b4aa3499c5328201f1"
   }
  }
 },
 "nbformat": 4,
 "nbformat_minor": 2
}
