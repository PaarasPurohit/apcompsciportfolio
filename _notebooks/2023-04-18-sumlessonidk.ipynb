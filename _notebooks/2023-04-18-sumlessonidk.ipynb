{
 "cells": [
  {
   "attachments": {},
   "cell_type": "markdown",
   "metadata": {},
   "source": [
    "# Setting up Machines with Conda Scripts\n",
    "> To get started with development, you need tools. You'll learn how to get the necessary tools here using Conda scripts.\n",
    "\n",
    "- toc: true\n",
    "- badges: false\n",
    "- comments: true\n",
    "- author: Paaras Purohit, Chinmay Ramamurthy, Raunak Mondal, Tanay Patel, Qais Jamili\n",
    "- categories: [student]\n",
    "- type: ap\n",
    "- week: 30"
   ]
  },
  {
   "attachments": {},
   "cell_type": "markdown",
   "metadata": {},
   "source": [
    "Lesson Plan: Heavily use the tool setup + Docker setup, as well as the Bash checks."
   ]
  },
  {
   "attachments": {},
   "cell_type": "markdown",
   "metadata": {},
   "source": [
    "## Hacks\n",
    "\n",
    "- Blog about why you need each of the tools installed with Conda scripts (0.3)\n",
    "- Make a video of all the installed tools working or show all installed tools working during live review. This can be done using notebook programs (0.3)\n",
    "- Pick one installation and demonstrate in as much detail as possible on how to use it (0.3)\n",
    "- Extra: Teach someone how to do the machine setup without this notebook. Blog about your teaching; who/what/where/when/how you taught, as well as more details. (0.1)"
   ]
  }
 ],
 "metadata": {
  "language_info": {
   "name": "python"
  },
  "orig_nbformat": 4
 },
 "nbformat": 4,
 "nbformat_minor": 2
}
