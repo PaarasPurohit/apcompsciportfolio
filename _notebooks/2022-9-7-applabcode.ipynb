{
 "cells": [
  {
   "cell_type": "markdown",
   "metadata": {},
   "source": [
    "# Coding with AppLab\n",
    "##### by Paaras Purohit and AJ Ruiz\n",
    "\n",
    "- title: Coding with AppLab\n",
    "- toc: true\n",
    "- categories: [reflections]\n",
    "- permalink: /coding-with-applab\n",
    "- tags: [reflections]\n",
    "\n"
   ]
  },
  {
   "cell_type": "markdown",
   "metadata": {},
   "source": [
    "<!--\n",
    "![applab](https://studio.code.org/projects/applab/-wS4YvDlyFkUal5cBF6qgYpt_3DpgaagloLN9MA1FQ0)\n",
    "\n",
    "<iframe width=\"392\" height=\"620\" style=\"border: 0px;\" src=\"https://studio.code.org/projects/applab/-wS4YvDlyFkUal5cBF6qgYpt_3DpgaagloLN9MA1FQ0/embed\"></iframe>\n",
    "-->\n",
    "\n",
    "<a href= \"https://studio.code.org/projects/applab/-wS4YvDlyFkUal5cBF6qgYpt_3DpgaagloLN9MA1FQ0\" target=\"_blank\" >This</a> is a project done by Paaras Purohit (me) and AJ Ruiz. This is our first app coded with AppLab, and we created a very simple quiz. The language used was JavaScript, a language mainly used for programming HTML behavior. It is famous for having a large amount of libraries, as well.\n",
    "\n",
    "\n",
    "\n",
    "\n",
    "\n",
    "# APCSP Create Performance Task Requirements Met:\n",
    "\n",
    "- Program Purpose and Function - The purpose was to create a simple quiz that implemented the CPT Requirements\n",
    "\n",
    "- Data Abstraction - I used different screens that looked at stored values of \"right\" or \"wrong,\" and output the correct message for the user's answer, whether it was wrong or right.\n",
    "\n",
    "- Managing Complexity - Since this was a quiz, complexity was not always needed, but the code is efficient and does not take too long to run, despite its length.\n",
    "\n",
    "- Procedural Abstraction - The code written for the quiz, I believe, can defintely be applied to other relevant situations.\n",
    "\n",
    "- Algorithm Implementation - Using if-else statements and checking what is being inputted when, I was able to create simple algorithms that completed the task.\n",
    "\n",
    "- Testing - There was some syntax error here and there, but no major errors to report."
   ]
  },
  {
   "cell_type": "markdown",
   "metadata": {},
   "source": [
    "### Hack II - Creating a New App\n",
    "\n",
    "Below is a financing app, which lets you sign in and deposit/withdraw money."
   ]
  },
  {
   "cell_type": "code",
   "execution_count": 3,
   "metadata": {},
   "outputs": [
    {
     "name": "stdout",
     "output_type": "stream",
     "text": [
      "Hello, please create an account >>\n",
      "Successfully deposited. Your balance is now 69\n",
      "You do not have enough money.\n",
      "Successfully deposited. Your balance is now 69\n",
      "Successfully withdrawn. Your balance is now 9\n",
      "\n"
     ]
    }
   ],
   "source": [
    "account = {\n",
    "    \"Username\":[],\n",
    "    \"Password\":[],\n",
    "    \"Amount\":0,\n",
    "}\n",
    "\n",
    "print(\"Hello, please create an account >>\")\n",
    "account[\"Username\"].append(input(\"Enter Username >>\"))\n",
    "account[\"Password\"].append(input(\"Enter Password >>\"))\n",
    "\n",
    "def deposit_or_withdraw():\n",
    "    action = input(\"Hello, \" + str(account[\"Username\"]) + \", would you like to deposit or withdraw today?\")\n",
    "    if action == \"deposit\":\n",
    "        deposit()\n",
    "    elif action == \"withdraw\":\n",
    "        withdraw()\n",
    "    elif action == \"exit\":\n",
    "        print()\n",
    "    else:\n",
    "        deposit_or_withdraw()\n",
    "        \n",
    "def deposit():\n",
    "    amount = input(\"Amount you would like to deposit?\")\n",
    "    account[\"Amount\"] += int(amount)\n",
    "    print(\"Successfully deposited. Your balance is now \" + str(account[\"Amount\"]))\n",
    "    deposit_or_withdraw()\n",
    "\n",
    "def withdraw():\n",
    "    amount = input(\"Amount you would like to withdraw?\")\n",
    "    if int(amount) > account[\"Amount\"]:\n",
    "        print(\"You do not have enough money.\")\n",
    "        deposit_or_withdraw()\n",
    "    else:\n",
    "        account[\"Amount\"] -= int(amount)\n",
    "        print(\"Successfully withdrawn. Your balance is now \" + str(account[\"Amount\"]))\n",
    "        deposit_or_withdraw()\n",
    "        \n",
    "deposit_or_withdraw()\n",
    "    "
   ]
  }
 ],
 "metadata": {
  "kernelspec": {
   "display_name": "Python 3.8.10 64-bit",
   "language": "python",
   "name": "python3"
  },
  "language_info": {
   "codemirror_mode": {
    "name": "ipython",
    "version": 3
   },
   "file_extension": ".py",
   "mimetype": "text/x-python",
   "name": "python",
   "nbconvert_exporter": "python",
   "pygments_lexer": "ipython3",
   "version": "3.8.10"
  },
  "orig_nbformat": 4,
  "vscode": {
   "interpreter": {
    "hash": "916dbcbb3f70747c44a77c7bcd40155683ae19c65e1c03b4aa3499c5328201f1"
   }
  }
 },
 "nbformat": 4,
 "nbformat_minor": 2
}
