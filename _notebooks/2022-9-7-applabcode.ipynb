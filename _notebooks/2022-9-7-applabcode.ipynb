{
 "cells": [
  {
   "cell_type": "markdown",
   "metadata": {},
   "source": [
    "# Coding with AppLab\n",
    "##### by Paaras Purohit and AJ Ruiz\n",
    "\n",
    "- title: Coding with AppLab\n",
    "- toc: true\n",
    "- categories: [reflections]\n",
    "- permalink: /coding-with-applab\n",
    "- tags: [reflections]\n",
    "\n",
    "<!--\n",
    "![applab](https://studio.code.org/projects/applab/-wS4YvDlyFkUal5cBF6qgYpt_3DpgaagloLN9MA1FQ0)\n",
    "\n",
    "<iframe width=\"392\" height=\"620\" style=\"border: 0px;\" src=\"https://studio.code.org/projects/applab/-wS4YvDlyFkUal5cBF6qgYpt_3DpgaagloLN9MA1FQ0/embed\"></iframe>\n",
    "-->\n",
    "\n",
    "https://studio.code.org/projects/applab/-wS4YvDlyFkUal5cBF6qgYpt_3DpgaagloLN9MA1FQ0\n",
    "\n",
    "This is a project done by Paaras Purohit (me) and AJ Ruiz. This is our first app coded with AppLab, and we created a very simple quiz. The language used was JavaScript, a language mainly used for programming HTML behavior. It is famous for having a large amount of libraries, as well"
   ]
  }
 ],
 "metadata": {
  "kernelspec": {
   "display_name": "Python 3.8.10 64-bit",
   "language": "python",
   "name": "python3"
  },
  "language_info": {
   "name": "python",
   "version": "3.8.10"
  },
  "orig_nbformat": 4,
  "vscode": {
   "interpreter": {
    "hash": "916dbcbb3f70747c44a77c7bcd40155683ae19c65e1c03b4aa3499c5328201f1"
   }
  }
 },
 "nbformat": 4,
 "nbformat_minor": 2
}
