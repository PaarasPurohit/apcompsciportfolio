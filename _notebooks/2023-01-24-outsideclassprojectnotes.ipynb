{
 "cells": [
  {
   "attachments": {},
   "cell_type": "markdown",
   "metadata": {},
   "source": [
    "# Outside-Class Project Notes\n",
    "> We can study this later for our own project\n",
    "\n",
    "- title: Outside-Class Project Notes\n",
    "- toc: true\n",
    "- categories: [units]\n",
    "- permalink: /ocpn\n",
    "- tags: [hacks]"
   ]
  },
  {
   "attachments": {},
   "cell_type": "markdown",
   "metadata": {},
   "source": [
    "# Project Outline\n",
    "Goals\n",
    "\n",
    "- Binder Checks, Monthly activity forms\n",
    "- Club spreadsheet managed by executives\n",
    "\n",
    "Full stack features/designs\n",
    "\n",
    "- Name, purpose, club type, email, meeting time, club president/point of contant. staff advisor\n",
    "- occurs when a club signs up crease acccount (password will be stored but not visible in frontend)\n",
    "- Anyone\n",
    "- Clubs with accounts\n",
    "- Clubs with accounts\n",
    "\n",
    "Club revies\n",
    "- Club members will be able to write reivews for hte lubs they are a part of\n",
    "can share their experiences insights and what they learned from the club\n",
    "\n",
    "- input fields, submit, basic table, roles, saving files.\n",
    "- club searching\n",
    "\n",
    "# Actual presentation\n",
    "- we need to go slow enough for people to take notes if need be, they went really fast.\n",
    "- make models using canva or sum\n",
    "- each of us will cpt our features."
   ]
  }
 ],
 "metadata": {
  "kernelspec": {
   "display_name": "Python 3",
   "language": "python",
   "name": "python3"
  },
  "language_info": {
   "name": "python",
   "version": "3.8.10"
  },
  "orig_nbformat": 4,
  "vscode": {
   "interpreter": {
    "hash": "916dbcbb3f70747c44a77c7bcd40155683ae19c65e1c03b4aa3499c5328201f1"
   }
  }
 },
 "nbformat": 4,
 "nbformat_minor": 2
}
