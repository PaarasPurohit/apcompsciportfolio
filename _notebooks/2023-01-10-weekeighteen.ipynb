{
 "cells": [
  {
   "attachments": {},
   "cell_type": "markdown",
   "metadata": {},
   "source": [
    "# Week 18 Hacks\n",
    "#####\n",
    "\n",
    "- title: Week 18 Hacks\n",
    "- toc: true\n",
    "- categories: [tri2]\n",
    "- permalink: /weekeighteenhacks\n",
    "- tags: [tri2]"
   ]
  },
  {
   "cell_type": "code",
   "execution_count": null,
   "metadata": {},
   "outputs": [],
   "source": [
    "from datetime import date\n",
    "\n",
    "def calculate_age(born):\n",
    "    today = date.today()\n",
    "    return today.year - born.year - ((today.month, today.day) < (born.month, born.day))\n",
    "\n",
    "dob = date(2004, 12, 31)\n",
    "age = calculate_age(dob)"
   ]
  },
  {
   "cell_type": "code",
   "execution_count": null,
   "metadata": {},
   "outputs": [],
   "source": [
    "class Student:\n",
    "    def __init__(self, classOf, name):\n",
    "        self.classOf = classOf\n",
    "        self.age = age\n",
    "        \n",
    "    @property\n",
    "    def classOf(self):\n",
    "        return self.classOf\n",
    "    @classOf.setter\n",
    "    def classOf(self, classOf):\n",
    "        self.classOf = classOf\n",
    "        \n",
    "    @property\n",
    "    def age(self):\n",
    "        return self.age\n",
    "    \n",
    "    @property\n",
    "    def name(self):\n",
    "        return self.name\n",
    "    @name.setter\n",
    "    def name(self, name):\n",
    "        self.name = name\n",
    "        \n",
    "\n",
    "stu = Student(classOf=2025, name=\"Paaras\")\n",
    "users = [stu]\n",
    "\n",
    "json_string = json.dumps([vars(user) for user in users]) \n",
    "print(json_string)"
   ]
  }
 ],
 "metadata": {
  "kernelspec": {
   "display_name": "Python 3",
   "language": "python",
   "name": "python3"
  },
  "language_info": {
   "name": "python",
   "version": "3.10.6 (main, Nov 14 2022, 16:10:14) [GCC 11.3.0]"
  },
  "orig_nbformat": 4,
  "vscode": {
   "interpreter": {
    "hash": "916dbcbb3f70747c44a77c7bcd40155683ae19c65e1c03b4aa3499c5328201f1"
   }
  }
 },
 "nbformat": 4,
 "nbformat_minor": 2
}
