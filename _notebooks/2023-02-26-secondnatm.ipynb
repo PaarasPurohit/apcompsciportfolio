{
 "cells": [
  {
   "attachments": {},
   "cell_type": "markdown",
   "metadata": {},
   "source": [
    "# Night at the Museum - Tri 2\n",
    "\n",
    "- title: Night at the Museum - Tri 2\n",
    "- toc: true\n",
    "- categories: [units]\n",
    "- permalink: /natm2\n",
    "- tags: [hacks]"
   ]
  },
  {
   "attachments": {},
   "cell_type": "markdown",
   "metadata": {},
   "source": [
    "![img](/images/IMG_6903.jpg)\n",
    "![img](/images/IMG_6904.jpg)\n",
    "![img](/images/IMG_6906.jpg)\n",
    "![img](/images/IMG_6907.jpg)\n",
    "![img](/images/IMG_6908.jpg)\n",
    "![img](/images/IMG_6909.jpg)\n",
    "![img](/images/IMG_6910.jpg)\n",
    "![img](/images/IMG_6911.jpg)\n",
    "![img](/images/IMG_6913.jpg)\n",
    "![img](/images/IMG_6914.jpg)"
   ]
  },
  {
   "attachments": {},
   "cell_type": "markdown",
   "metadata": {},
   "source": [
    "## CSP Projects\n",
    "\n",
    "- **SAAKD Productivity Corp.** - A productivity app that solved the problem of procrastination and a lack of motivation by giving the users features of productivity, such as timers, calendars, and notepads.\n",
    "- **CarHUB** - A car purchasing and leasing website that solves the problem of a lack of transportation among today's population with a wide variety of options of cars to choose from.\n",
    "- **Dumbtrade** - A stock and crypto watchlist website that not only lets you track the market, but teaches you about it, pursuing the interest of cryptocurrency and the stock market."
   ]
  },
  {
   "attachments": {},
   "cell_type": "markdown",
   "metadata": {},
   "source": [
    "## Projects of Other Classes\n",
    "\n",
    "- **Photography** - Took pictures throughout the trimester, chose their favourite ones for display.\n",
    "- **Digital Media** - Created movie trailers and short films and made mini-posters with links to said shorts.\n",
    "- **Ceramics** - One work that caught my eye was the octopus. The modeling of those tentacles must have been hard!\n",
    "- **AP Studio Art** - Created stunning paintings that were put on display.\n",
    "- **Mixed Media** - Used both digital and hand-made art to create pieces that were presented.\n",
    "- **3D Animation** - For 3DA1, the assignment was a room where the focus was a donut. For 3DA2, the focus was a rigged character.\n",
    "- **CSA** - The project that caught my eye was a code-learning website that gave the user coding-related questions on a timer."
   ]
  }
 ],
 "metadata": {
  "kernelspec": {
   "display_name": "Python 3",
   "language": "python",
   "name": "python3"
  },
  "language_info": {
   "name": "python",
   "version": "3.8.10"
  },
  "orig_nbformat": 4,
  "vscode": {
   "interpreter": {
    "hash": "916dbcbb3f70747c44a77c7bcd40155683ae19c65e1c03b4aa3499c5328201f1"
   }
  }
 },
 "nbformat": 4,
 "nbformat_minor": 2
}
