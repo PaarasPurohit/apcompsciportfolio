{
 "cells": [
  {
   "attachments": {},
   "cell_type": "markdown",
   "metadata": {},
   "source": [
    "# Sorting Algorithm Hacks\n",
    "> My expert algorithm was the selection sort\n",
    "\n",
    "- title: Sorting Algorithm Hacks\n",
    "- toc: true\n",
    "- categories: [units]\n",
    "- permalink: /sorting-algorithm-hacks\n",
    "- tags: [hacks]"
   ]
  },
  {
   "attachments": {},
   "cell_type": "markdown",
   "metadata": {},
   "source": [
    "### Warm Up\n",
    "\n",
    "> Discuss with a partner... \n",
    "What are some strategies you would use to sort this list? (Don't worry about writing code for now)\n",
    "- Bubble sort checks if the next element is less than the pointed element, and swaps the elements if true, which sorts the list from least to greatest\n",
    "- Bogosort randomizes the list until it is sorted.\n",
    "- Selection sort selects a number and moves all higher numbers to the end of the list, sorted from least to greatest."
   ]
  },
  {
   "attachments": {},
   "cell_type": "markdown",
   "metadata": {},
   "source": [
    "### Practice\n",
    "\n",
    "[75, 17, 46, 80, 67, 45, 69, 79, 40, 0]\n",
    "\n",
    "How would you sort this list with... \n",
    "- Bubble Sort\n",
    "- Selection Sort\n",
    "> Explain.\n",
    "\n",
    "> With bubble sort, I see that 17 is less than 75, so I swap 17 and 75. Onto the second element, I see that 46 is less than 75, so I swap 46 and 75. Onto the third element, 80 is greater than 75, stay. 67 is less than 80, swap. 45 is less than 80, swap. 69 is less than 80, swap. 79 is less than 80, swap. 40 is less than 80, swap. 0 is less than 80, swap. Go through the algorithm again, because it is not completely sorted.\n",
    "\n",
    "> With selection sort, I treat 75 as the minimum. 17 is less than the minimum, so insert 17 as the new first element, the new minimum. Go through until I find 0, the new minimum. Then go through the algorithm until we sort the list fully.\n",
    "\n",
    "[88, 39, 53, 39, 58, 43, 74, 81, 71, 51]\n",
    "\n",
    "How would you sort this list with... \n",
    "- Merge Sort\n",
    "- Insertion Sort\n",
    "> Explain.\n",
    "\n",
    "> With insertion sort, it is the same logic as bubble sort, but instead of two elements being inspected at a time, it will be the whole list, which can be thought of as more efficient in some use cases.\n",
    "\n",
    "> With merge sort, we will split the list into [88, 39, 53, 39, 58] and [43, 74, 81, 71, 51]. Split those two down until we have multiple lists with a maximum of two elements, Then in those lists, we sort the numbers, and merge all the sorted lists from least to greatest."
   ]
  },
  {
   "attachments": {},
   "cell_type": "markdown",
   "metadata": {},
   "source": [
    "### Discuss \n",
    "Answer the following with your group.\n",
    "\n",
    "- When should you use each algorithm? What makes an algorithm the right choice?\n",
    "> If we treat the letters in alphabetical order as numbers, the difficulty is about the same, depending on what algorithm we use.\n",
    "- Given the following lists...\n",
    "    - [0, 2, 6, 4, 8, 10]\n",
    "    - [Elephant, Banana, Cat, Dog, Apple]\n",
    "    - [29, 13, 83, 47, 32, 78, 100, 60, 65, 15, 24, 9, 40, 68, 53, 8, 90, 58, 39, 32, 34, 91, 74, 94, 49, 87, 34, 87, 23, 17, 27, 2, 38, 58, 84, 15, 9, 46, 74, 40, 44, 8, 55, 28, 81, 92, 81, 88, 53, 38, 19, 21, 9, 54, 21, 67, 3, 41, 3, 74, 13, 71, 70, 45, 5, 36, 80, 64, 97, 86, 73, 74, 94, 79, 49, 32, 20, 68, 64, 69, 1, 77, 31, 56, 100, 80, 48, 75, 85, 93, 67, 57, 26, 56, 43, 53, 59, 28, 67, 50]\n",
    "Select the algorithm you believe is best for each, explain.\n",
    "\n",
    "> The first and second lists can be of any sorting algorithm since they are small enough to not matter with time complexity. However, while selection, insertion and bubble sorting have a time complexity of O(n^2), merge sort has a complexity of O(logn), making merge sort the best algorithm for the third list."
   ]
  },
  {
   "attachments": {},
   "cell_type": "markdown",
   "metadata": {},
   "source": [
    "### HACKS\n",
    "> Provided below is a Bubble Sort Algorithm sorting a list of dictionaries based off of selected key.\n",
    "\n",
    "- Now it's time to do some coding...\n",
    "\n",
    "- Run code and then research and answer these questions...\n",
    "    - Is a list and/or dictionary in python considered a primitive or collection type?  Why?\n",
    "        - A list and a dictionary are considered collection types rather than primitive types. Primitive types in Python include fundamental data types such as integers, floating-point numbers, booleans, and strings. These types are indivisible and have a fixed size in memory. They are not built from other types but are considered atomic values.\n",
    "    - Is the list passed into bubble sort \"pass-by-value\" or \"pass-by-reference? Describe why in relation to \n",
    "    output.\n",
    "        - In Python, when a list is passed as an argument to the bubble sort algorithm, it is actually passed by reference, which means it behaves as a \"pass-by-reference\" scenario. This is because objects in Python, including lists, are mutable, and their references are passed to functions rather than creating a copy of the entire object.\n",
    "- Implement new cell(s) and/or organize cells to do the following.\n",
    "    - Create your own list\n",
    "    - Use your expertise sorting algorithm (selection, insertion, merge). Note, I got my bubble sort from Geek for Geeks and made modifications. Each student in a group should have a unique algorithm.\n",
    "    - Test your list with my bubble sort\n",
    "    - Test my list with your new sort\n",
    "    - Research analysis on sorting: comparisons, swaps, time.  Build this into your hacks.\n",
    "    - Find a better way to print the data, key first, then other elements in viewable form.\n",
    "\n",
    "Use the code below to help guide your adventure"
   ]
  },
  {
   "cell_type": "code",
   "execution_count": 1,
   "metadata": {},
   "outputs": [
    {
     "name": "stdout",
     "output_type": "stream",
     "text": [
      "Original\n",
      "[{'name': 'Risa', 'age': 18, 'city': 'New York'}, {'name': 'John', 'age': 63, 'city': 'Eugene'}, {'name': 'Shekar', 'age': 18, 'city': 'San Francisco'}, {'name': 'Ryan', 'age': 21, 'city': 'Los Angeles'}]\n",
      "name\n",
      "[{'name': 'John', 'age': 63, 'city': 'Eugene'}, {'name': 'Risa', 'age': 18, 'city': 'New York'}, {'name': 'Ryan', 'age': 21, 'city': 'Los Angeles'}, {'name': 'Shekar', 'age': 18, 'city': 'San Francisco'}]\n",
      "age\n",
      "[{'name': 'Risa', 'age': 18, 'city': 'New York'}, {'name': 'Shekar', 'age': 18, 'city': 'San Francisco'}, {'name': 'Ryan', 'age': 21, 'city': 'Los Angeles'}, {'name': 'John', 'age': 63, 'city': 'Eugene'}]\n",
      "city\n",
      "[{'name': 'John', 'age': 63, 'city': 'Eugene'}, {'name': 'Ryan', 'age': 21, 'city': 'Los Angeles'}, {'name': 'Risa', 'age': 18, 'city': 'New York'}, {'name': 'Shekar', 'age': 18, 'city': 'San Francisco'}]\n"
     ]
    }
   ],
   "source": [
    "\"\"\"\n",
    "* Creator: Nighthawk Coding Society\n",
    "Bubble Sort of a List of Dictionaries with optimizations, every key in row 0 is used to sort and resort list.\n",
    "\"\"\"\n",
    "\n",
    "# bubble sorts a list of dictionaries, base off of provided key\n",
    "def bubbleSort(list, key):\n",
    "    n = len(list) - 1  # list are indexed 0 to n-1, len is n\n",
    "    \n",
    "    # Traverse through list with i index\n",
    "    for i in range(n):\n",
    "        swapped = False  # optimize code, so it exits if now swaps on inner loop\n",
    "\n",
    "        # Inner traversal using j index\n",
    "        for j in range(n-i):  # n-i as positions on right are in order in bubble\n",
    " \n",
    "            # Swap if the element KeyN is greater KeyN1\n",
    "            keyN = list[j].get(key)\n",
    "            keyN1 = list[j+1].get(key)\n",
    "            if keyN > keyN1:\n",
    "                swapped = True\n",
    "                list[j], list[j + 1] = list[j + 1], list[j]  # single line swap\n",
    "         \n",
    "        if not swapped:  # if no swaps on inner pass, list is sorted\n",
    "            return  # exit function\n",
    "    \n",
    "\n",
    "if __name__ == \"__main__\":\n",
    "    # list/dictionary sample\n",
    "    list_of_people = [\n",
    "    {\"name\": \"Risa\", \"age\": 18, \"city\": \"New York\"},\n",
    "    {\"name\": \"John\", \"age\": 63, \"city\": \"Eugene\"},\n",
    "    {\"name\": \"Shekar\", \"age\": 18, \"city\": \"San Francisco\"},\n",
    "    {\"name\": \"Ryan\", \"age\": 21, \"city\": \"Los Angeles\"}\n",
    "    ]\n",
    "    \n",
    "    # assuming uniform keys, pick 1st row as source of keys\n",
    "    key_row = list_of_people[0]\n",
    "\n",
    "    # print list as defined\n",
    "    print(\"Original\")\n",
    "    print(list_of_people)\n",
    "    \n",
    "    for key in key_row:  # finds each key in the row\n",
    "        print(key)\n",
    "        bubbleSort(list_of_people, key)  # sort list of people\n",
    "        print(list_of_people)"
   ]
  },
  {
   "cell_type": "code",
   "execution_count": 1,
   "metadata": {},
   "outputs": [
    {
     "name": "stdout",
     "output_type": "stream",
     "text": [
      "Key: 1, Other Elements: ('x', 'y', 'z')\n",
      "Key: 2, Other Elements: ('a', 'b', 'c')\n",
      "Key: 3, Other Elements: ('c', 'd', 'e')\n",
      "Key: 4, Other Elements: ('m', 'n', 'o')\n"
     ]
    }
   ],
   "source": [
    "# Selection Sort being used incorporating all the hacks #\n",
    "\n",
    "def selection_sort(arr):\n",
    "    n = len(arr)\n",
    "    \n",
    "    for i in range(n):\n",
    "        min_index = i\n",
    "        \n",
    "        for j in range(i+1, n):\n",
    "            if arr[j][0] < arr[min_index][0]:\n",
    "                min_index = j\n",
    "        \n",
    "        if min_index != i:\n",
    "            arr[i], arr[min_index] = arr[min_index], arr[i]\n",
    "    \n",
    "    return arr\n",
    "\n",
    "def print_data(arr):\n",
    "    for item in arr:\n",
    "        print(f\"Key: {item[0]}, Other Elements: {item[1:]}\")\n",
    "\n",
    "data = [(3, 'c', 'd', 'e'), (2, 'a', 'b', 'c'), (1, 'x', 'y', 'z'), (4, 'm', 'n', 'o')]\n",
    "sorted_data = selection_sort(data)\n",
    "print_data(sorted_data)"
   ]
  },
  {
   "attachments": {},
   "cell_type": "markdown",
   "metadata": {},
   "source": [
    "In the code above, the selection_sort function sorts the input array arr using the selection sort algorithm. The array is sorted based on the first element of each item (the key) using comparisons and swaps. The print_data function is used to print the sorted data in a readable format. It iterates over each item in the array and prints the key first, followed by the other elements. You can modify the print statement as per your requirements. In the example usage, we have an input array data containing tuples, each with a key and other elements. The selection_sort function is called to sort the data, and then the sorted data is printed using the print_data function. This shows how my algorithm uses the created list to use selection sort (my expertise sorting algorithm) tested against my sort, and how it uses comparisons, swaps, and the O(n^2) time complexity, as well as printing the data, key, and elements in a viewable form."
   ]
  }
 ],
 "metadata": {
  "kernelspec": {
   "display_name": "base",
   "language": "python",
   "name": "python3"
  },
  "language_info": {
   "codemirror_mode": {
    "name": "ipython",
    "version": 3
   },
   "file_extension": ".py",
   "mimetype": "text/x-python",
   "name": "python",
   "nbconvert_exporter": "python",
   "pygments_lexer": "ipython3",
   "version": "3.9.12"
  },
  "orig_nbformat": 4
 },
 "nbformat": 4,
 "nbformat_minor": 2
}
