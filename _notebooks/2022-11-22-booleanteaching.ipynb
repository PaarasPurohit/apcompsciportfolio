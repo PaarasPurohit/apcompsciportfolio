{
 "cells": [
  {
   "cell_type": "markdown",
   "metadata": {},
   "source": [
    "# Booleans, Conditionals, and Nested Conditionals.\n",
    "##### 3.5 - 3.7 Lessons\n",
    "\n",
    "- title: Booleans, Conditionals, and Nested Conditionals.\n",
    "- toc: true\n",
    "- categories: [tri2lesson]\n",
    "- permalink: /lessons\n",
    "- tags: [tri2lesson]"
   ]
  },
  {
   "cell_type": "markdown",
   "metadata": {},
   "source": [
    "### What is a Boolean?\n",
    "\n",
    "In programming, a boolean is a variable type that is either true or false. One can think of a boolean as a button: When it is on, it returns true, and when it is off, it returns false, as shown below:\n",
    "\n",
    "<button onclick=\"boolean()\">Boolean</button>\n",
    "<p id=\"booleanOutput\" style=\"color:white;\">Text</p>\n",
    "\n",
    "<script>\n",
    "    let state = false;\n",
    "    function boolean() {\n",
    "        state = !state;\n",
    "        if (state) {\n",
    "            document.getElementById(\"booleanOutput\").innerHTML = \"True\";\n",
    "        } else {\n",
    "            document.getElementById(\"booleanOutput\").innerHTML = \"False\";\n",
    "        }\n",
    "    }\n",
    "</script>"
   ]
  },
  {
   "cell_type": "markdown",
   "metadata": {},
   "source": [
    "Booleans are compatible with something called relational operators. This means that booleans can be compared to each other with said relational operators, shown in the code below:"
   ]
  },
  {
   "cell_type": "code",
   "execution_count": 1,
   "metadata": {},
   "outputs": [
    {
     "name": "stdout",
     "output_type": "stream",
     "text": [
      "False\n",
      "True\n",
      "True\n",
      "False\n",
      "True\n",
      "False\n"
     ]
    }
   ],
   "source": [
    "# The operator \"Equal to\" checks if two booleans have the same value.\n",
    "if 1 == 0:\n",
    "    print(\"True\")\n",
    "else:\n",
    "    print(\"False\")\n",
    "    \n",
    "# The operator \"Not equal to\" checks if two booleans do not have the same value.\n",
    "if 1 != 0:\n",
    "    print(\"True\")\n",
    "else:\n",
    "    print(\"False\")\n",
    "    \n",
    "# The operator \"Greater than\" checks if a boolean is greater than another.\n",
    "if 1 > 0:\n",
    "    print(\"True\")\n",
    "else:\n",
    "    print(\"False\")\n",
    "    \n",
    "# The operator \"Less than\" checks if a boolean is less than another.\n",
    "if 1 < 0:\n",
    "    print(\"True\")\n",
    "else:\n",
    "    print(\"False\")\n",
    "    \n",
    "# The operator \"Greater than or equal to\" checks if a boolean is greater than or equal to another\n",
    "if 1 >= 0:\n",
    "    print(\"True\")\n",
    "else:\n",
    "    print(\"False\")\n",
    "    \n",
    "# The operator \"Less than\" checks if a boolean is less than or equal to another.\n",
    "if 1 <= 0:\n",
    "    print(\"True\")\n",
    "else:\n",
    "    print(\"False\")"
   ]
  },
  {
   "cell_type": "markdown",
   "metadata": {},
   "source": [
    "Any condition in an \"if\" statement is technically a boolean. In the code above, \"1 <= 0\" was a boolean that has the value of False, since the number 1 is neither less than or equal to the number 0. However, it should be mentioned that in programming, boolean works for all variable types, such as a string, as shown in the code below:"
   ]
  },
  {
   "cell_type": "code",
   "execution_count": 4,
   "metadata": {},
   "outputs": [
    {
     "name": "stdout",
     "output_type": "stream",
     "text": [
      "The two messages are not the same\n"
     ]
    }
   ],
   "source": [
    "first_message = \"Hello World\"\n",
    "second_message = \"Hello, World!\"\n",
    "\n",
    "if first_message == second_message:\n",
    "    print(\"The two messages are the same\")\n",
    "else:\n",
    "    print(\"The two messages are not the same\")"
   ]
  },
  {
   "cell_type": "markdown",
   "metadata": {},
   "source": [
    "Booleans can be used to check if something returns true or false, whether it be simple programs as the ones above or complex programs found in miscellaneous applications. "
   ]
  },
  {
   "cell_type": "markdown",
   "metadata": {},
   "source": [
    "### What are Conditionals?"
   ]
  }
 ],
 "metadata": {
  "kernelspec": {
   "display_name": "Python 3.8.10 64-bit",
   "language": "python",
   "name": "python3"
  },
  "language_info": {
   "codemirror_mode": {
    "name": "ipython",
    "version": 3
   },
   "file_extension": ".py",
   "mimetype": "text/x-python",
   "name": "python",
   "nbconvert_exporter": "python",
   "pygments_lexer": "ipython3",
   "version": "3.8.10"
  },
  "orig_nbformat": 4,
  "vscode": {
   "interpreter": {
    "hash": "916dbcbb3f70747c44a77c7bcd40155683ae19c65e1c03b4aa3499c5328201f1"
   }
  }
 },
 "nbformat": 4,
 "nbformat_minor": 2
}
