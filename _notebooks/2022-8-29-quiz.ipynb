{
 "cells": [
  {
   "cell_type": "markdown",
   "metadata": {},
   "source": [
    "# Quiz\n",
    "> A simple quiz using what we learned about inputs, outputs, and if statements.\n",
    "\n",
    "- toc: true \n",
    "- badges: true\n",
    "- comments: true\n",
    "- categories: [jupyter]\n",
    "- image: images/chart-preview.png"
   ]
  },
  {
   "cell_type": "code",
   "execution_count": 6,
   "metadata": {},
   "outputs": [
    {
     "name": "stdout",
     "output_type": "stream",
     "text": [
      "You got 2 out of 2.\n"
     ]
    }
   ],
   "source": [
    "def main():\n",
    "    score = 0\n",
    "\n",
    "    firstquestion = input(\"What is 2+2?\")\n",
    "\n",
    "    if firstquestion == \"4\":\n",
    "        score += 1\n",
    "    else:\n",
    "        score -= 1\n",
    "\n",
    "    secondquestion = input(\"What is 1+1?\")\n",
    "\n",
    "    if secondquestion == \"2\":\n",
    "        score += 1\n",
    "    else:\n",
    "        score -= 1\n",
    "\n",
    "    if score < 0:\n",
    "        score = 0\n",
    "    \n",
    "    print(\"You got \" + str(score) + \" out of 2.\")\n",
    "\n",
    "main()"
   ]
  }
 ],
 "metadata": {
  "kernelspec": {
   "display_name": "Python 3.8.10 64-bit",
   "language": "python",
   "name": "python3"
  },
  "language_info": {
   "codemirror_mode": {
    "name": "ipython",
    "version": 3
   },
   "file_extension": ".py",
   "mimetype": "text/x-python",
   "name": "python",
   "nbconvert_exporter": "python",
   "pygments_lexer": "ipython3",
   "version": "3.8.10"
  },
  "orig_nbformat": 4,
  "vscode": {
   "interpreter": {
    "hash": "31f2aee4e71d21fbe5cf8b01ff0e069b9275f58929596ceb00d14d90e3e16cd6"
   }
  }
 },
 "nbformat": 4,
 "nbformat_minor": 2
}
