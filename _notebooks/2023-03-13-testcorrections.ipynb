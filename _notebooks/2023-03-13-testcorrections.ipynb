{
 "cells": [
  {
   "attachments": {},
   "cell_type": "markdown",
   "metadata": {},
   "source": [
    "# Test Corrections\n",
    "\n",
    "- title: Test Corrections\n",
    "- toc: true\n",
    "- categories: [units]\n",
    "- permalink: /test-corrections\n",
    "- tags: [hacks]"
   ]
  },
  {
   "attachments": {},
   "cell_type": "markdown",
   "metadata": {},
   "source": [
    "![image](images/Screenshot%20(37).png)"
   ]
  },
  {
   "attachments": {},
   "cell_type": "markdown",
   "metadata": {},
   "source": [
    "I only got one question wrong.\n",
    "\n",
    "Question:\n",
    "\n",
    "A computer scientist is analyzing four different algorithms used to sort a list. The table below shows the number of steps each algorithm took to sort lists of different sizes.\n",
    "\n",
    "List Size\t\n",
    "Number of Steps\n",
    "\n",
    "for Algorithm A\n",
    "\n",
    "Number of Steps\n",
    "\n",
    "for Algorithm B\n",
    "\n",
    "Number of Steps\n",
    "\n",
    "for Algorithm C\n",
    "\n",
    "Number of Steps\n",
    "\n",
    "for Algorithm D\n",
    "\n",
    "1\t10\t2\t1\t1\n",
    "2\t20\t4\t2\t4\n",
    "3\t30\t8\t6\t9\n",
    "4\t40\t16\t24\t16\n",
    "5\t50\t32\t120\t25\n",
    "Based on the values in the table, which of the algorithms appear to run in reasonable time?\n",
    "\n",
    "Select two answers."
   ]
  },
  {
   "attachments": {},
   "cell_type": "markdown",
   "metadata": {},
   "source": [
    "I said the answer was Algorithm B. The actual answer was A and D."
   ]
  },
  {
   "attachments": {},
   "cell_type": "markdown",
   "metadata": {},
   "source": [
    "As the size of the list grows, the number of steps needed to sort the list grows at an exponential rate, as the number of steps is equal to 2n\n",
    " for a list of size n\n",
    ". This indicates that the algorithm does not run in a reasonable amount of time."
   ]
  }
 ],
 "metadata": {
  "language_info": {
   "name": "python"
  },
  "orig_nbformat": 4
 },
 "nbformat": 4,
 "nbformat_minor": 2
}
