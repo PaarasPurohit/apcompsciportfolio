{
 "cells": [
  {
   "attachments": {},
   "cell_type": "markdown",
   "metadata": {},
   "source": [
    "# Quiz Corrections, Big O Notation\n",
    "\n",
    "- title: Quiz Corrections, Big O Notation\n",
    "- toc: true\n",
    "- categories: [units]\n",
    "- permalink: /quiz-corrections-big-o-notation\n",
    "- tags: [hacks]"
   ]
  },
  {
   "attachments": {},
   "cell_type": "markdown",
   "metadata": {},
   "source": [
    "### Quiz Corrections\n",
    "\n",
    "I only got question 21 wrong. One of my answers was to sort by subject, then sort by year, then filter by photographer. This, however, is incorrect. This sequence of steps does not remove any entries with an unknown year, so the entry in the first row of the spreadsheet will have a year value of -1. The correct answer was to sort by year, then filter by year, then filter by photographer. This option is correct, because sorting by year will sort the spreadsheet on column C from least to greatest. Filtering by year will remove any entries with unknown years. Filtering by photographer will remove any entries with unknown photographers. Since the order of the entries is not affected by the filters, the photograph with the lowest year value will be in the first row of the spreadsheet."
   ]
  },
  {
   "attachments": {},
   "cell_type": "markdown",
   "metadata": {},
   "source": [
    "### Big O Notation:\n",
    "\n",
    "[Image (for text)](https://www.canva.com/design/DAFeQ-r1OQw/gx1kt9tGR3e2hEwGu5LJcQ/edit)\n",
    "\n",
    "\n",
    "![notation-venn](images/Marketing%20Mix%204-Circle%20Venn%20Diagram.jpg)"
   ]
  },
  {
   "cell_type": "code",
   "execution_count": 1,
   "metadata": {},
   "outputs": [
    {
     "name": "stdout",
     "output_type": "stream",
     "text": [
      "1\n"
     ]
    }
   ],
   "source": [
    "# Constant time example:\n",
    "def print_first_element(my_list):\n",
    "    print(my_list[0])\n",
    "\n",
    "print_first_element([1, 2, 3, 4, 5])\n",
    "# No matter how big the list is, the time complexity of the code will not change, as finding the first element is easiest with all lists."
   ]
  },
  {
   "cell_type": "code",
   "execution_count": 2,
   "metadata": {},
   "outputs": [
    {
     "name": "stdout",
     "output_type": "stream",
     "text": [
      "1\n",
      "2\n",
      "3\n",
      "4\n",
      "5\n"
     ]
    }
   ],
   "source": [
    "# Linear time example:\n",
    "def print_all_elements(my_list):\n",
    "    for element in my_list:\n",
    "        print(element)\n",
    "\n",
    "print_all_elements([1, 2, 3, 4, 5])\n",
    "# O(n), where n is the amount of elements, shows how as the list grows, so does the time complexity,\n",
    "# proportionate to each other"
   ]
  },
  {
   "cell_type": "code",
   "execution_count": 3,
   "metadata": {},
   "outputs": [
    {
     "name": "stdout",
     "output_type": "stream",
     "text": [
      "55\n"
     ]
    }
   ],
   "source": [
    "# Exponential time example:\n",
    "def fibonacci(n):\n",
    "    if n == 0:\n",
    "        return 0\n",
    "    elif n == 1:\n",
    "        return 1\n",
    "    else:\n",
    "        return fibonacci(n-1) + fibonacci(n-2)\n",
    "\n",
    "print(fibonacci(10))\n",
    "# Demonstrated here is O(2^n), where n is the number of elements traversed. As n grows, so does the amount \n",
    "# of time it takes to traverse through the necessary elements of lists created to calculate the return\n",
    "# value."
   ]
  },
  {
   "cell_type": "code",
   "execution_count": 4,
   "metadata": {},
   "outputs": [
    {
     "name": "stdout",
     "output_type": "stream",
     "text": [
      "Element is present at index 2\n"
     ]
    }
   ],
   "source": [
    "def binary_search(arr, low, high, x):\n",
    "    if high >= low:\n",
    "        mid = (high + low) // 2\n",
    "        if arr[mid] == x:\n",
    "            return mid\n",
    "        elif arr[mid] > x:\n",
    "            return binary_search(arr, low, mid - 1, x)\n",
    "        else:\n",
    "            return binary_search(arr, mid + 1, high, x)\n",
    "    else:\n",
    "        return -1\n",
    "\n",
    "arr = [1, 3, 5, 7, 9]\n",
    "x = 5\n",
    "\n",
    "result = binary_search(arr, 0, len(arr)-1, x)\n",
    "\n",
    "if result != -1:\n",
    "    print(f\"Element is present at index {result}\")\n",
    "else:\n",
    "    print(\"Element is not present in array\")\n",
    "# O(log(n)) is demonstrated here, as where n is the amount of elements traversed, the time it takes divides \n",
    "# into two, as the searching also does. The recursive search divides into a smaller and smaller task until\n",
    "# there is only one return value possible."
   ]
  }
 ],
 "metadata": {
  "kernelspec": {
   "display_name": "base",
   "language": "python",
   "name": "python3"
  },
  "language_info": {
   "codemirror_mode": {
    "name": "ipython",
    "version": 3
   },
   "file_extension": ".py",
   "mimetype": "text/x-python",
   "name": "python",
   "nbconvert_exporter": "python",
   "pygments_lexer": "ipython3",
   "version": "3.9.12"
  },
  "orig_nbformat": 4
 },
 "nbformat": 4,
 "nbformat_minor": 2
}
