{
 "cells": [
  {
   "attachments": {},
   "cell_type": "markdown",
   "metadata": {},
   "source": [
    "# N&TM\n",
    "\n",
    "- title: N&TM\n",
    "- toc: true\n",
    "- categories: [units]\n",
    "- permalink: /natm\n",
    "- tags: [hacks]"
   ]
  },
  {
   "attachments": {},
   "cell_type": "markdown",
   "metadata": {},
   "source": [
    "- Dynamic Host Configuration Protocol, or simply DHCP, allows hosts to obtain required TCP/IP configuration information from a DHCP server. When this protocol is activated, the client gets its own IP.\n",
    "- Uniform Resource Locator, or simply URL, is the address for any webpage.\n",
    "- Domain Name System, or simply DNS, will convert a URL to an IP address. \n",
    "- The Hypertext Transfer Protocol, or simply HTTP, is the transfer of HTML between servers and devices."
   ]
  }
 ],
 "metadata": {
  "kernelspec": {
   "display_name": "Python 3",
   "language": "python",
   "name": "python3"
  },
  "language_info": {
   "name": "python",
   "version": "3.8.10"
  },
  "orig_nbformat": 4,
  "vscode": {
   "interpreter": {
    "hash": "916dbcbb3f70747c44a77c7bcd40155683ae19c65e1c03b4aa3499c5328201f1"
   }
  }
 },
 "nbformat": 4,
 "nbformat_minor": 2
}
