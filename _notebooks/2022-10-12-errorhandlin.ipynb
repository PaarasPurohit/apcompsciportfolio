{
 "cells": [
  {
   "cell_type": "code",
   "execution_count": 19,
   "metadata": {},
   "outputs": [
    {
     "name": "stdout",
     "output_type": "stream",
     "text": [
      "Menu\n",
      "chicken tikka masala  $49.99\n",
      "extra naan  $19.99\n",
      "mango lassi  $69.99\n",
      "burger  $1.99\n",
      "chicken tikka masala is 49.99\n"
     ]
    },
    {
     "ename": "TypeError",
     "evalue": "unsupported operand type(s) for +=: 'int' and 'str'",
     "output_type": "error",
     "traceback": [
      "\u001b[0;31m---------------------------------------------------------------------------\u001b[0m",
      "\u001b[0;31mTypeError\u001b[0m                                 Traceback (most recent call last)",
      "\u001b[1;32m/home/paaraspurohit/vscode/apcompsciportfolio/_notebooks/2022-10-12-errorhandlin.ipynb Cell 1\u001b[0m in \u001b[0;36m<cell line: 18>\u001b[0;34m()\u001b[0m\n\u001b[1;32m     <a href='vscode-notebook-cell://wsl%2Bubuntu/home/paaraspurohit/vscode/apcompsciportfolio/_notebooks/2022-10-12-errorhandlin.ipynb#W0sdnNjb2RlLXJlbW90ZQ%3D%3D?line=17'>18</a>\u001b[0m \u001b[39mif\u001b[39;00m \u001b[39mstr\u001b[39m(item) \u001b[39m==\u001b[39m \u001b[39m\"\u001b[39m\u001b[39mchicken tikka masala\u001b[39m\u001b[39m\"\u001b[39m:\n\u001b[1;32m     <a href='vscode-notebook-cell://wsl%2Bubuntu/home/paaraspurohit/vscode/apcompsciportfolio/_notebooks/2022-10-12-errorhandlin.ipynb#W0sdnNjb2RlLXJlbW90ZQ%3D%3D?line=18'>19</a>\u001b[0m     \u001b[39mprint\u001b[39m(\u001b[39mstr\u001b[39m(item) \u001b[39m+\u001b[39m \u001b[39m\"\u001b[39m\u001b[39m is \u001b[39m\u001b[39m\"\u001b[39m \u001b[39m+\u001b[39m \u001b[39mstr\u001b[39m(menu[item]))\n\u001b[0;32m---> <a href='vscode-notebook-cell://wsl%2Bubuntu/home/paaraspurohit/vscode/apcompsciportfolio/_notebooks/2022-10-12-errorhandlin.ipynb#W0sdnNjb2RlLXJlbW90ZQ%3D%3D?line=19'>20</a>\u001b[0m     total \u001b[39m+\u001b[39m\u001b[39m=\u001b[39m \u001b[39mstr\u001b[39m(menu[item])\n\u001b[1;32m     <a href='vscode-notebook-cell://wsl%2Bubuntu/home/paaraspurohit/vscode/apcompsciportfolio/_notebooks/2022-10-12-errorhandlin.ipynb#W0sdnNjb2RlLXJlbW90ZQ%3D%3D?line=20'>21</a>\u001b[0m \u001b[39melif\u001b[39;00m \u001b[39mstr\u001b[39m(item) \u001b[39m==\u001b[39m \u001b[39m\"\u001b[39m\u001b[39mextra naan\u001b[39m\u001b[39m\"\u001b[39m:\n\u001b[1;32m     <a href='vscode-notebook-cell://wsl%2Bubuntu/home/paaraspurohit/vscode/apcompsciportfolio/_notebooks/2022-10-12-errorhandlin.ipynb#W0sdnNjb2RlLXJlbW90ZQ%3D%3D?line=21'>22</a>\u001b[0m     \u001b[39mprint\u001b[39m(\u001b[39mstr\u001b[39m(item) \u001b[39m+\u001b[39m \u001b[39m\"\u001b[39m\u001b[39m is \u001b[39m\u001b[39m\"\u001b[39m \u001b[39m+\u001b[39m \u001b[39mstr\u001b[39m(menu[item]))\n",
      "\u001b[0;31mTypeError\u001b[0m: unsupported operand type(s) for +=: 'int' and 'str'"
     ]
    }
   ],
   "source": [
    "menu = {\n",
    "    \"chicken tikka masala\" : 49.99,\n",
    "    \"extra naan\" : 19.99,\n",
    "    \"mango lassi\" : 69.99,\n",
    "    \"burger\" : 1.99\n",
    "}\n",
    "\n",
    "total = 0\n",
    "\n",
    "print(\"Menu\")\n",
    "for k,v in menu.items():\n",
    "    print(k + \"  $\" + str(v))\n",
    "\n",
    "item = \"\"\n",
    "\n",
    "item = input(\"Welcome to the restaurant beta my name is cody smith how can i help you\")\n",
    "\n",
    "if str(item) == \"chicken tikka masala\":\n",
    "    print(str(item) + \" is \" + str(menu[item]))\n",
    "    total += str(menu[item])\n",
    "elif str(item) == \"extra naan\":\n",
    "    print(str(item) + \" is \" + str(menu[item]))\n",
    "elif str(item) == \"Done\":\n",
    "    print(\"Thank you, your total is \" + str(total))\n",
    "else:\n",
    "    print(\"Beta please learn to spell you must have A+ in english\")\n",
    "    \n",
    "    "
   ]
  }
 ],
 "metadata": {
  "kernelspec": {
   "display_name": "Python 3.8.10 64-bit",
   "language": "python",
   "name": "python3"
  },
  "language_info": {
   "codemirror_mode": {
    "name": "ipython",
    "version": 3
   },
   "file_extension": ".py",
   "mimetype": "text/x-python",
   "name": "python",
   "nbconvert_exporter": "python",
   "pygments_lexer": "ipython3",
   "version": "3.8.10"
  },
  "orig_nbformat": 4,
  "vscode": {
   "interpreter": {
    "hash": "916dbcbb3f70747c44a77c7bcd40155683ae19c65e1c03b4aa3499c5328201f1"
   }
  }
 },
 "nbformat": 4,
 "nbformat_minor": 2
}
