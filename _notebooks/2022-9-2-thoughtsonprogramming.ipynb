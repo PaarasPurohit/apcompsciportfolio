{
 "cells": [
  {
   "cell_type": "markdown",
   "metadata": {},
   "source": [
    "# AJ, Paaras, and Haoxuan - Reflections on Programming\n",
    "> AJ Ruiz, Paaras Purohit, and Tong Haoxuan share their thoughts and reflections on their programming journeys\n",
    "\n",
    "- title: AJ, Paaras, and Haoxuan - Reflections on Programming\n",
    "- toc: true\n",
    "- categories: [reflections]\n",
    "- permalink: /programming-reflections\n",
    "- tags: [reflections]"
   ]
  },
  {
   "cell_type": "markdown",
   "metadata": {},
   "source": [
    "## AJ's Story in Programming\n",
    "\n",
    "I don't have a very long history in programming. My first encounter was a coding class in 6th grade. It was only for one trimester and all we did was scratch coding but it was honestly fun. It got me more interested than I already was now that I had somewhat of an idea on what it was. My first and I think only project in scratch was a replica of space invaders. It honestly worked pretty well and I was proud of it, but after that trimester I didn't touch coding for a few years. I never lost interest, I just had other extracurriculars that took the spot instead. in 11th grade (now) I decided to take csp. I have no idea what I want to do after school as a job and coding seems the most interesting to me. I found this website in 10th grade that taught a little coding but I forgot it's name. Right now I'm kinda clueless in this class and I'm not sure if I'm doing the right things in this class but after trying to figure out a piece of code for fun I think I'm confident in my choice of this class. I'll work hard to be able to understand everything going on in this class so I can focus on coding things I enjoy in the future :)"
   ]
  },
  {
   "cell_type": "markdown",
   "metadata": {},
   "source": [
    "## Haoxuan's Story in Programming\n",
    "\n",
    "Hi, my name is Haoxuan Tong, and here is a recount of my programming experiences so far.\n",
    "\n",
    "I started  my journey in programming in middle school, where I followed a python guide book to make some small programs such as a random number guessing game and a cypher encode and decoder. Then I attended a course to make several games such as minesweeper and reversi using the tkinter python module. In High School, I attended course to do competitional programming and was able to pass the USACO Bronze division . Now I'm both taking the APCSP course and learning C++ to pass USACO Silver this year. The course so far had been pretty fun, and learning to make websites with github is pretty interesting. I will try to learn more in the future."
   ]
  },
  {
   "cell_type": "markdown",
   "metadata": {},
   "source": [
    "## Paaras' Story in Programming\n",
    "\n",
    "As of right now, I am fluent in six programming languages, those being Java, Python, C#, HTML, CSS, and JavaScript. Whether that is impressive or not, it did take a journey to get to where I am now. From a young age, I had a passion to create. I knew that whatever it is that I wanted to do with my life, I wanted to create something, anything, that people could enjoy together. My dad found himself working in job that was reliant on computer science, and he did his best to pass his skills to me. Therefore, I started to learn Python at a young age, and around seven, I had a very basic understanding of how programming in Python worked. But, like a lot of programmers in a single-digit age, I started out block coding in Scratch. This programming in Scratch and little knowledge in Python continued for a while. When middle school started, I found myself in a programming club after school, and that is where I started to expand my knowledge of programming. I finished the basics of Python, leaving me with the skills to be fluent enough in the language. Then, I self-taught myself HTML, JavaScript, then CSS. After that, I moved to C++, then back to Python for a while, then Java, to C#, then after C#, I moved on to 6 different languages that I eventually forgot. After sitting with these languages for a while, I came across the means to start making video games with the programming knowledge I had. I followed courses and books on these, and won a few competitions with my new game development skills. After that, I stopped programming for a while, and the only programming I did was solving problems on a competitive level every week or so. I then joined AP Computer Science Principles, hoping to put my programming skills to better use, and I hope to use the skills I learn in this class and do more in the future.\n",
    "\n",
    "While on the path I took, there are some things you learn. For example, don't be a programmer. Programming languages are just tools to do bigger things. Being fluent in a wide array of languages is like being able to use a lot of construction tools, like hammers and wrenches. Be a problem solver. Demonstrate that you can use the tools, the programming languages, to do bigger things, such as create things, solve problems, and make differences. Thank you for listening to our stories, and good luck with your journey!"
   ]
  }
 ],
 "metadata": {
  "kernelspec": {
   "display_name": "Python 3.8.10 64-bit",
   "language": "python",
   "name": "python3"
  },
  "language_info": {
   "name": "python",
   "version": "3.8.10"
  },
  "orig_nbformat": 4,
  "vscode": {
   "interpreter": {
    "hash": "916dbcbb3f70747c44a77c7bcd40155683ae19c65e1c03b4aa3499c5328201f1"
   }
  }
 },
 "nbformat": 4,
 "nbformat_minor": 2
}
