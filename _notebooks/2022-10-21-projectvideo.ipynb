{
 "cells": [
  {
   "cell_type": "markdown",
   "metadata": {},
   "source": [
    "# Project, Week I\n",
    "##### Our plan, code, and understanding of what we need to do.\n",
    "\n",
    "- title: Project Week I\n",
    "- toc: true\n",
    "- categories: [finalproject]\n",
    "- permalink: /project-week-one\n",
    "- tags: [finalproject]\n"
   ]
  },
  {
   "cell_type": "markdown",
   "metadata": {},
   "source": [
    "<a href=\"https://www.youtube.com/watch?v=YMRPjy3ey3c\">Here</a> is the video that we made"
   ]
  },
  {
   "cell_type": "markdown",
   "metadata": {},
   "source": [
    "# Another Thing About Udderly Delectable's Journey\n",
    "\n",
    "While I did not mention it in the video, because it was not in the instructions, I do want to take this time to mention that while we are not always the best at getting things done correctly, we have come a long way. Our purpose has changed a total of _ times. We were first a product placement for milk, then a nutrition promotion website, then a product placement of KFC, then finally we became Inspirivational. My grade dropped in this class, and so did our teams. But while I was working to get my scores up, I realized something. While failing is not a pleasant thing to do, in a way, I'm glad I did. There were indeed those who rejected me because of my failures, but I realized that because our team was at the bottom, the only way to go was to the top. So I made the promise to my teacher that I will use what I have learned in the class to use my time wisely and finish everything on time, with all instructions complete. I also promised my teacher that I will give my best and most visible effort to having a strong finish in this trimester. It really could be anyone reading this, so I want you, reader, to know that you don't necessarily *have* to fail, but you're going to. You're also not going to like it. But if you want to be great, then you won't be in that position for long. Something is gonna happen in your life that will help you get to the top. It'll take your time and effort, but it'll be worth it. Thank you for reading."
   ]
  }
 ],
 "metadata": {
  "kernelspec": {
   "display_name": "Python 3.8.10 64-bit",
   "language": "python",
   "name": "python3"
  },
  "language_info": {
   "name": "python",
   "version": "3.8.10"
  },
  "orig_nbformat": 4,
  "vscode": {
   "interpreter": {
    "hash": "916dbcbb3f70747c44a77c7bcd40155683ae19c65e1c03b4aa3499c5328201f1"
   }
  }
 },
 "nbformat": 4,
 "nbformat_minor": 2
}
