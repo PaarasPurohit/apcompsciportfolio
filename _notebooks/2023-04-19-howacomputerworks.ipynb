{
 "cells": [
  {
   "attachments": {},
   "cell_type": "markdown",
   "metadata": {},
   "source": [
    "# Big Idea 4 - Mr. Yeung's Review\n",
    "> A review of all the things we've learned in Big Idea 4\n",
    "- toc: true\n",
    "- categories: []\n",
    "- type: pbl\n",
    "- week: 27\n",
    "- permalink: /big-idea-four-review"
   ]
  },
  {
   "attachments": {},
   "cell_type": "markdown",
   "metadata": {},
   "source": [
    "### List specification of your Computer, or Computers if working as Pair/Trio\n",
    "- Processor GHz: 7th Gen Intel Core i7 processor with base clock speed of 2.7 GHz.\n",
    "- Memory in GB: 16 GB of LPDDR3 SDRAM.\n",
    "- Storage in GB: Solid-state drive (SSD) storage 256 GB.\n",
    "- OS: Windows 10 Home."
   ]
  },
  {
   "attachments": {},
   "cell_type": "markdown",
   "metadata": {},
   "source": [
    "### Define or describe usage of Computer using Computer Programs. Pictures are preferred over a lot of text. Use your experience.\n",
    "- Input devices: Devices that allow users to input data or commands into a computer, such as a keyboard or mouse.\n",
    "- Output devices: Devices that display or output information from a computer, such as a monitor or printer.\n",
    "- Program File: A file containing the instructions and data required to run a computer program.\n",
    "- Program Code: The instructions written in a programming language that tell a computer what to do.\n",
    "- Processes: A program or set of instructions that is currently being executed by a computer's CPU.\n",
    "- Ports: A physical interface on a computer that allows communication between the computer and other devices, - such as USB or Ethernet ports.\n",
    "- Data File: A file that contains data that can be read or processed by a computer program.\n",
    "- Inspect Running Code: The process of examining the code of a program that is currently running on a computer to debug or troubleshoot issues.\n",
    "- Inspect Variables: The process of examining the values of variables used in a computer program during runtime to debug or troubleshoot issues."
   ]
  },
  {
   "attachments": {},
   "cell_type": "markdown",
   "metadata": {},
   "source": [
    "[Image 1](https://res.cloudinary.com/cybercoders/image/upload/c_scale,g_south_east,l_cc_logo_bug_wenazs.png,w_40/v1557870077/Full_Stack_ebvf4s.png)"
   ]
  },
  {
   "attachments": {},
   "cell_type": "markdown",
   "metadata": {},
   "source": [
    "### Complete the network activity, summarize your understanding of fault tolerance.\n",
    "> As well as the true or false questions:\n",
    "\n",
    "Fault tolerance in computer science refers to the ability of a system to continue functioning properly in the event of hardware or software failures. It involves designing systems with redundancy and failover mechanisms to minimize the impact of faults. This can include using redundant hardware components or implementing backup software processes to ensure continuous operation. Fault tolerance is especially important in critical systems where failures can have serious consequences, such as in aerospace or medical applications. Achieving fault tolerance typically requires significant investment and expertise, but can provide substantial benefits in terms of reliability and availability.\n",
    "\n",
    "T||F:\n",
    "- True\n",
    "- False\n",
    "- False\n",
    "- True"
   ]
  },
  {
   "attachments": {},
   "cell_type": "markdown",
   "metadata": {},
   "source": [
    "### Parallel and Distributed Computing\n",
    "\n",
    "- *What is naturally Distributed in Frontend/Backend archeticture?* In a frontend/backend architecture, the frontend is naturally distributed because it runs on the user's device, while the backend typically runs on centralized servers or a set of servers in data centers. The communication between the frontend and backend is typically done over the internet, which is a distributed network of interconnected devices and servers.\n",
    "- *Analyze this command in Docker: ENV GUNICORN_CMD_ARGS=\"--workers=1 --bind=0.0.0.0:8086\". Determine if there is options are options in this command for parallel computing within the server that runs python/gunicorn.* The command ENV GUNICORN_CMD_ARGS=\"--workers=1 --bind=0.0.0.0:8086\" sets an environment variable for Gunicorn to start with only one worker process. This command does not have options for parallel computing within the server that runs Python/Gunicorn, as only one worker process is specified to handle incoming requests."
   ]
  },
  {
   "cell_type": "code",
   "execution_count": 10,
   "metadata": {},
   "outputs": [
    {
     "name": "stderr",
     "output_type": "stream",
     "text": [
      "2023-05-02 15:39:12,231\tINFO worker.py:1454 -- Calling ray.init() again after it has already been called.\n"
     ]
    },
    {
     "name": "stdout",
     "output_type": "stream",
     "text": [
      "[1, 4, 9, 16, 25]\n"
     ]
    }
   ],
   "source": [
    "# Fixing the Ray parallel programming code #\n",
    "\n",
    "import ray\n",
    "\n",
    "def square(x):\n",
    "    return x * x\n",
    "\n",
    "ray.init(ignore_reinit_error=True)\n",
    "\n",
    "@ray.remote\n",
    "def square_list(nums):\n",
    "    return [square(num) for num in nums]\n",
    "\n",
    "nums = [1, 2, 3, 4, 5]\n",
    "\n",
    "split_idx = len(nums) // 2\n",
    "part1, part2 = nums[:split_idx], nums[split_idx:]\n",
    "\n",
    "part1_result = square_list.remote(part1)\n",
    "part2_result = square_list.remote(part2)\n",
    "\n",
    "result = ray.get(part1_result) + ray.get(part2_result)\n",
    "\n",
    "print(result)"
   ]
  }
 ],
 "metadata": {
  "kernelspec": {
   "display_name": "base",
   "language": "python",
   "name": "python3"
  },
  "language_info": {
   "codemirror_mode": {
    "name": "ipython",
    "version": 3
   },
   "file_extension": ".py",
   "mimetype": "text/x-python",
   "name": "python",
   "nbconvert_exporter": "python",
   "pygments_lexer": "ipython3",
   "version": "3.9.12"
  },
  "orig_nbformat": 4
 },
 "nbformat": 4,
 "nbformat_minor": 2
}
