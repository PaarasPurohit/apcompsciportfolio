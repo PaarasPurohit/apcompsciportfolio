{
 "cells": [
  {
   "attachments": {},
   "cell_type": "markdown",
   "metadata": {},
   "source": [
    "# Big Idea 4 - Hacks\n",
    "\n",
    "- title: Big Idea 4 - Hacks\n",
    "- toc: true\n",
    "- categories: [units]\n",
    "- permalink: /big-idea-four-hacks\n",
    "- tags: [hacks]"
   ]
  },
  {
   "attachments": {},
   "cell_type": "markdown",
   "metadata": {},
   "source": [
    "## Binary Math"
   ]
  },
  {
   "attachments": {},
   "cell_type": "markdown",
   "metadata": {},
   "source": [
    "> All questions answered (0.9)"
   ]
  },
  {
   "attachments": {},
   "cell_type": "markdown",
   "metadata": {},
   "source": [
    "Fill in the blank spots below during the lecture\n",
    " \n",
    "| Opearator   | Name        | Action      |\n",
    "| ----------- | ----------- | ----------- |\n",
    "| &           | AND         | Only true if both are true |\n",
    "|             | OR          | True if at least one is true |\n",
    "| ^           | XOR         | Only returns true if both are true or both are false |\n",
    "| ~           | NOT         | Inverts true to false and false to true |\n",
    "| <<          | Left Shift  | Shifts left, essentially |\n",
    "| >>          | Right Shift | Shifts right, essentially |\n",
    "| >>>         | Zero-fill Right Shift | Goes immediately to the right, essentially. The same applies for the left shift zero-fill |"
   ]
  },
  {
   "attachments": {},
   "cell_type": "markdown",
   "metadata": {},
   "source": [
    "> Bitwise operations are used in a variety of applications, particularly in low-level programming and computer science. Some common used of bitwise operations include:\n",
    "> - Flag Management: Flags are used to keep track of the *state of a system or a program*. Bitwise operations can be used to set, clear, and toggle flags.\n",
    "> - Bit Manipulation: Bitwise operations can be used to __individual bits__ in a binary number. This is often used to **extract** specific bits from a number, set specific bits to a particular value, or flip the value of specific bits.\n",
    "> - Masking: Masking is used to extract a __specific subset of bits__ from a binary number. Bitwise operations are commonly used for masking, particularly in low-level programming.\n",
    "> - Encryption: Bitwise operations can be used in cryptographic applications to scramble and unscramble data. One common application of bitwise operations in encryption is the **XOR** operation.\n",
    "> - Graphics: Bitwise operations can be used in computer graphics to manipulate individual **pixels** on a screen. This can be used to draw shapes, change colors, and create special effects.\n",
    "> - Networking: Bitwise operations are used extensively in **networking** applications, particularly in the handling of IP addresses and port numbers."
   ]
  },
  {
   "attachments": {},
   "cell_type": "markdown",
   "metadata": {},
   "source": [
    "**What are some situations in which binary search could be used?**\n",
    "- Searching a dictionary\n",
    "- Searching a list\n",
    "- Guessing a number\n",
    "- Guessing an element in a list with an index"
   ]
  },
  {
   "attachments": {},
   "cell_type": "markdown",
   "metadata": {},
   "source": [
    "> No quiz (0.9)"
   ]
  },
  {
   "attachments": {},
   "cell_type": "markdown",
   "metadata": {},
   "source": [
    "> Binary Code:"
   ]
  },
  {
   "cell_type": "code",
   "execution_count": 5,
   "metadata": {},
   "outputs": [
    {
     "name": "stdout",
     "output_type": "stream",
     "text": [
      "5\n",
      "+\n",
      "6\n",
      "Result in decimal:  11\n"
     ]
    }
   ],
   "source": [
    "def decimal_to_binary(decimal):\n",
    "    \"\"\"Converts decimal to binary.\"\"\"\n",
    "    binary = bin(decimal)[2:]\n",
    "    return binary\n",
    "\n",
    "def binary_to_decimal(binary):\n",
    "    \"\"\"Converts binary to decimal.\"\"\"\n",
    "    decimal = int(binary, 2)\n",
    "    return decimal\n",
    "\n",
    "def perform_operation(num1, num2, operation):\n",
    "    \"\"\"Performs the given operation on binary numbers and returns the result in decimal.\"\"\"\n",
    "    binary_num1 = decimal_to_binary(num1)\n",
    "    binary_num2 = decimal_to_binary(num2)\n",
    "\n",
    "    if operation == '+':\n",
    "        result = binary_to_decimal(binary_num1) + binary_to_decimal(binary_num2)\n",
    "    elif operation == '-':\n",
    "        result = binary_to_decimal(binary_num1) - binary_to_decimal(binary_num2)\n",
    "    elif operation == '*':\n",
    "        result = binary_to_decimal(binary_num1) * binary_to_decimal(binary_num2)\n",
    "    elif operation == '/':\n",
    "        result = binary_to_decimal(binary_num1) / binary_to_decimal(binary_num2)\n",
    "    else:\n",
    "        print(\"Invalid operation. Please try again.\")\n",
    "        return\n",
    "\n",
    "    return result\n",
    "\n",
    "num1 = int(input(\"Enter the first number: \"))\n",
    "print(num1)\n",
    "operation = input(\"Enter the operation (+, -, *, /): \")\n",
    "print(operation)\n",
    "num2 = int(input(\"Enter the second number: \"))\n",
    "print(num2)\n",
    "\n",
    "result = perform_operation(num1, num2, operation)\n",
    "\n",
    "if result is not None:\n",
    "    print(\"Result in decimal: \", result)\n"
   ]
  },
  {
   "attachments": {},
   "cell_type": "markdown",
   "metadata": {},
   "source": [
    "## SASS and JavaScript"
   ]
  },
  {
   "attachments": {},
   "cell_type": "markdown",
   "metadata": {},
   "source": [
    "### JavaScript"
   ]
  },
  {
   "attachments": {},
   "cell_type": "markdown",
   "metadata": {},
   "source": [
    "> A takeaway from this lesson that I didn't know before: Identifying keys and values. Here is how I answered the question here (0.9):\n",
    "\n",
    "Object\n",
    "- Identify the name/keys in the object below: __name__, __breed__, __age__, __color__\n",
    "- Identify the values in the object below: __Elly__, __Rottweiler__, __4__, __black__\n",
    "\n",
    "> Questions (0.9)\n",
    "\n",
    "1. Where do you store the JavaScript Code?\n",
    "\n",
    "*Either in a \".js\" file or using the ```script``` tag*\n",
    "\n",
    "2. How do you import a JS file into HTML?\n",
    "\n",
    "*You can use the syntax: ```<script src=\"script.js\"></script>``` at the end of the html body.*\n",
    "\n",
    "3. What is onClick?\n",
    "\n",
    "*Onclick is an attribute in the ```<button>``` element that allows for a JavaScript function to be called when the button is clicked or pressed by the user.*\n",
    "\n",
    "4. What tag do you use to write JavaScript code?\n",
    "\n",
    "*As mentioned, you can use the ```<script>``` tag to write JavaScript code in an HTML document or write JavaScript in another \".js\" file and reference it in your HTML document using the ```src=\"\"``` attribute.*"
   ]
  },
  {
   "attachments": {},
   "cell_type": "markdown",
   "metadata": {},
   "source": [
    "> Coding a JavaScript Game (0.9). For this hack, I remade Pong using JavaScript and the ```<canvas>``` tag in HTML."
   ]
  },
  {
   "cell_type": "code",
   "execution_count": null,
   "metadata": {
    "vscode": {
     "languageId": "javascript"
    }
   },
   "outputs": [],
   "source": [
    "// If needed, I can explain all of the code detailed in a live review.\n",
    "\n",
    "const canvas = document.getElementById('pong');\n",
    "const ctx = canvas.getContext('2d');\n",
    "\n",
    "const ball = {\n",
    "  x: canvas.width / 2,\n",
    "  y: canvas.height / 2,\n",
    "  radius: 10,\n",
    "  speedX: 2,\n",
    "  speedY: 2,\n",
    "  draw: function() {\n",
    "    ctx.beginPath();\n",
    "    ctx.arc(this.x, this.y, this.radius, 0, Math.PI * 2);\n",
    "    ctx.fillStyle = '#fff';\n",
    "    ctx.fill();\n",
    "    ctx.closePath();\n",
    "  }\n",
    "};\n",
    "\n",
    "const paddleWidth = 15;\n",
    "const paddleHeight = 60;\n",
    "\n",
    "const paddleA = {\n",
    "  x: 0,\n",
    "  y: canvas.height / 2 - paddleHeight / 2,\n",
    "  width: paddleWidth,\n",
    "  height: paddleHeight,\n",
    "  speedY: 2,\n",
    "  draw: function() {\n",
    "    ctx.fillStyle = '#fff';\n",
    "    ctx.fillRect(this.x, this.y, this.width, this.height);\n",
    "  }\n",
    "};\n",
    "\n",
    "const paddleB = {\n",
    "  x: canvas.width - paddleWidth,\n",
    "  y: canvas.height / 2 - paddleHeight / 2,\n",
    "  width: paddleWidth,\n",
    "  height: paddleHeight,\n",
    "  speedY: 2,\n",
    "  draw: function() {\n",
    "    ctx.fillStyle = '#fff';\n",
    "    ctx.fillRect(this.x, this.y, this.width, this.height);\n",
    "  }\n",
    "};\n",
    "\n",
    "function update() {\n",
    "  ctx.clearRect(0, 0, canvas.width, canvas.height);\n",
    "  \n",
    "  ball.x += ball.speedX;\n",
    "  ball.y += ball.speedY;\n",
    "  \n",
    "  if (ball.y < ball.radius || ball.y > canvas.height - ball.radius) {\n",
    "    ball.speedY *= -1;\n",
    "  }\n",
    "  \n",
    "  if (ball.x < 0) {\n",
    "    ball.x = canvas.width / 2;\n",
    "    ball.y = canvas.height / 2;\n",
    "    ball.speedX = 2;\n",
    "    ball.speedY = 2;\n",
    "  } else if (ball.x > canvas.width) {\n",
    "    ball.x = canvas.width / 2;\n",
    "    ball.y = canvas.height / 2;\n",
    "    ball.speedX = -2;\n",
    "    ball.speedY = -2;\n",
    "  }\n",
    "  \n",
    "  ball.draw();\n",
    "  paddleA.draw();\n",
    "  paddleB.draw();\n",
    "  \n",
    "  requestAnimationFrame(update);\n",
    "}\n",
    "\n",
    "update();\n"
   ]
  },
  {
   "attachments": {},
   "cell_type": "markdown",
   "metadata": {},
   "source": [
    "### SASS"
   ]
  },
  {
   "attachments": {},
   "cell_type": "markdown",
   "metadata": {},
   "source": [
    "> Questions Answered (0.45): \n",
    "\n",
    "1. What is nesting in SASS?\n",
    "\n",
    "Nesting refers to the practice of nesting CSS rules within other CSS rules, which allows for more organized and hierarchical styling of HTML elements. Nesting is one of the features of SASS that makes it a powerful and efficient CSS preprocessor. SASS allows you to write CSS rules in a nested structure, where child selectors are written inside their parent selectors. This creates a visual hierarchy that is easier to read and understand, and also helps to avoid repetitive code.\n",
    "\n",
    "2. What are similarities and differences you notice about the buttons?\n",
    "\n",
    "The buttons are all the same width and height, but they are different colors and one of them is a radial gradient.\n",
    "\n",
    "3. What is extending and inheritance in SASS?\n",
    "\n",
    "Extending or inheritance is a feature that allows you to define a CSS rule or selector with common styles, and then extend or inherit those styles in other CSS rules or selectors. This helps in creating reusable styles and reduces code duplication. In SASS, you can use the @extend directive to extend a CSS rule or selector from one place to another.\n",
    "\n",
    "4. What is a Mixin in SASS?\n",
    "\n",
    "A mixin is a reusable block of code that can be defined once and then included or \"mixed in\" to multiple CSS rules or selectors. Mixins in SASS are similar to functions or procedures in programming languages, allowing you to define a block of styles and then reuse it in multiple places in your CSS code. Mixins in SASS are defined using the @mixin directive, and they can accept parameters, allowing you to create dynamic styles.\n",
    "\n",
    "5. What is a function in SASS?\n",
    "\n",
    "A function is a reusable piece of code that can be defined once and then called with arguments to perform calculations or generate values dynamically. Functions in SASS are similar to functions in programming languages and can be used to create dynamic styles or perform calculations on values. SASS provides a set of built-in functions, such as rgb(), rgba(), darken(), lighten(), mix(), round(), percentage(), etc., which can be used to perform various operations on color values, numeric values, strings, and other data types. In addition to the built-in functions, SASS allows you to define your own custom functions using the @function directive.\n",
    "\n",
    "6. What is importing in SASS?\n",
    "\n",
    "The @import directive is used to include the contents of one SASS file into another. It is a way to modularize your CSS code and split it into separate files for better organization, reusability, and maintainability. The @import directive allows you to include the styles from one SASS file into another, similar to how you might use import in other programming languages. When the SASS compiler processes a file with an @import directive, it imports the contents of the specified file and combines them into a single CSS output."
   ]
  },
  {
   "attachments": {},
   "cell_type": "markdown",
   "metadata": {},
   "source": [
    "> Mini-Hacks Completed (0.45):\n",
    "\n",
    "1. CSS:\n",
    "```\n",
    ".a .b {\n",
    "    color: green;\n",
    "}\n",
    "\n",
    ".a .c {\n",
    "    color: blue;\n",
    "}\n",
    "```\n",
    "SASS: \n",
    "```\n",
    ".a {\n",
    "  .b {\n",
    "    color: green;\n",
    "  }\n",
    "\n",
    "  .c {\n",
    "    color: blue;\n",
    "  }\n",
    "} \n",
    "```"
   ]
  },
  {
   "attachments": {},
   "cell_type": "markdown",
   "metadata": {},
   "source": [
    "2. Write out a mixin in SASS that takes in a color and a font size as the parameter. Within the mixin, set the background color and font color to the color parameter, and set the font size to the font size parameter. Then create a selector that calls the mixin, and pass in a color and font size of your choice as the arguments.\n",
    "\n",
    "My choice of font size and color respectively are 25px and black.\n",
    "\n",
    "```\n",
    "@mixin customStyles($color, $font-size) {\n",
    "  background-color: $color;\n",
    "  color: $color;\n",
    "  font-size: $font-size;\n",
    "}\n",
    "\n",
    ".my-element {\n",
    "  @include customStyles(black, 25px); // Call the mixin and pass in values for parameters\n",
    "}\n",
    "```"
   ]
  },
  {
   "attachments": {},
   "cell_type": "markdown",
   "metadata": {},
   "source": [
    "> Multiple-choice answers (0.9):\n",
    "\n",
    "1. B\n",
    "2. A\n",
    "3. A\n",
    "4. B\n",
    "5. D\n",
    "6. B\n",
    "7. B"
   ]
  },
  {
   "attachments": {},
   "cell_type": "markdown",
   "metadata": {},
   "source": [
    "> Using SASS to demonstrate @extend and @mixin (0.9):\n",
    "\n",
    "```\n",
    "@mixin customButton {\n",
    "  background-color: blue;\n",
    "  color: white;\n",
    "  padding: 10px;\n",
    "  font-size: 16px;\n",
    "  text-align: center;\n",
    "}\n",
    "\n",
    ".button {\n",
    "  @include customButton;\n",
    "}\n",
    "\n",
    ".submit-button {\n",
    "  @extend .button;\n",
    "  background-color: green;\n",
    "}\n",
    "\n",
    ".cancel-button {\n",
    "  @extend .button;\n",
    "  background-color: red;\n",
    "}\n",
    "```"
   ]
  },
  {
   "attachments": {},
   "cell_type": "markdown",
   "metadata": {},
   "source": [
    "> Extra Credit: Researching more features of SASS:\n",
    "\n",
    "```\n",
    "/* Define a variable */\n",
    "$primary-color: #ff5500;\n",
    "\n",
    "/* Use SASS color functions */\n",
    ".container {\n",
    "  background-color: darken($primary-color, 10%);\n",
    "  color: complement($primary-color);\n",
    "  border: 1px solid lighten($primary-color, 20%);\n",
    "}\n",
    "\n",
    "/* Use SASS control directives */\n",
    "@for $i from 1 through 5 {\n",
    "  .element-#{$i} {\n",
    "    font-size: $i * 10px;\n",
    "  }\n",
    "}\n",
    "\n",
    "/* Use SASS parent selector */\n",
    ".parent {\n",
    "  .child {\n",
    "    &:hover {\n",
    "      color: red;\n",
    "    }\n",
    "    &::after {\n",
    "      content: \" (Child)\";\n",
    "    }\n",
    "  }\n",
    "}\n",
    "\n",
    "/* Use SASS placeholder selector */\n",
    "%my-placeholder {\n",
    "  font-style: italic;\n",
    "}\n",
    "\n",
    ".my-element {\n",
    "  @extend %my-placeholder;\n",
    "  font-weight: bold;\n",
    "}\n",
    "```\n",
    "In the above example, we make use of features of SASS you probably didn't know:\n",
    "\n",
    "1. SASS color functions: We use color functions like darken(), complement(), and lighten() to dynamically manipulate colors based on the $primary-color variable.\n",
    "\n",
    "2. SASS control directives: We use the @for directive to loop through a range of numbers and generate CSS classes with different font sizes.\n",
    "\n",
    "3. SASS parent selector: We use the & selector to reference the parent selector within nested selectors, allowing us to generate more specific CSS rules based on the parent selector.\n",
    "\n",
    "4. SASS placeholder selector: We define a placeholder selector %my-placeholder which is not output in the final CSS, but can be extended using the @extend directive to share styles among multiple selectors without generating redundant CSS code."
   ]
  },
  {
   "attachments": {},
   "cell_type": "markdown",
   "metadata": {},
   "source": [
    "## Data Analysis with Pandas and Numpy"
   ]
  },
  {
   "attachments": {},
   "cell_type": "markdown",
   "metadata": {},
   "source": [
    "> Blanks Filled (0.15):\n",
    "\n",
    "Predictive analysis is the use of *statistical*, data mining, and machine learning techniques to analyze current and historical data in order to make predictions about future events or behaviors. It involves identifying *patterns* and trends in data, and then using that information to forecast what is likely to happen in the future.\n",
    "\n",
    "Predictive analysis is used in a wide range of applications, from forecasting sales and demand, to predicting customer behavior, to detecting fraudulent transactions. It involves collecting and analyzing data from a variety of sources, including historical data, customer data, financial data, and social media data, among others.\n",
    "\n",
    "The process of predictive analysis typically involves the following steps:\n",
    "1. Defining the problem and identifying the relevant data sources\n",
    "2. *Collecting and cleaning data*\n",
    "3. Exploring and analyzing the data to identify patterns and trends\n",
    "4. Selecting an appropriate model or algorithm to use for predictions\n",
    "5. Training and validating the model using historical data\n",
    "6. *Using the model to make new predictions*\n",
    "7. Monitoring and evaluating the performance of the model over time\n",
    "\n",
    "Predictive analysis can help organizations make more informed decisions, improve efficiency, and gain a competitive advantage by leveraging insights from data.\n",
    "\n",
    "It is most commonly used in *retail*, where workers try to predict which products would be most popular and try to advertise those products as much as possible, and also *healthcare*, where algorithms analyze patterns and reveal prerequisites for diseases and suggest preventive treatment, predict the results of various treatments and choose the best option for each patient individually, and predict disease outbreaks and epidemics.\n",
    "\n",
    "An array is the central **data structure** of the NumPy library. They are used as **containers** which are able to store more than one item at the same time. Using the function ```np.array``` is used to create an array, in which you can create multidimensional arrays. \n",
    "\n",
    "One of the most basic operations that can be performed on arrays is **arithmetic operations**. With numpy, it is very easy to perform arithmetic operations on arrays. You can **add, subtract, multiply, and divide** arrays, just like you would with regular numbers. When performing these operations, numpy applies the operation element-wise, meaning that it performs the operation on each element in the array separately. This makes it easy to perform operations on large amounts of data quickly and efficiently.\n",
    "\n",
    "Numpy provides a convenient and powerful way to perform data analysis tasks on **large datasets**. One of the most common tasks in data analysis is finding the **mean, median, and standard deviation** of a dataset. Numpy provides functions to perform these operations quickly and easily. The mean function calculates the average value of the data, while the median function calculates the middle value in the data. The standard deviation function calculates how spread out the data is from the mean. Additionally, numpy provides functions to find the minimum and maximum values in the data. These functions are very useful for gaining insight into the properties of large datasets and can be used for a wide range of data analysis tasks."
   ]
  },
  {
   "attachments": {},
   "cell_type": "markdown",
   "metadata": {},
   "source": [
    "> Popcorn Hacks Completed (0.15):\n",
    "\n",
    "1. How could you create a 3D array based on knowing how to make a 1D array?"
   ]
  },
  {
   "cell_type": "code",
   "execution_count": 6,
   "metadata": {},
   "outputs": [
    {
     "name": "stdout",
     "output_type": "stream",
     "text": [
      "1\n",
      "2\n",
      "3\n"
     ]
    }
   ],
   "source": [
    "# Create a 3D array with dimensions 3x4x2\n",
    "array_3d = [[[0 for _ in range(2)] for _ in range(4)] for _ in range(3)]\n",
    "\n",
    "array_3d[0][0][0] = 1\n",
    "array_3d[1][2][1] = 2\n",
    "array_3d[2][3][0] = 3\n",
    "\n",
    "print(array_3d[0][0][0])\n",
    "print(array_3d[1][2][1])\n",
    "print(array_3d[2][3][0])"
   ]
  },
  {
   "attachments": {},
   "cell_type": "markdown",
   "metadata": {},
   "source": [
    "2. Now from learning this, can you find a different way from how we can solve the sum or products of a dataset other than how we learned before? Create a different way of solving the sum or products of a dataset from what we learned."
   ]
  },
  {
   "cell_type": "code",
   "execution_count": 7,
   "metadata": {},
   "outputs": [
    {
     "name": "stdout",
     "output_type": "stream",
     "text": [
      "Dataset: [1 2 3 4 5]\n",
      "Sum using sum(): 15\n",
      "Sum using array indexing: 15\n",
      "Product using prod(): 120\n",
      "Product using array indexing and multiplication: 120\n"
     ]
    }
   ],
   "source": [
    "import numpy as np\n",
    "\n",
    "data = np.array([1, 2, 3, 4, 5])\n",
    "\n",
    "sum_data = np.sum(data)\n",
    "sum_data_manual = np.sum(data[:])\n",
    "\n",
    "product_data = np.prod(data)\n",
    "product_data_manual = np.prod(data[:])\n",
    "\n",
    "print(\"Dataset:\", data)\n",
    "print(\"Sum using sum():\", sum_data)\n",
    "print(\"Sum using array indexing:\", sum_data_manual)\n",
    "print(\"Product using prod():\", product_data)\n",
    "print(\"Product using array indexing and multiplication:\", product_data_manual)"
   ]
  },
  {
   "attachments": {},
   "cell_type": "markdown",
   "metadata": {},
   "source": [
    "> Dataset with Panda and NumPy:"
   ]
  },
  {
   "cell_type": "code",
   "execution_count": null,
   "metadata": {},
   "outputs": [],
   "source": [
    "import pandas as pd\n",
    "import numpy as np\n",
    "\n",
    "# Pandas Hacks #\n",
    "\n",
    "df = pd.read_csv('files/padres.csv').sort_values(by=['Name'], ascending=False)\n",
    "\n",
    "print(\"--Duration Top 10---------\")\n",
    "print(df.head(10))\n",
    "\n",
    "print(\"--Duration Bottom 10------\")\n",
    "print(df.tail(10))\n",
    "print(', '.join(df.tail(10)))\n",
    "\n",
    "# What's happening in the code? \n",
    "\n",
    "# Since this is code from the lesson, to actually complete the hacks, I will explain what is happening in\n",
    "# the code. First, we import the Pandas library. Then, we use Pandas to read the CSV file and collect the\n",
    "# data, sorting it by name. Then, we use the Pandas head() method with a parameter of 10 to get the top\n",
    "# 10 datasets. To do the inverse, we use the tail() method with the same parameter to get the 10 at the\n",
    "# bottom. Finally, we use the string's join() method to format the dataset so that it is more readable.\n",
    "# A misconception someone might have is that the join() method is part of Pandas. However, it is actually\n",
    "# part of Python's built in string methods. Overall, I got the maximum and mininum values, sorted the\n",
    "# dataset, and had the datasets merged.\n",
    "\n",
    "\n",
    "# NumPy Hacks #\n",
    "\n",
    "\n",
    "# Random number generator:\n",
    "random_number = np.random.rand()\n",
    "print(\"Random number:\", random_number)\n",
    "\n",
    "# 5-dimensional array:\n",
    "array_5d = np.zeros((2, 3, 4, 5, 6))\n",
    "print(\"Shape of 5D array:\", array_5d.shape)\n",
    "\n",
    "# Array with linearly spaced intervals between values\n",
    "start = 1\n",
    "stop = 5\n",
    "num = 10\n",
    "lin_space_array = np.linspace(start, stop, num)\n",
    "print(\"Linearly spaced array:\", lin_space_array)"
   ]
  },
  {
   "attachments": {},
   "cell_type": "markdown",
   "metadata": {},
   "source": [
    "## Simulations and SQLite"
   ]
  },
  {
   "cell_type": "code",
   "execution_count": null,
   "metadata": {},
   "outputs": [],
   "source": [
    "######## Simulation Homework ########\n",
    "import random\n",
    "\n",
    "counts = {1: 0, 2: 0, 3: 0, 4: 0, 5: 0, 6: 0}\n",
    "\n",
    "for i in range(100):\n",
    "    roll = random.randint(1, 6)\n",
    "    counts[roll] += 1\n",
    "    print(f\"Roll {i + 1}: {roll}\")\n",
    "\n",
    "print(\"\\nCounts:\")\n",
    "for face, count in counts.items():\n",
    "    print(f\"Face {face}: {count} rolls\")"
   ]
  }
 ],
 "metadata": {
  "kernelspec": {
   "display_name": "base",
   "language": "python",
   "name": "python3"
  },
  "language_info": {
   "codemirror_mode": {
    "name": "ipython",
    "version": 3
   },
   "file_extension": ".py",
   "mimetype": "text/x-python",
   "name": "python",
   "nbconvert_exporter": "python",
   "pygments_lexer": "ipython3",
   "version": "3.9.12"
  },
  "orig_nbformat": 4
 },
 "nbformat": 4,
 "nbformat_minor": 2
}
