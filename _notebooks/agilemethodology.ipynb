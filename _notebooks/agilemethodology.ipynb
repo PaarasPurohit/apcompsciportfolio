{
 "cells": [
  {
   "cell_type": "markdown",
   "metadata": {},
   "source": [
    "# Agile Methodology\n",
    "\n",
    "\n",
    "- Scrum Master Samarth - He was responsible for making sure everyone was on task and communication was always active. He was basically the leader of our team.\n",
    "\n",
    "- Frontend Developer AJ - He was responsible for designing the user interface of the application, meaning everything the user could interact with\n",
    "\n",
    "- Backend Developer Haoxuan - He was responsible for the backend work, meaning everything that was important but the user could not interact with\n",
    "\n",
    "- DevOps Paaras - He was responsible for putting everything all together and in charge of the final deployment."
   ]
  }
 ],
 "metadata": {
  "language_info": {
   "name": "python"
  },
  "orig_nbformat": 4
 },
 "nbformat": 4,
 "nbformat_minor": 2
}
